{
 "cells": [
  {
   "cell_type": "code",
   "execution_count": 4,
   "metadata": {},
   "outputs": [],
   "source": [
    "import numpy as np\n",
    "import sklearn as sk\n",
    "import matplotlib\n",
    "import matplotlib.pyplot as plt\n",
    "import scipy.stats\n",
    "from sklearn.linear_model import LinearRegression\n",
    "import pandas as pd\n",
    "matplotlib.rcParams['figure.figsize'] = (8,6)\n",
    "import seaborn as sns\n",
    "from mpl_toolkits.mplot3d import Axes3D\n",
    "import pandas as pd\n",
    "sns.set()"
   ]
  },
  {
   "cell_type": "code",
   "execution_count": 2,
   "metadata": {},
   "outputs": [],
   "source": [
    "import numpy as np\n",
    "from scipy.stats import norm\n",
    "from scipy.optimize import minimize\n",
    "\n",
    "\n",
    "mkt_price = np.array([[6.5757, 2.8223, 0.6335], \n",
    "                      [8.1165, 4.3850, 1.7263],\n",
    "                      [6.0865, 3.1820, 1.2317], \n",
    "                      [7.7710, 4.7369, 2.4165]])\n",
    "\n",
    "def bs_price(sigma, S, T, K, r=0.0411):\n",
    "    K = K.reshape(12)\n",
    "    T = T.reshape(12)\n",
    "    d1 = (np.log(S/K) + (r + sigma ** 2 / 2) * T) / sigma / np.sqrt(T)\n",
    "    d2 = d1 - sigma * np.sqrt(T)\n",
    "    return S * norm.cdf(d1) - K * np.exp(-r * T) * norm.cdf(d2)\n",
    "    \n",
    "def loss_fun(sigma, S, T, K, r=0.0411, mkt = mkt_price.reshape(12)):\n",
    "    return np.sum((bs_price(sigma, S, T, K, r) - mkt) ** 2)\n",
    "    \n",
    "    \n",
    "def imp_vol(S, T, K, r=0.0411):\n",
    "    result = minimize(loss_fun, np.zeros(12)+0.1, (S, T, K), method='BFGS')\n",
    "    return result\n",
    "\n",
    "T = np.repeat(np.array([[0.25], [0.5], [0.75], [1]]), 3, axis=1)\n",
    "K = np.array([np.arange(95, 110, 5), np.arange(95, 110, 5), np.arange(100, 115, 5), np.arange(100, 115, 5)])\n",
    "implied_vol = imp_vol(100, T, K)\n",
    "vol_surface = implied_vol.x.reshape(4,3)"
   ]
  },
  {
   "cell_type": "code",
   "execution_count": 3,
   "metadata": {},
   "outputs": [
    {
     "data": {
      "text/plain": [
       "array([[0.13198525, 0.11464017, 0.09921521],\n",
       "       [0.13414201, 0.11706636, 0.10274535],\n",
       "       [0.12949108, 0.11546319, 0.10177602],\n",
       "       [0.14149475, 0.12777405, 0.11432678]])"
      ]
     },
     "execution_count": 3,
     "metadata": {},
     "output_type": "execute_result"
    }
   ],
   "source": [
    "vol_surface"
   ]
  },
  {
   "cell_type": "code",
   "execution_count": 105,
   "metadata": {},
   "outputs": [],
   "source": [
    "from scipy.interpolate import RectBivariateSpline"
   ]
  },
  {
   "cell_type": "code",
   "execution_count": 221,
   "metadata": {},
   "outputs": [],
   "source": [
    "vs = pd.DataFrame(vol_surface, index=[0.25, 0.50, 0.75, 1.00], columns=[-5, 0, 5])"
   ]
  },
  {
   "cell_type": "code",
   "execution_count": 222,
   "metadata": {},
   "outputs": [
    {
     "data": {
      "text/html": [
       "<div>\n",
       "<style scoped>\n",
       "    .dataframe tbody tr th:only-of-type {\n",
       "        vertical-align: middle;\n",
       "    }\n",
       "\n",
       "    .dataframe tbody tr th {\n",
       "        vertical-align: top;\n",
       "    }\n",
       "\n",
       "    .dataframe thead th {\n",
       "        text-align: right;\n",
       "    }\n",
       "</style>\n",
       "<table border=\"1\" class=\"dataframe\">\n",
       "  <thead>\n",
       "    <tr style=\"text-align: right;\">\n",
       "      <th></th>\n",
       "      <th>-5</th>\n",
       "      <th>0</th>\n",
       "      <th>5</th>\n",
       "    </tr>\n",
       "  </thead>\n",
       "  <tbody>\n",
       "    <tr>\n",
       "      <th>0.25</th>\n",
       "      <td>0.131985</td>\n",
       "      <td>0.114640</td>\n",
       "      <td>0.099215</td>\n",
       "    </tr>\n",
       "    <tr>\n",
       "      <th>0.50</th>\n",
       "      <td>0.134142</td>\n",
       "      <td>0.117066</td>\n",
       "      <td>0.102745</td>\n",
       "    </tr>\n",
       "    <tr>\n",
       "      <th>0.75</th>\n",
       "      <td>0.129491</td>\n",
       "      <td>0.115463</td>\n",
       "      <td>0.101776</td>\n",
       "    </tr>\n",
       "    <tr>\n",
       "      <th>1.00</th>\n",
       "      <td>0.141495</td>\n",
       "      <td>0.127774</td>\n",
       "      <td>0.114327</td>\n",
       "    </tr>\n",
       "  </tbody>\n",
       "</table>\n",
       "</div>"
      ],
      "text/plain": [
       "            -5         0         5\n",
       "0.25  0.131985  0.114640  0.099215\n",
       "0.50  0.134142  0.117066  0.102745\n",
       "0.75  0.129491  0.115463  0.101776\n",
       "1.00  0.141495  0.127774  0.114327"
      ]
     },
     "execution_count": 222,
     "metadata": {},
     "output_type": "execute_result"
    }
   ],
   "source": [
    "vs"
   ]
  },
  {
   "cell_type": "code",
   "execution_count": 238,
   "metadata": {},
   "outputs": [],
   "source": [
    "def data_points_interploate(vs, kind='cubic'):\n",
    "    \n",
    "    test_x = np.arange(0.25, 1.05, .05)\n",
    "    test_y = np.arange(95, 105.5, .5)\n",
    "    RectBivariateSpline(x=vs.index.values, y=vs.columns.values, z=vs.values, kx=3, ky=2)\n",
    "    data_test = pd.DataFrame(f(test_x, test_y).T, index=test_y, columns=test_x)\n",
    "    return data_test"
   ]
  },
  {
   "cell_type": "code",
   "execution_count": 239,
   "metadata": {},
   "outputs": [],
   "source": [
    "data_inter = data_points_interploate(vs)"
   ]
  },
  {
   "cell_type": "code",
   "execution_count": 240,
   "metadata": {},
   "outputs": [
    {
     "data": {
      "text/html": [
       "<div>\n",
       "<style scoped>\n",
       "    .dataframe tbody tr th:only-of-type {\n",
       "        vertical-align: middle;\n",
       "    }\n",
       "\n",
       "    .dataframe tbody tr th {\n",
       "        vertical-align: top;\n",
       "    }\n",
       "\n",
       "    .dataframe thead th {\n",
       "        text-align: right;\n",
       "    }\n",
       "</style>\n",
       "<table border=\"1\" class=\"dataframe\">\n",
       "  <thead>\n",
       "    <tr style=\"text-align: right;\">\n",
       "      <th></th>\n",
       "      <th>0.25</th>\n",
       "      <th>0.3</th>\n",
       "      <th>0.35</th>\n",
       "      <th>0.39999999999999997</th>\n",
       "      <th>0.44999999999999996</th>\n",
       "      <th>0.49999999999999994</th>\n",
       "      <th>0.5499999999999999</th>\n",
       "      <th>0.5999999999999999</th>\n",
       "      <th>0.6499999999999999</th>\n",
       "      <th>0.7</th>\n",
       "      <th>0.7499999999999999</th>\n",
       "      <th>0.7999999999999998</th>\n",
       "      <th>0.8499999999999999</th>\n",
       "      <th>0.8999999999999999</th>\n",
       "      <th>0.9499999999999998</th>\n",
       "      <th>0.9999999999999998</th>\n",
       "    </tr>\n",
       "  </thead>\n",
       "  <tbody>\n",
       "    <tr>\n",
       "      <th>95.0</th>\n",
       "      <td>0.131985</td>\n",
       "      <td>0.133274</td>\n",
       "      <td>0.134134</td>\n",
       "      <td>0.134565</td>\n",
       "      <td>0.134568</td>\n",
       "      <td>0.134142</td>\n",
       "      <td>0.133287</td>\n",
       "      <td>0.132004</td>\n",
       "      <td>0.130448</td>\n",
       "      <td>0.129558</td>\n",
       "      <td>0.129491</td>\n",
       "      <td>0.130247</td>\n",
       "      <td>0.131825</td>\n",
       "      <td>0.134225</td>\n",
       "      <td>0.137449</td>\n",
       "      <td>0.141495</td>\n",
       "    </tr>\n",
       "    <tr>\n",
       "      <th>95.5</th>\n",
       "      <td>0.130164</td>\n",
       "      <td>0.131406</td>\n",
       "      <td>0.132242</td>\n",
       "      <td>0.132671</td>\n",
       "      <td>0.132694</td>\n",
       "      <td>0.132310</td>\n",
       "      <td>0.131521</td>\n",
       "      <td>0.130324</td>\n",
       "      <td>0.128872</td>\n",
       "      <td>0.128072</td>\n",
       "      <td>0.128073</td>\n",
       "      <td>0.128876</td>\n",
       "      <td>0.130482</td>\n",
       "      <td>0.132889</td>\n",
       "      <td>0.136099</td>\n",
       "      <td>0.140110</td>\n",
       "    </tr>\n",
       "    <tr>\n",
       "      <th>96.0</th>\n",
       "      <td>0.128363</td>\n",
       "      <td>0.129563</td>\n",
       "      <td>0.130377</td>\n",
       "      <td>0.130806</td>\n",
       "      <td>0.130849</td>\n",
       "      <td>0.130507</td>\n",
       "      <td>0.129778</td>\n",
       "      <td>0.128664</td>\n",
       "      <td>0.127310</td>\n",
       "      <td>0.126593</td>\n",
       "      <td>0.126658</td>\n",
       "      <td>0.127507</td>\n",
       "      <td>0.129138</td>\n",
       "      <td>0.131552</td>\n",
       "      <td>0.134749</td>\n",
       "      <td>0.138729</td>\n",
       "    </tr>\n",
       "    <tr>\n",
       "      <th>96.5</th>\n",
       "      <td>0.126580</td>\n",
       "      <td>0.127744</td>\n",
       "      <td>0.128540</td>\n",
       "      <td>0.128970</td>\n",
       "      <td>0.129034</td>\n",
       "      <td>0.128730</td>\n",
       "      <td>0.128060</td>\n",
       "      <td>0.127023</td>\n",
       "      <td>0.125760</td>\n",
       "      <td>0.125121</td>\n",
       "      <td>0.125247</td>\n",
       "      <td>0.126138</td>\n",
       "      <td>0.127793</td>\n",
       "      <td>0.130214</td>\n",
       "      <td>0.133399</td>\n",
       "      <td>0.137350</td>\n",
       "    </tr>\n",
       "    <tr>\n",
       "      <th>97.0</th>\n",
       "      <td>0.124817</td>\n",
       "      <td>0.125949</td>\n",
       "      <td>0.126731</td>\n",
       "      <td>0.127164</td>\n",
       "      <td>0.127247</td>\n",
       "      <td>0.126981</td>\n",
       "      <td>0.126366</td>\n",
       "      <td>0.125401</td>\n",
       "      <td>0.124223</td>\n",
       "      <td>0.123657</td>\n",
       "      <td>0.123839</td>\n",
       "      <td>0.124769</td>\n",
       "      <td>0.126448</td>\n",
       "      <td>0.128875</td>\n",
       "      <td>0.132050</td>\n",
       "      <td>0.135974</td>\n",
       "    </tr>\n",
       "    <tr>\n",
       "      <th>97.5</th>\n",
       "      <td>0.123073</td>\n",
       "      <td>0.124178</td>\n",
       "      <td>0.124949</td>\n",
       "      <td>0.125387</td>\n",
       "      <td>0.125490</td>\n",
       "      <td>0.125260</td>\n",
       "      <td>0.124696</td>\n",
       "      <td>0.123798</td>\n",
       "      <td>0.122699</td>\n",
       "      <td>0.122200</td>\n",
       "      <td>0.122435</td>\n",
       "      <td>0.123402</td>\n",
       "      <td>0.125102</td>\n",
       "      <td>0.127535</td>\n",
       "      <td>0.130701</td>\n",
       "      <td>0.134600</td>\n",
       "    </tr>\n",
       "    <tr>\n",
       "      <th>98.0</th>\n",
       "      <td>0.121348</td>\n",
       "      <td>0.122431</td>\n",
       "      <td>0.123195</td>\n",
       "      <td>0.123638</td>\n",
       "      <td>0.123762</td>\n",
       "      <td>0.123566</td>\n",
       "      <td>0.123050</td>\n",
       "      <td>0.122214</td>\n",
       "      <td>0.121188</td>\n",
       "      <td>0.120751</td>\n",
       "      <td>0.121033</td>\n",
       "      <td>0.122035</td>\n",
       "      <td>0.123755</td>\n",
       "      <td>0.126194</td>\n",
       "      <td>0.129352</td>\n",
       "      <td>0.133230</td>\n",
       "    </tr>\n",
       "    <tr>\n",
       "      <th>98.5</th>\n",
       "      <td>0.119642</td>\n",
       "      <td>0.120709</td>\n",
       "      <td>0.121468</td>\n",
       "      <td>0.121920</td>\n",
       "      <td>0.122064</td>\n",
       "      <td>0.121900</td>\n",
       "      <td>0.121429</td>\n",
       "      <td>0.120650</td>\n",
       "      <td>0.119690</td>\n",
       "      <td>0.119310</td>\n",
       "      <td>0.119636</td>\n",
       "      <td>0.120668</td>\n",
       "      <td>0.122407</td>\n",
       "      <td>0.124852</td>\n",
       "      <td>0.128004</td>\n",
       "      <td>0.131862</td>\n",
       "    </tr>\n",
       "    <tr>\n",
       "      <th>99.0</th>\n",
       "      <td>0.117956</td>\n",
       "      <td>0.119011</td>\n",
       "      <td>0.119769</td>\n",
       "      <td>0.120230</td>\n",
       "      <td>0.120394</td>\n",
       "      <td>0.120261</td>\n",
       "      <td>0.119831</td>\n",
       "      <td>0.119104</td>\n",
       "      <td>0.118204</td>\n",
       "      <td>0.117875</td>\n",
       "      <td>0.118242</td>\n",
       "      <td>0.119303</td>\n",
       "      <td>0.121059</td>\n",
       "      <td>0.123509</td>\n",
       "      <td>0.126655</td>\n",
       "      <td>0.130496</td>\n",
       "    </tr>\n",
       "    <tr>\n",
       "      <th>99.5</th>\n",
       "      <td>0.116288</td>\n",
       "      <td>0.117337</td>\n",
       "      <td>0.118097</td>\n",
       "      <td>0.118569</td>\n",
       "      <td>0.118754</td>\n",
       "      <td>0.118650</td>\n",
       "      <td>0.118258</td>\n",
       "      <td>0.117578</td>\n",
       "      <td>0.116732</td>\n",
       "      <td>0.116449</td>\n",
       "      <td>0.116851</td>\n",
       "      <td>0.117937</td>\n",
       "      <td>0.119709</td>\n",
       "      <td>0.122166</td>\n",
       "      <td>0.125307</td>\n",
       "      <td>0.129134</td>\n",
       "    </tr>\n",
       "    <tr>\n",
       "      <th>100.0</th>\n",
       "      <td>0.114640</td>\n",
       "      <td>0.115687</td>\n",
       "      <td>0.116453</td>\n",
       "      <td>0.116938</td>\n",
       "      <td>0.117143</td>\n",
       "      <td>0.117066</td>\n",
       "      <td>0.116709</td>\n",
       "      <td>0.116071</td>\n",
       "      <td>0.115272</td>\n",
       "      <td>0.115030</td>\n",
       "      <td>0.115463</td>\n",
       "      <td>0.116573</td>\n",
       "      <td>0.118359</td>\n",
       "      <td>0.120821</td>\n",
       "      <td>0.123960</td>\n",
       "      <td>0.127774</td>\n",
       "    </tr>\n",
       "    <tr>\n",
       "      <th>100.5</th>\n",
       "      <td>0.113011</td>\n",
       "      <td>0.114061</td>\n",
       "      <td>0.114836</td>\n",
       "      <td>0.115336</td>\n",
       "      <td>0.115561</td>\n",
       "      <td>0.115510</td>\n",
       "      <td>0.115185</td>\n",
       "      <td>0.114583</td>\n",
       "      <td>0.113825</td>\n",
       "      <td>0.113618</td>\n",
       "      <td>0.114079</td>\n",
       "      <td>0.115209</td>\n",
       "      <td>0.117008</td>\n",
       "      <td>0.119476</td>\n",
       "      <td>0.122612</td>\n",
       "      <td>0.126417</td>\n",
       "    </tr>\n",
       "    <tr>\n",
       "      <th>101.0</th>\n",
       "      <td>0.111402</td>\n",
       "      <td>0.112460</td>\n",
       "      <td>0.113247</td>\n",
       "      <td>0.113764</td>\n",
       "      <td>0.114008</td>\n",
       "      <td>0.113982</td>\n",
       "      <td>0.113684</td>\n",
       "      <td>0.113115</td>\n",
       "      <td>0.112391</td>\n",
       "      <td>0.112214</td>\n",
       "      <td>0.112699</td>\n",
       "      <td>0.113846</td>\n",
       "      <td>0.115656</td>\n",
       "      <td>0.118129</td>\n",
       "      <td>0.121265</td>\n",
       "      <td>0.125063</td>\n",
       "    </tr>\n",
       "    <tr>\n",
       "      <th>101.5</th>\n",
       "      <td>0.109811</td>\n",
       "      <td>0.110883</td>\n",
       "      <td>0.111686</td>\n",
       "      <td>0.112220</td>\n",
       "      <td>0.112485</td>\n",
       "      <td>0.112481</td>\n",
       "      <td>0.112208</td>\n",
       "      <td>0.111666</td>\n",
       "      <td>0.110970</td>\n",
       "      <td>0.110817</td>\n",
       "      <td>0.111321</td>\n",
       "      <td>0.112484</td>\n",
       "      <td>0.114304</td>\n",
       "      <td>0.116782</td>\n",
       "      <td>0.119918</td>\n",
       "      <td>0.123711</td>\n",
       "    </tr>\n",
       "    <tr>\n",
       "      <th>102.0</th>\n",
       "      <td>0.108240</td>\n",
       "      <td>0.109330</td>\n",
       "      <td>0.110152</td>\n",
       "      <td>0.110706</td>\n",
       "      <td>0.110991</td>\n",
       "      <td>0.111007</td>\n",
       "      <td>0.110756</td>\n",
       "      <td>0.110235</td>\n",
       "      <td>0.109562</td>\n",
       "      <td>0.109427</td>\n",
       "      <td>0.109947</td>\n",
       "      <td>0.111122</td>\n",
       "      <td>0.112950</td>\n",
       "      <td>0.115433</td>\n",
       "      <td>0.118571</td>\n",
       "      <td>0.122362</td>\n",
       "    </tr>\n",
       "    <tr>\n",
       "      <th>102.5</th>\n",
       "      <td>0.106688</td>\n",
       "      <td>0.107802</td>\n",
       "      <td>0.108646</td>\n",
       "      <td>0.109221</td>\n",
       "      <td>0.109526</td>\n",
       "      <td>0.109562</td>\n",
       "      <td>0.109328</td>\n",
       "      <td>0.108824</td>\n",
       "      <td>0.108166</td>\n",
       "      <td>0.108046</td>\n",
       "      <td>0.108577</td>\n",
       "      <td>0.109761</td>\n",
       "      <td>0.111596</td>\n",
       "      <td>0.114084</td>\n",
       "      <td>0.117224</td>\n",
       "      <td>0.121016</td>\n",
       "    </tr>\n",
       "    <tr>\n",
       "      <th>103.0</th>\n",
       "      <td>0.105155</td>\n",
       "      <td>0.106297</td>\n",
       "      <td>0.107167</td>\n",
       "      <td>0.107765</td>\n",
       "      <td>0.108090</td>\n",
       "      <td>0.108143</td>\n",
       "      <td>0.107924</td>\n",
       "      <td>0.107432</td>\n",
       "      <td>0.106784</td>\n",
       "      <td>0.106671</td>\n",
       "      <td>0.107210</td>\n",
       "      <td>0.108400</td>\n",
       "      <td>0.110241</td>\n",
       "      <td>0.112734</td>\n",
       "      <td>0.115878</td>\n",
       "      <td>0.119673</td>\n",
       "    </tr>\n",
       "    <tr>\n",
       "      <th>103.5</th>\n",
       "      <td>0.103641</td>\n",
       "      <td>0.104817</td>\n",
       "      <td>0.105716</td>\n",
       "      <td>0.106338</td>\n",
       "      <td>0.106684</td>\n",
       "      <td>0.106752</td>\n",
       "      <td>0.106544</td>\n",
       "      <td>0.106060</td>\n",
       "      <td>0.105414</td>\n",
       "      <td>0.105304</td>\n",
       "      <td>0.105846</td>\n",
       "      <td>0.107040</td>\n",
       "      <td>0.108886</td>\n",
       "      <td>0.111383</td>\n",
       "      <td>0.114532</td>\n",
       "      <td>0.118332</td>\n",
       "    </tr>\n",
       "    <tr>\n",
       "      <th>104.0</th>\n",
       "      <td>0.102147</td>\n",
       "      <td>0.103361</td>\n",
       "      <td>0.104292</td>\n",
       "      <td>0.104941</td>\n",
       "      <td>0.105306</td>\n",
       "      <td>0.105389</td>\n",
       "      <td>0.105189</td>\n",
       "      <td>0.104706</td>\n",
       "      <td>0.104057</td>\n",
       "      <td>0.103945</td>\n",
       "      <td>0.104486</td>\n",
       "      <td>0.105681</td>\n",
       "      <td>0.107529</td>\n",
       "      <td>0.110031</td>\n",
       "      <td>0.113186</td>\n",
       "      <td>0.116994</td>\n",
       "    </tr>\n",
       "    <tr>\n",
       "      <th>104.5</th>\n",
       "      <td>0.100671</td>\n",
       "      <td>0.101929</td>\n",
       "      <td>0.102896</td>\n",
       "      <td>0.103573</td>\n",
       "      <td>0.103958</td>\n",
       "      <td>0.104053</td>\n",
       "      <td>0.103858</td>\n",
       "      <td>0.103372</td>\n",
       "      <td>0.102713</td>\n",
       "      <td>0.102593</td>\n",
       "      <td>0.103129</td>\n",
       "      <td>0.104322</td>\n",
       "      <td>0.106172</td>\n",
       "      <td>0.108678</td>\n",
       "      <td>0.111840</td>\n",
       "      <td>0.115659</td>\n",
       "    </tr>\n",
       "    <tr>\n",
       "      <th>105.0</th>\n",
       "      <td>0.099215</td>\n",
       "      <td>0.100521</td>\n",
       "      <td>0.101528</td>\n",
       "      <td>0.102234</td>\n",
       "      <td>0.102640</td>\n",
       "      <td>0.102745</td>\n",
       "      <td>0.102551</td>\n",
       "      <td>0.102057</td>\n",
       "      <td>0.101382</td>\n",
       "      <td>0.101249</td>\n",
       "      <td>0.101776</td>\n",
       "      <td>0.102964</td>\n",
       "      <td>0.104814</td>\n",
       "      <td>0.107324</td>\n",
       "      <td>0.110495</td>\n",
       "      <td>0.114327</td>\n",
       "    </tr>\n",
       "  </tbody>\n",
       "</table>\n",
       "</div>"
      ],
      "text/plain": [
       "           0.25      0.30      0.35      0.40      0.45      0.50      0.55  \\\n",
       "95.0   0.131985  0.133274  0.134134  0.134565  0.134568  0.134142  0.133287   \n",
       "95.5   0.130164  0.131406  0.132242  0.132671  0.132694  0.132310  0.131521   \n",
       "96.0   0.128363  0.129563  0.130377  0.130806  0.130849  0.130507  0.129778   \n",
       "96.5   0.126580  0.127744  0.128540  0.128970  0.129034  0.128730  0.128060   \n",
       "97.0   0.124817  0.125949  0.126731  0.127164  0.127247  0.126981  0.126366   \n",
       "97.5   0.123073  0.124178  0.124949  0.125387  0.125490  0.125260  0.124696   \n",
       "98.0   0.121348  0.122431  0.123195  0.123638  0.123762  0.123566  0.123050   \n",
       "98.5   0.119642  0.120709  0.121468  0.121920  0.122064  0.121900  0.121429   \n",
       "99.0   0.117956  0.119011  0.119769  0.120230  0.120394  0.120261  0.119831   \n",
       "99.5   0.116288  0.117337  0.118097  0.118569  0.118754  0.118650  0.118258   \n",
       "100.0  0.114640  0.115687  0.116453  0.116938  0.117143  0.117066  0.116709   \n",
       "100.5  0.113011  0.114061  0.114836  0.115336  0.115561  0.115510  0.115185   \n",
       "101.0  0.111402  0.112460  0.113247  0.113764  0.114008  0.113982  0.113684   \n",
       "101.5  0.109811  0.110883  0.111686  0.112220  0.112485  0.112481  0.112208   \n",
       "102.0  0.108240  0.109330  0.110152  0.110706  0.110991  0.111007  0.110756   \n",
       "102.5  0.106688  0.107802  0.108646  0.109221  0.109526  0.109562  0.109328   \n",
       "103.0  0.105155  0.106297  0.107167  0.107765  0.108090  0.108143  0.107924   \n",
       "103.5  0.103641  0.104817  0.105716  0.106338  0.106684  0.106752  0.106544   \n",
       "104.0  0.102147  0.103361  0.104292  0.104941  0.105306  0.105389  0.105189   \n",
       "104.5  0.100671  0.101929  0.102896  0.103573  0.103958  0.104053  0.103858   \n",
       "105.0  0.099215  0.100521  0.101528  0.102234  0.102640  0.102745  0.102551   \n",
       "\n",
       "           0.60      0.65      0.70      0.75      0.80      0.85      0.90  \\\n",
       "95.0   0.132004  0.130448  0.129558  0.129491  0.130247  0.131825  0.134225   \n",
       "95.5   0.130324  0.128872  0.128072  0.128073  0.128876  0.130482  0.132889   \n",
       "96.0   0.128664  0.127310  0.126593  0.126658  0.127507  0.129138  0.131552   \n",
       "96.5   0.127023  0.125760  0.125121  0.125247  0.126138  0.127793  0.130214   \n",
       "97.0   0.125401  0.124223  0.123657  0.123839  0.124769  0.126448  0.128875   \n",
       "97.5   0.123798  0.122699  0.122200  0.122435  0.123402  0.125102  0.127535   \n",
       "98.0   0.122214  0.121188  0.120751  0.121033  0.122035  0.123755  0.126194   \n",
       "98.5   0.120650  0.119690  0.119310  0.119636  0.120668  0.122407  0.124852   \n",
       "99.0   0.119104  0.118204  0.117875  0.118242  0.119303  0.121059  0.123509   \n",
       "99.5   0.117578  0.116732  0.116449  0.116851  0.117937  0.119709  0.122166   \n",
       "100.0  0.116071  0.115272  0.115030  0.115463  0.116573  0.118359  0.120821   \n",
       "100.5  0.114583  0.113825  0.113618  0.114079  0.115209  0.117008  0.119476   \n",
       "101.0  0.113115  0.112391  0.112214  0.112699  0.113846  0.115656  0.118129   \n",
       "101.5  0.111666  0.110970  0.110817  0.111321  0.112484  0.114304  0.116782   \n",
       "102.0  0.110235  0.109562  0.109427  0.109947  0.111122  0.112950  0.115433   \n",
       "102.5  0.108824  0.108166  0.108046  0.108577  0.109761  0.111596  0.114084   \n",
       "103.0  0.107432  0.106784  0.106671  0.107210  0.108400  0.110241  0.112734   \n",
       "103.5  0.106060  0.105414  0.105304  0.105846  0.107040  0.108886  0.111383   \n",
       "104.0  0.104706  0.104057  0.103945  0.104486  0.105681  0.107529  0.110031   \n",
       "104.5  0.103372  0.102713  0.102593  0.103129  0.104322  0.106172  0.108678   \n",
       "105.0  0.102057  0.101382  0.101249  0.101776  0.102964  0.104814  0.107324   \n",
       "\n",
       "           0.95      1.00  \n",
       "95.0   0.137449  0.141495  \n",
       "95.5   0.136099  0.140110  \n",
       "96.0   0.134749  0.138729  \n",
       "96.5   0.133399  0.137350  \n",
       "97.0   0.132050  0.135974  \n",
       "97.5   0.130701  0.134600  \n",
       "98.0   0.129352  0.133230  \n",
       "98.5   0.128004  0.131862  \n",
       "99.0   0.126655  0.130496  \n",
       "99.5   0.125307  0.129134  \n",
       "100.0  0.123960  0.127774  \n",
       "100.5  0.122612  0.126417  \n",
       "101.0  0.121265  0.125063  \n",
       "101.5  0.119918  0.123711  \n",
       "102.0  0.118571  0.122362  \n",
       "102.5  0.117224  0.121016  \n",
       "103.0  0.115878  0.119673  \n",
       "103.5  0.114532  0.118332  \n",
       "104.0  0.113186  0.116994  \n",
       "104.5  0.111840  0.115659  \n",
       "105.0  0.110495  0.114327  "
      ]
     },
     "execution_count": 240,
     "metadata": {},
     "output_type": "execute_result"
    }
   ],
   "source": [
    "data_inter"
   ]
  },
  {
   "cell_type": "code",
   "execution_count": null,
   "metadata": {},
   "outputs": [],
   "source": []
  },
  {
   "cell_type": "code",
   "execution_count": 249,
   "metadata": {},
   "outputs": [],
   "source": [
    "def surface_plot_2(df_temp, **kwargs):\n",
    "    \n",
    "    df_temp = df_temp.unstack().reset_index()\n",
    "    df_temp.columns = [\"X\",\"Y\",\"Z\"]\n",
    "    fig = plt.figure()\n",
    "    ax = fig.gca(projection='3d')\n",
    "    surf = ax.plot_trisurf(df_temp['Y'] - 100, df_temp['X'], df_temp['Z'], cmap=plt.cm.viridis, linewidth=0.2)\n",
    "    ax.view_init(10, 60)\n",
    "    fig.colorbar(surf, shrink=0.5, aspect=5)\n",
    "    plt.title('Vol Surface Plot')\n",
    "    ax.set_xlabel('Forward Strike Difference')\n",
    "    ax.set_ylabel('Maturity')\n",
    "    ax.set_zlabel('Implied Volatility')\n",
    "    plt.show()"
   ]
  },
  {
   "cell_type": "code",
   "execution_count": 251,
   "metadata": {
    "scrolled": false
   },
   "outputs": [
    {
     "data": {
      "application/javascript": [
       "/* Put everything inside the global mpl namespace */\n",
       "window.mpl = {};\n",
       "\n",
       "\n",
       "mpl.get_websocket_type = function() {\n",
       "    if (typeof(WebSocket) !== 'undefined') {\n",
       "        return WebSocket;\n",
       "    } else if (typeof(MozWebSocket) !== 'undefined') {\n",
       "        return MozWebSocket;\n",
       "    } else {\n",
       "        alert('Your browser does not have WebSocket support.' +\n",
       "              'Please try Chrome, Safari or Firefox ≥ 6. ' +\n",
       "              'Firefox 4 and 5 are also supported but you ' +\n",
       "              'have to enable WebSockets in about:config.');\n",
       "    };\n",
       "}\n",
       "\n",
       "mpl.figure = function(figure_id, websocket, ondownload, parent_element) {\n",
       "    this.id = figure_id;\n",
       "\n",
       "    this.ws = websocket;\n",
       "\n",
       "    this.supports_binary = (this.ws.binaryType != undefined);\n",
       "\n",
       "    if (!this.supports_binary) {\n",
       "        var warnings = document.getElementById(\"mpl-warnings\");\n",
       "        if (warnings) {\n",
       "            warnings.style.display = 'block';\n",
       "            warnings.textContent = (\n",
       "                \"This browser does not support binary websocket messages. \" +\n",
       "                    \"Performance may be slow.\");\n",
       "        }\n",
       "    }\n",
       "\n",
       "    this.imageObj = new Image();\n",
       "\n",
       "    this.context = undefined;\n",
       "    this.message = undefined;\n",
       "    this.canvas = undefined;\n",
       "    this.rubberband_canvas = undefined;\n",
       "    this.rubberband_context = undefined;\n",
       "    this.format_dropdown = undefined;\n",
       "\n",
       "    this.image_mode = 'full';\n",
       "\n",
       "    this.root = $('<div/>');\n",
       "    this._root_extra_style(this.root)\n",
       "    this.root.attr('style', 'display: inline-block');\n",
       "\n",
       "    $(parent_element).append(this.root);\n",
       "\n",
       "    this._init_header(this);\n",
       "    this._init_canvas(this);\n",
       "    this._init_toolbar(this);\n",
       "\n",
       "    var fig = this;\n",
       "\n",
       "    this.waiting = false;\n",
       "\n",
       "    this.ws.onopen =  function () {\n",
       "            fig.send_message(\"supports_binary\", {value: fig.supports_binary});\n",
       "            fig.send_message(\"send_image_mode\", {});\n",
       "            if (mpl.ratio != 1) {\n",
       "                fig.send_message(\"set_dpi_ratio\", {'dpi_ratio': mpl.ratio});\n",
       "            }\n",
       "            fig.send_message(\"refresh\", {});\n",
       "        }\n",
       "\n",
       "    this.imageObj.onload = function() {\n",
       "            if (fig.image_mode == 'full') {\n",
       "                // Full images could contain transparency (where diff images\n",
       "                // almost always do), so we need to clear the canvas so that\n",
       "                // there is no ghosting.\n",
       "                fig.context.clearRect(0, 0, fig.canvas.width, fig.canvas.height);\n",
       "            }\n",
       "            fig.context.drawImage(fig.imageObj, 0, 0);\n",
       "        };\n",
       "\n",
       "    this.imageObj.onunload = function() {\n",
       "        fig.ws.close();\n",
       "    }\n",
       "\n",
       "    this.ws.onmessage = this._make_on_message_function(this);\n",
       "\n",
       "    this.ondownload = ondownload;\n",
       "}\n",
       "\n",
       "mpl.figure.prototype._init_header = function() {\n",
       "    var titlebar = $(\n",
       "        '<div class=\"ui-dialog-titlebar ui-widget-header ui-corner-all ' +\n",
       "        'ui-helper-clearfix\"/>');\n",
       "    var titletext = $(\n",
       "        '<div class=\"ui-dialog-title\" style=\"width: 100%; ' +\n",
       "        'text-align: center; padding: 3px;\"/>');\n",
       "    titlebar.append(titletext)\n",
       "    this.root.append(titlebar);\n",
       "    this.header = titletext[0];\n",
       "}\n",
       "\n",
       "\n",
       "\n",
       "mpl.figure.prototype._canvas_extra_style = function(canvas_div) {\n",
       "\n",
       "}\n",
       "\n",
       "\n",
       "mpl.figure.prototype._root_extra_style = function(canvas_div) {\n",
       "\n",
       "}\n",
       "\n",
       "mpl.figure.prototype._init_canvas = function() {\n",
       "    var fig = this;\n",
       "\n",
       "    var canvas_div = $('<div/>');\n",
       "\n",
       "    canvas_div.attr('style', 'position: relative; clear: both; outline: 0');\n",
       "\n",
       "    function canvas_keyboard_event(event) {\n",
       "        return fig.key_event(event, event['data']);\n",
       "    }\n",
       "\n",
       "    canvas_div.keydown('key_press', canvas_keyboard_event);\n",
       "    canvas_div.keyup('key_release', canvas_keyboard_event);\n",
       "    this.canvas_div = canvas_div\n",
       "    this._canvas_extra_style(canvas_div)\n",
       "    this.root.append(canvas_div);\n",
       "\n",
       "    var canvas = $('<canvas/>');\n",
       "    canvas.addClass('mpl-canvas');\n",
       "    canvas.attr('style', \"left: 0; top: 0; z-index: 0; outline: 0\")\n",
       "\n",
       "    this.canvas = canvas[0];\n",
       "    this.context = canvas[0].getContext(\"2d\");\n",
       "\n",
       "    var backingStore = this.context.backingStorePixelRatio ||\n",
       "\tthis.context.webkitBackingStorePixelRatio ||\n",
       "\tthis.context.mozBackingStorePixelRatio ||\n",
       "\tthis.context.msBackingStorePixelRatio ||\n",
       "\tthis.context.oBackingStorePixelRatio ||\n",
       "\tthis.context.backingStorePixelRatio || 1;\n",
       "\n",
       "    mpl.ratio = (window.devicePixelRatio || 1) / backingStore;\n",
       "\n",
       "    var rubberband = $('<canvas/>');\n",
       "    rubberband.attr('style', \"position: absolute; left: 0; top: 0; z-index: 1;\")\n",
       "\n",
       "    var pass_mouse_events = true;\n",
       "\n",
       "    canvas_div.resizable({\n",
       "        start: function(event, ui) {\n",
       "            pass_mouse_events = false;\n",
       "        },\n",
       "        resize: function(event, ui) {\n",
       "            fig.request_resize(ui.size.width, ui.size.height);\n",
       "        },\n",
       "        stop: function(event, ui) {\n",
       "            pass_mouse_events = true;\n",
       "            fig.request_resize(ui.size.width, ui.size.height);\n",
       "        },\n",
       "    });\n",
       "\n",
       "    function mouse_event_fn(event) {\n",
       "        if (pass_mouse_events)\n",
       "            return fig.mouse_event(event, event['data']);\n",
       "    }\n",
       "\n",
       "    rubberband.mousedown('button_press', mouse_event_fn);\n",
       "    rubberband.mouseup('button_release', mouse_event_fn);\n",
       "    // Throttle sequential mouse events to 1 every 20ms.\n",
       "    rubberband.mousemove('motion_notify', mouse_event_fn);\n",
       "\n",
       "    rubberband.mouseenter('figure_enter', mouse_event_fn);\n",
       "    rubberband.mouseleave('figure_leave', mouse_event_fn);\n",
       "\n",
       "    canvas_div.on(\"wheel\", function (event) {\n",
       "        event = event.originalEvent;\n",
       "        event['data'] = 'scroll'\n",
       "        if (event.deltaY < 0) {\n",
       "            event.step = 1;\n",
       "        } else {\n",
       "            event.step = -1;\n",
       "        }\n",
       "        mouse_event_fn(event);\n",
       "    });\n",
       "\n",
       "    canvas_div.append(canvas);\n",
       "    canvas_div.append(rubberband);\n",
       "\n",
       "    this.rubberband = rubberband;\n",
       "    this.rubberband_canvas = rubberband[0];\n",
       "    this.rubberband_context = rubberband[0].getContext(\"2d\");\n",
       "    this.rubberband_context.strokeStyle = \"#000000\";\n",
       "\n",
       "    this._resize_canvas = function(width, height) {\n",
       "        // Keep the size of the canvas, canvas container, and rubber band\n",
       "        // canvas in synch.\n",
       "        canvas_div.css('width', width)\n",
       "        canvas_div.css('height', height)\n",
       "\n",
       "        canvas.attr('width', width * mpl.ratio);\n",
       "        canvas.attr('height', height * mpl.ratio);\n",
       "        canvas.attr('style', 'width: ' + width + 'px; height: ' + height + 'px;');\n",
       "\n",
       "        rubberband.attr('width', width);\n",
       "        rubberband.attr('height', height);\n",
       "    }\n",
       "\n",
       "    // Set the figure to an initial 600x600px, this will subsequently be updated\n",
       "    // upon first draw.\n",
       "    this._resize_canvas(600, 600);\n",
       "\n",
       "    // Disable right mouse context menu.\n",
       "    $(this.rubberband_canvas).bind(\"contextmenu\",function(e){\n",
       "        return false;\n",
       "    });\n",
       "\n",
       "    function set_focus () {\n",
       "        canvas.focus();\n",
       "        canvas_div.focus();\n",
       "    }\n",
       "\n",
       "    window.setTimeout(set_focus, 100);\n",
       "}\n",
       "\n",
       "mpl.figure.prototype._init_toolbar = function() {\n",
       "    var fig = this;\n",
       "\n",
       "    var nav_element = $('<div/>')\n",
       "    nav_element.attr('style', 'width: 100%');\n",
       "    this.root.append(nav_element);\n",
       "\n",
       "    // Define a callback function for later on.\n",
       "    function toolbar_event(event) {\n",
       "        return fig.toolbar_button_onclick(event['data']);\n",
       "    }\n",
       "    function toolbar_mouse_event(event) {\n",
       "        return fig.toolbar_button_onmouseover(event['data']);\n",
       "    }\n",
       "\n",
       "    for(var toolbar_ind in mpl.toolbar_items) {\n",
       "        var name = mpl.toolbar_items[toolbar_ind][0];\n",
       "        var tooltip = mpl.toolbar_items[toolbar_ind][1];\n",
       "        var image = mpl.toolbar_items[toolbar_ind][2];\n",
       "        var method_name = mpl.toolbar_items[toolbar_ind][3];\n",
       "\n",
       "        if (!name) {\n",
       "            // put a spacer in here.\n",
       "            continue;\n",
       "        }\n",
       "        var button = $('<button/>');\n",
       "        button.addClass('ui-button ui-widget ui-state-default ui-corner-all ' +\n",
       "                        'ui-button-icon-only');\n",
       "        button.attr('role', 'button');\n",
       "        button.attr('aria-disabled', 'false');\n",
       "        button.click(method_name, toolbar_event);\n",
       "        button.mouseover(tooltip, toolbar_mouse_event);\n",
       "\n",
       "        var icon_img = $('<span/>');\n",
       "        icon_img.addClass('ui-button-icon-primary ui-icon');\n",
       "        icon_img.addClass(image);\n",
       "        icon_img.addClass('ui-corner-all');\n",
       "\n",
       "        var tooltip_span = $('<span/>');\n",
       "        tooltip_span.addClass('ui-button-text');\n",
       "        tooltip_span.html(tooltip);\n",
       "\n",
       "        button.append(icon_img);\n",
       "        button.append(tooltip_span);\n",
       "\n",
       "        nav_element.append(button);\n",
       "    }\n",
       "\n",
       "    var fmt_picker_span = $('<span/>');\n",
       "\n",
       "    var fmt_picker = $('<select/>');\n",
       "    fmt_picker.addClass('mpl-toolbar-option ui-widget ui-widget-content');\n",
       "    fmt_picker_span.append(fmt_picker);\n",
       "    nav_element.append(fmt_picker_span);\n",
       "    this.format_dropdown = fmt_picker[0];\n",
       "\n",
       "    for (var ind in mpl.extensions) {\n",
       "        var fmt = mpl.extensions[ind];\n",
       "        var option = $(\n",
       "            '<option/>', {selected: fmt === mpl.default_extension}).html(fmt);\n",
       "        fmt_picker.append(option)\n",
       "    }\n",
       "\n",
       "    // Add hover states to the ui-buttons\n",
       "    $( \".ui-button\" ).hover(\n",
       "        function() { $(this).addClass(\"ui-state-hover\");},\n",
       "        function() { $(this).removeClass(\"ui-state-hover\");}\n",
       "    );\n",
       "\n",
       "    var status_bar = $('<span class=\"mpl-message\"/>');\n",
       "    nav_element.append(status_bar);\n",
       "    this.message = status_bar[0];\n",
       "}\n",
       "\n",
       "mpl.figure.prototype.request_resize = function(x_pixels, y_pixels) {\n",
       "    // Request matplotlib to resize the figure. Matplotlib will then trigger a resize in the client,\n",
       "    // which will in turn request a refresh of the image.\n",
       "    this.send_message('resize', {'width': x_pixels, 'height': y_pixels});\n",
       "}\n",
       "\n",
       "mpl.figure.prototype.send_message = function(type, properties) {\n",
       "    properties['type'] = type;\n",
       "    properties['figure_id'] = this.id;\n",
       "    this.ws.send(JSON.stringify(properties));\n",
       "}\n",
       "\n",
       "mpl.figure.prototype.send_draw_message = function() {\n",
       "    if (!this.waiting) {\n",
       "        this.waiting = true;\n",
       "        this.ws.send(JSON.stringify({type: \"draw\", figure_id: this.id}));\n",
       "    }\n",
       "}\n",
       "\n",
       "\n",
       "mpl.figure.prototype.handle_save = function(fig, msg) {\n",
       "    var format_dropdown = fig.format_dropdown;\n",
       "    var format = format_dropdown.options[format_dropdown.selectedIndex].value;\n",
       "    fig.ondownload(fig, format);\n",
       "}\n",
       "\n",
       "\n",
       "mpl.figure.prototype.handle_resize = function(fig, msg) {\n",
       "    var size = msg['size'];\n",
       "    if (size[0] != fig.canvas.width || size[1] != fig.canvas.height) {\n",
       "        fig._resize_canvas(size[0], size[1]);\n",
       "        fig.send_message(\"refresh\", {});\n",
       "    };\n",
       "}\n",
       "\n",
       "mpl.figure.prototype.handle_rubberband = function(fig, msg) {\n",
       "    var x0 = msg['x0'] / mpl.ratio;\n",
       "    var y0 = (fig.canvas.height - msg['y0']) / mpl.ratio;\n",
       "    var x1 = msg['x1'] / mpl.ratio;\n",
       "    var y1 = (fig.canvas.height - msg['y1']) / mpl.ratio;\n",
       "    x0 = Math.floor(x0) + 0.5;\n",
       "    y0 = Math.floor(y0) + 0.5;\n",
       "    x1 = Math.floor(x1) + 0.5;\n",
       "    y1 = Math.floor(y1) + 0.5;\n",
       "    var min_x = Math.min(x0, x1);\n",
       "    var min_y = Math.min(y0, y1);\n",
       "    var width = Math.abs(x1 - x0);\n",
       "    var height = Math.abs(y1 - y0);\n",
       "\n",
       "    fig.rubberband_context.clearRect(\n",
       "        0, 0, fig.canvas.width, fig.canvas.height);\n",
       "\n",
       "    fig.rubberband_context.strokeRect(min_x, min_y, width, height);\n",
       "}\n",
       "\n",
       "mpl.figure.prototype.handle_figure_label = function(fig, msg) {\n",
       "    // Updates the figure title.\n",
       "    fig.header.textContent = msg['label'];\n",
       "}\n",
       "\n",
       "mpl.figure.prototype.handle_cursor = function(fig, msg) {\n",
       "    var cursor = msg['cursor'];\n",
       "    switch(cursor)\n",
       "    {\n",
       "    case 0:\n",
       "        cursor = 'pointer';\n",
       "        break;\n",
       "    case 1:\n",
       "        cursor = 'default';\n",
       "        break;\n",
       "    case 2:\n",
       "        cursor = 'crosshair';\n",
       "        break;\n",
       "    case 3:\n",
       "        cursor = 'move';\n",
       "        break;\n",
       "    }\n",
       "    fig.rubberband_canvas.style.cursor = cursor;\n",
       "}\n",
       "\n",
       "mpl.figure.prototype.handle_message = function(fig, msg) {\n",
       "    fig.message.textContent = msg['message'];\n",
       "}\n",
       "\n",
       "mpl.figure.prototype.handle_draw = function(fig, msg) {\n",
       "    // Request the server to send over a new figure.\n",
       "    fig.send_draw_message();\n",
       "}\n",
       "\n",
       "mpl.figure.prototype.handle_image_mode = function(fig, msg) {\n",
       "    fig.image_mode = msg['mode'];\n",
       "}\n",
       "\n",
       "mpl.figure.prototype.updated_canvas_event = function() {\n",
       "    // Called whenever the canvas gets updated.\n",
       "    this.send_message(\"ack\", {});\n",
       "}\n",
       "\n",
       "// A function to construct a web socket function for onmessage handling.\n",
       "// Called in the figure constructor.\n",
       "mpl.figure.prototype._make_on_message_function = function(fig) {\n",
       "    return function socket_on_message(evt) {\n",
       "        if (evt.data instanceof Blob) {\n",
       "            /* FIXME: We get \"Resource interpreted as Image but\n",
       "             * transferred with MIME type text/plain:\" errors on\n",
       "             * Chrome.  But how to set the MIME type?  It doesn't seem\n",
       "             * to be part of the websocket stream */\n",
       "            evt.data.type = \"image/png\";\n",
       "\n",
       "            /* Free the memory for the previous frames */\n",
       "            if (fig.imageObj.src) {\n",
       "                (window.URL || window.webkitURL).revokeObjectURL(\n",
       "                    fig.imageObj.src);\n",
       "            }\n",
       "\n",
       "            fig.imageObj.src = (window.URL || window.webkitURL).createObjectURL(\n",
       "                evt.data);\n",
       "            fig.updated_canvas_event();\n",
       "            fig.waiting = false;\n",
       "            return;\n",
       "        }\n",
       "        else if (typeof evt.data === 'string' && evt.data.slice(0, 21) == \"data:image/png;base64\") {\n",
       "            fig.imageObj.src = evt.data;\n",
       "            fig.updated_canvas_event();\n",
       "            fig.waiting = false;\n",
       "            return;\n",
       "        }\n",
       "\n",
       "        var msg = JSON.parse(evt.data);\n",
       "        var msg_type = msg['type'];\n",
       "\n",
       "        // Call the  \"handle_{type}\" callback, which takes\n",
       "        // the figure and JSON message as its only arguments.\n",
       "        try {\n",
       "            var callback = fig[\"handle_\" + msg_type];\n",
       "        } catch (e) {\n",
       "            console.log(\"No handler for the '\" + msg_type + \"' message type: \", msg);\n",
       "            return;\n",
       "        }\n",
       "\n",
       "        if (callback) {\n",
       "            try {\n",
       "                // console.log(\"Handling '\" + msg_type + \"' message: \", msg);\n",
       "                callback(fig, msg);\n",
       "            } catch (e) {\n",
       "                console.log(\"Exception inside the 'handler_\" + msg_type + \"' callback:\", e, e.stack, msg);\n",
       "            }\n",
       "        }\n",
       "    };\n",
       "}\n",
       "\n",
       "// from http://stackoverflow.com/questions/1114465/getting-mouse-location-in-canvas\n",
       "mpl.findpos = function(e) {\n",
       "    //this section is from http://www.quirksmode.org/js/events_properties.html\n",
       "    var targ;\n",
       "    if (!e)\n",
       "        e = window.event;\n",
       "    if (e.target)\n",
       "        targ = e.target;\n",
       "    else if (e.srcElement)\n",
       "        targ = e.srcElement;\n",
       "    if (targ.nodeType == 3) // defeat Safari bug\n",
       "        targ = targ.parentNode;\n",
       "\n",
       "    // jQuery normalizes the pageX and pageY\n",
       "    // pageX,Y are the mouse positions relative to the document\n",
       "    // offset() returns the position of the element relative to the document\n",
       "    var x = e.pageX - $(targ).offset().left;\n",
       "    var y = e.pageY - $(targ).offset().top;\n",
       "\n",
       "    return {\"x\": x, \"y\": y};\n",
       "};\n",
       "\n",
       "/*\n",
       " * return a copy of an object with only non-object keys\n",
       " * we need this to avoid circular references\n",
       " * http://stackoverflow.com/a/24161582/3208463\n",
       " */\n",
       "function simpleKeys (original) {\n",
       "  return Object.keys(original).reduce(function (obj, key) {\n",
       "    if (typeof original[key] !== 'object')\n",
       "        obj[key] = original[key]\n",
       "    return obj;\n",
       "  }, {});\n",
       "}\n",
       "\n",
       "mpl.figure.prototype.mouse_event = function(event, name) {\n",
       "    var canvas_pos = mpl.findpos(event)\n",
       "\n",
       "    if (name === 'button_press')\n",
       "    {\n",
       "        this.canvas.focus();\n",
       "        this.canvas_div.focus();\n",
       "    }\n",
       "\n",
       "    var x = canvas_pos.x * mpl.ratio;\n",
       "    var y = canvas_pos.y * mpl.ratio;\n",
       "\n",
       "    this.send_message(name, {x: x, y: y, button: event.button,\n",
       "                             step: event.step,\n",
       "                             guiEvent: simpleKeys(event)});\n",
       "\n",
       "    /* This prevents the web browser from automatically changing to\n",
       "     * the text insertion cursor when the button is pressed.  We want\n",
       "     * to control all of the cursor setting manually through the\n",
       "     * 'cursor' event from matplotlib */\n",
       "    event.preventDefault();\n",
       "    return false;\n",
       "}\n",
       "\n",
       "mpl.figure.prototype._key_event_extra = function(event, name) {\n",
       "    // Handle any extra behaviour associated with a key event\n",
       "}\n",
       "\n",
       "mpl.figure.prototype.key_event = function(event, name) {\n",
       "\n",
       "    // Prevent repeat events\n",
       "    if (name == 'key_press')\n",
       "    {\n",
       "        if (event.which === this._key)\n",
       "            return;\n",
       "        else\n",
       "            this._key = event.which;\n",
       "    }\n",
       "    if (name == 'key_release')\n",
       "        this._key = null;\n",
       "\n",
       "    var value = '';\n",
       "    if (event.ctrlKey && event.which != 17)\n",
       "        value += \"ctrl+\";\n",
       "    if (event.altKey && event.which != 18)\n",
       "        value += \"alt+\";\n",
       "    if (event.shiftKey && event.which != 16)\n",
       "        value += \"shift+\";\n",
       "\n",
       "    value += 'k';\n",
       "    value += event.which.toString();\n",
       "\n",
       "    this._key_event_extra(event, name);\n",
       "\n",
       "    this.send_message(name, {key: value,\n",
       "                             guiEvent: simpleKeys(event)});\n",
       "    return false;\n",
       "}\n",
       "\n",
       "mpl.figure.prototype.toolbar_button_onclick = function(name) {\n",
       "    if (name == 'download') {\n",
       "        this.handle_save(this, null);\n",
       "    } else {\n",
       "        this.send_message(\"toolbar_button\", {name: name});\n",
       "    }\n",
       "};\n",
       "\n",
       "mpl.figure.prototype.toolbar_button_onmouseover = function(tooltip) {\n",
       "    this.message.textContent = tooltip;\n",
       "};\n",
       "mpl.toolbar_items = [[\"Home\", \"Reset original view\", \"fa fa-home icon-home\", \"home\"], [\"Back\", \"Back to previous view\", \"fa fa-arrow-left icon-arrow-left\", \"back\"], [\"Forward\", \"Forward to next view\", \"fa fa-arrow-right icon-arrow-right\", \"forward\"], [\"\", \"\", \"\", \"\"], [\"Pan\", \"Pan axes with left mouse, zoom with right\", \"fa fa-arrows icon-move\", \"pan\"], [\"Zoom\", \"Zoom to rectangle\", \"fa fa-square-o icon-check-empty\", \"zoom\"], [\"\", \"\", \"\", \"\"], [\"Download\", \"Download plot\", \"fa fa-floppy-o icon-save\", \"download\"]];\n",
       "\n",
       "mpl.extensions = [\"eps\", \"jpeg\", \"pdf\", \"png\", \"ps\", \"raw\", \"svg\", \"tif\"];\n",
       "\n",
       "mpl.default_extension = \"png\";var comm_websocket_adapter = function(comm) {\n",
       "    // Create a \"websocket\"-like object which calls the given IPython comm\n",
       "    // object with the appropriate methods. Currently this is a non binary\n",
       "    // socket, so there is still some room for performance tuning.\n",
       "    var ws = {};\n",
       "\n",
       "    ws.close = function() {\n",
       "        comm.close()\n",
       "    };\n",
       "    ws.send = function(m) {\n",
       "        //console.log('sending', m);\n",
       "        comm.send(m);\n",
       "    };\n",
       "    // Register the callback with on_msg.\n",
       "    comm.on_msg(function(msg) {\n",
       "        //console.log('receiving', msg['content']['data'], msg);\n",
       "        // Pass the mpl event to the overridden (by mpl) onmessage function.\n",
       "        ws.onmessage(msg['content']['data'])\n",
       "    });\n",
       "    return ws;\n",
       "}\n",
       "\n",
       "mpl.mpl_figure_comm = function(comm, msg) {\n",
       "    // This is the function which gets called when the mpl process\n",
       "    // starts-up an IPython Comm through the \"matplotlib\" channel.\n",
       "\n",
       "    var id = msg.content.data.id;\n",
       "    // Get hold of the div created by the display call when the Comm\n",
       "    // socket was opened in Python.\n",
       "    var element = $(\"#\" + id);\n",
       "    var ws_proxy = comm_websocket_adapter(comm)\n",
       "\n",
       "    function ondownload(figure, format) {\n",
       "        window.open(figure.imageObj.src);\n",
       "    }\n",
       "\n",
       "    var fig = new mpl.figure(id, ws_proxy,\n",
       "                           ondownload,\n",
       "                           element.get(0));\n",
       "\n",
       "    // Call onopen now - mpl needs it, as it is assuming we've passed it a real\n",
       "    // web socket which is closed, not our websocket->open comm proxy.\n",
       "    ws_proxy.onopen();\n",
       "\n",
       "    fig.parent_element = element.get(0);\n",
       "    fig.cell_info = mpl.find_output_cell(\"<div id='\" + id + \"'></div>\");\n",
       "    if (!fig.cell_info) {\n",
       "        console.error(\"Failed to find cell for figure\", id, fig);\n",
       "        return;\n",
       "    }\n",
       "\n",
       "    var output_index = fig.cell_info[2]\n",
       "    var cell = fig.cell_info[0];\n",
       "\n",
       "};\n",
       "\n",
       "mpl.figure.prototype.handle_close = function(fig, msg) {\n",
       "    var width = fig.canvas.width/mpl.ratio\n",
       "    fig.root.unbind('remove')\n",
       "\n",
       "    // Update the output cell to use the data from the current canvas.\n",
       "    fig.push_to_output();\n",
       "    var dataURL = fig.canvas.toDataURL();\n",
       "    // Re-enable the keyboard manager in IPython - without this line, in FF,\n",
       "    // the notebook keyboard shortcuts fail.\n",
       "    IPython.keyboard_manager.enable()\n",
       "    $(fig.parent_element).html('<img src=\"' + dataURL + '\" width=\"' + width + '\">');\n",
       "    fig.close_ws(fig, msg);\n",
       "}\n",
       "\n",
       "mpl.figure.prototype.close_ws = function(fig, msg){\n",
       "    fig.send_message('closing', msg);\n",
       "    // fig.ws.close()\n",
       "}\n",
       "\n",
       "mpl.figure.prototype.push_to_output = function(remove_interactive) {\n",
       "    // Turn the data on the canvas into data in the output cell.\n",
       "    var width = this.canvas.width/mpl.ratio\n",
       "    var dataURL = this.canvas.toDataURL();\n",
       "    this.cell_info[1]['text/html'] = '<img src=\"' + dataURL + '\" width=\"' + width + '\">';\n",
       "}\n",
       "\n",
       "mpl.figure.prototype.updated_canvas_event = function() {\n",
       "    // Tell IPython that the notebook contents must change.\n",
       "    IPython.notebook.set_dirty(true);\n",
       "    this.send_message(\"ack\", {});\n",
       "    var fig = this;\n",
       "    // Wait a second, then push the new image to the DOM so\n",
       "    // that it is saved nicely (might be nice to debounce this).\n",
       "    setTimeout(function () { fig.push_to_output() }, 1000);\n",
       "}\n",
       "\n",
       "mpl.figure.prototype._init_toolbar = function() {\n",
       "    var fig = this;\n",
       "\n",
       "    var nav_element = $('<div/>')\n",
       "    nav_element.attr('style', 'width: 100%');\n",
       "    this.root.append(nav_element);\n",
       "\n",
       "    // Define a callback function for later on.\n",
       "    function toolbar_event(event) {\n",
       "        return fig.toolbar_button_onclick(event['data']);\n",
       "    }\n",
       "    function toolbar_mouse_event(event) {\n",
       "        return fig.toolbar_button_onmouseover(event['data']);\n",
       "    }\n",
       "\n",
       "    for(var toolbar_ind in mpl.toolbar_items){\n",
       "        var name = mpl.toolbar_items[toolbar_ind][0];\n",
       "        var tooltip = mpl.toolbar_items[toolbar_ind][1];\n",
       "        var image = mpl.toolbar_items[toolbar_ind][2];\n",
       "        var method_name = mpl.toolbar_items[toolbar_ind][3];\n",
       "\n",
       "        if (!name) { continue; };\n",
       "\n",
       "        var button = $('<button class=\"btn btn-default\" href=\"#\" title=\"' + name + '\"><i class=\"fa ' + image + ' fa-lg\"></i></button>');\n",
       "        button.click(method_name, toolbar_event);\n",
       "        button.mouseover(tooltip, toolbar_mouse_event);\n",
       "        nav_element.append(button);\n",
       "    }\n",
       "\n",
       "    // Add the status bar.\n",
       "    var status_bar = $('<span class=\"mpl-message\" style=\"text-align:right; float: right;\"/>');\n",
       "    nav_element.append(status_bar);\n",
       "    this.message = status_bar[0];\n",
       "\n",
       "    // Add the close button to the window.\n",
       "    var buttongrp = $('<div class=\"btn-group inline pull-right\"></div>');\n",
       "    var button = $('<button class=\"btn btn-mini btn-primary\" href=\"#\" title=\"Stop Interaction\"><i class=\"fa fa-power-off icon-remove icon-large\"></i></button>');\n",
       "    button.click(function (evt) { fig.handle_close(fig, {}); } );\n",
       "    button.mouseover('Stop Interaction', toolbar_mouse_event);\n",
       "    buttongrp.append(button);\n",
       "    var titlebar = this.root.find($('.ui-dialog-titlebar'));\n",
       "    titlebar.prepend(buttongrp);\n",
       "}\n",
       "\n",
       "mpl.figure.prototype._root_extra_style = function(el){\n",
       "    var fig = this\n",
       "    el.on(\"remove\", function(){\n",
       "\tfig.close_ws(fig, {});\n",
       "    });\n",
       "}\n",
       "\n",
       "mpl.figure.prototype._canvas_extra_style = function(el){\n",
       "    // this is important to make the div 'focusable\n",
       "    el.attr('tabindex', 0)\n",
       "    // reach out to IPython and tell the keyboard manager to turn it's self\n",
       "    // off when our div gets focus\n",
       "\n",
       "    // location in version 3\n",
       "    if (IPython.notebook.keyboard_manager) {\n",
       "        IPython.notebook.keyboard_manager.register_events(el);\n",
       "    }\n",
       "    else {\n",
       "        // location in version 2\n",
       "        IPython.keyboard_manager.register_events(el);\n",
       "    }\n",
       "\n",
       "}\n",
       "\n",
       "mpl.figure.prototype._key_event_extra = function(event, name) {\n",
       "    var manager = IPython.notebook.keyboard_manager;\n",
       "    if (!manager)\n",
       "        manager = IPython.keyboard_manager;\n",
       "\n",
       "    // Check for shift+enter\n",
       "    if (event.shiftKey && event.which == 13) {\n",
       "        this.canvas_div.blur();\n",
       "        event.shiftKey = false;\n",
       "        // Send a \"J\" for go to next cell\n",
       "        event.which = 74;\n",
       "        event.keyCode = 74;\n",
       "        manager.command_mode();\n",
       "        manager.handle_keydown(event);\n",
       "    }\n",
       "}\n",
       "\n",
       "mpl.figure.prototype.handle_save = function(fig, msg) {\n",
       "    fig.ondownload(fig, null);\n",
       "}\n",
       "\n",
       "\n",
       "mpl.find_output_cell = function(html_output) {\n",
       "    // Return the cell and output element which can be found *uniquely* in the notebook.\n",
       "    // Note - this is a bit hacky, but it is done because the \"notebook_saving.Notebook\"\n",
       "    // IPython event is triggered only after the cells have been serialised, which for\n",
       "    // our purposes (turning an active figure into a static one), is too late.\n",
       "    var cells = IPython.notebook.get_cells();\n",
       "    var ncells = cells.length;\n",
       "    for (var i=0; i<ncells; i++) {\n",
       "        var cell = cells[i];\n",
       "        if (cell.cell_type === 'code'){\n",
       "            for (var j=0; j<cell.output_area.outputs.length; j++) {\n",
       "                var data = cell.output_area.outputs[j];\n",
       "                if (data.data) {\n",
       "                    // IPython >= 3 moved mimebundle to data attribute of output\n",
       "                    data = data.data;\n",
       "                }\n",
       "                if (data['text/html'] == html_output) {\n",
       "                    return [cell, data, j];\n",
       "                }\n",
       "            }\n",
       "        }\n",
       "    }\n",
       "}\n",
       "\n",
       "// Register the function which deals with the matplotlib target/channel.\n",
       "// The kernel may be null if the page has been refreshed.\n",
       "if (IPython.notebook.kernel != null) {\n",
       "    IPython.notebook.kernel.comm_manager.register_target('matplotlib', mpl.mpl_figure_comm);\n",
       "}\n"
      ],
      "text/plain": [
       "<IPython.core.display.Javascript object>"
      ]
     },
     "metadata": {},
     "output_type": "display_data"
    },
    {
     "data": {
      "text/html": [
       "<img src=\"data:image/png;base64,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\" width=\"800\">"
      ],
      "text/plain": [
       "<IPython.core.display.HTML object>"
      ]
     },
     "metadata": {},
     "output_type": "display_data"
    }
   ],
   "source": [
    "%matplotlib notebook\n",
    "surface_plot_2(data_inter)"
   ]
  },
  {
   "cell_type": "code",
   "execution_count": 5,
   "metadata": {},
   "outputs": [],
   "source": [
    "import plotly.graph_objects as go"
   ]
  },
  {
   "cell_type": "code",
   "execution_count": 6,
   "metadata": {},
   "outputs": [],
   "source": [
    "# from IPython.display import IFrame\n",
    "# IFrame(src= \"https://dash-simple-apps.plotly.host/dash-3dsurfaceplot/\", width=\"100%\", height=950 ,frameBorder=\"0\")"
   ]
  },
  {
   "cell_type": "code",
   "execution_count": 15,
   "metadata": {},
   "outputs": [],
   "source": [
    "import plotly.graph_objects as go\n",
    "def plotly_surface(df_temp):\n",
    "    \n",
    "    fig = go.Figure(data=[go.Surface(z=df_temp.values,\n",
    "                                     y=df_temp.index.values, \n",
    "                                     x=df_temp.columns.values[::-1], \n",
    "                                     colorbar={\"title\": \"Number\", \"len\": 0.5, \"thickness\": 15},\n",
    "                                     colorscale=\"YlGnBu\", \n",
    "                                     opacity=0.8)],\n",
    "                      layout=go.Layout(\n",
    "#                                       title='Interpolated Volatility Surface', \n",
    "                                       autosize=True, height=800,\n",
    "                                       scene={\"xaxis\": {'title': \"Maturity\",\n",
    "                                              \"tickfont\": {\"size\": 10}, 'type': \"linear\"},\n",
    "                                              \"yaxis\": {\"title\": \"Forward Strike Difference\", \"tickfont\": {\"size\": 10}, \"tickangle\": 1},\n",
    "                                              \"zaxis\": {\"title\": \"Implied Volatility\", \"tickfont\": {\"size\": 10}},\n",
    "                                              \"camera\": {\"eye\": {\"x\": 2, \"y\": 1, \"z\": 1.25}}, \"aspectmode\": \"cube\"}))\n",
    "\n",
    "\n",
    "#     fig.update_traces(contours_z=dict(show=True, usecolormap=True,\n",
    "#                                       highlightcolor=\"limegreen\",\n",
    "#                                       project_z=True\n",
    "#                                      ))\n",
    "\n",
    "#     fig.update_layout(title='Mt Bruno Elevation', autosize=False,\n",
    "#                       width=500, height=500,\n",
    "#                       margin=dict(l=65, r=50, b=65, t=90))\n",
    "\n",
    "    fig.show()"
   ]
  },
  {
   "cell_type": "code",
   "execution_count": 16,
   "metadata": {},
   "outputs": [],
   "source": [
    "ddd = pd.read_pickle('surface.pkl')"
   ]
  },
  {
   "cell_type": "code",
   "execution_count": 17,
   "metadata": {},
   "outputs": [
    {
     "data": {
      "application/vnd.plotly.v1+json": {
       "config": {
        "plotlyServerURL": "https://plot.ly"
       },
       "data": [
        {
         "colorbar": {
          "len": 0.5,
          "thickness": 15,
          "title": {
           "text": "Number"
          }
         },
         "colorscale": [
          [
           0,
           "rgb(255,255,217)"
          ],
          [
           0.125,
           "rgb(237,248,177)"
          ],
          [
           0.25,
           "rgb(199,233,180)"
          ],
          [
           0.375,
           "rgb(127,205,187)"
          ],
          [
           0.5,
           "rgb(65,182,196)"
          ],
          [
           0.625,
           "rgb(29,145,192)"
          ],
          [
           0.75,
           "rgb(34,94,168)"
          ],
          [
           0.875,
           "rgb(37,52,148)"
          ],
          [
           1,
           "rgb(8,29,88)"
          ]
         ],
         "opacity": 0.8,
         "type": "surface",
         "x": [
          1.2499999999999998,
          1.1999999999999997,
          1.15,
          1.0999999999999999,
          1.0499999999999998,
          0.9999999999999998,
          0.9499999999999998,
          0.8999999999999999,
          0.8499999999999999,
          0.7999999999999998,
          0.7499999999999999,
          0.7,
          0.6499999999999999,
          0.5999999999999999,
          0.5499999999999999,
          0.49999999999999994,
          0.44999999999999996,
          0.39999999999999997,
          0.35,
          0.3,
          0.25
         ],
         "y": [
          -20,
          -19.5,
          -19,
          -18.5,
          -18,
          -17.5,
          -17,
          -16.5,
          -16,
          -15.5,
          -15,
          -14.5,
          -14,
          -13.5,
          -13,
          -12.5,
          -12,
          -11.5,
          -11,
          -10.5,
          -10,
          -9.5,
          -9,
          -8.5,
          -8,
          -7.5,
          -7,
          -6.5,
          -6,
          -5.5,
          -5,
          -4.5,
          -4,
          -3.5,
          -3,
          -2.5,
          -2,
          -1.5,
          -1,
          -0.5,
          0,
          0.5,
          1,
          1.5,
          2,
          2.5,
          3,
          3.5,
          4,
          4.5,
          5,
          5.5,
          6,
          6.5,
          7,
          7.5,
          8,
          8.5,
          9,
          9.5,
          10,
          10.5,
          11,
          11.5,
          12,
          12.5,
          13,
          13.5,
          14,
          14.5,
          15,
          15.5,
          16,
          16.5,
          17,
          17.5,
          18,
          18.5,
          19,
          19.5,
          20
         ],
         "z": [
          [
           0.3695504357254893,
           0.36200938372239233,
           0.3542189676552519,
           0.3461075561877262,
           0.33760351798347316,
           0.32863522170615095,
           0.31939980912662147,
           0.31116951444456287,
           0.30541557282909804,
           0.3020044602808909,
           0.29919789363214566,
           0.2955436002051608,
           0.2910124378336463,
           0.28593828565020246,
           0.280821512221285,
           0.2763289755472047,
           0.2729081522739208,
           0.2701000389458378,
           0.2672190120819714,
           0.2635794482013375,
           0.25849572382295155
          ],
          [
           0.3678342759304052,
           0.3602482242565496,
           0.3524590872693477,
           0.3443826081832265,
           0.335934530212614,
           0.3270305965719373,
           0.31785500503900144,
           0.3096657716451225,
           0.3039202813452255,
           0.30048694937956183,
           0.29764522127370907,
           0.29396074771898106,
           0.2894203426287114,
           0.2843722676868201,
           0.2793063947740929,
           0.27485420596818283,
           0.2714374966539754,
           0.26861468758496304,
           0.26572835585679033,
           0.2621210785651017,
           0.2571354328055414
          ],
          [
           0.36609696169665,
           0.358470742076176,
           0.350683901722199,
           0.342641371379243,
           0.3342480817918321,
           0.32540896370449,
           0.31629626889143214,
           0.3081515332456388,
           0.3024153529207017,
           0.298958326381375,
           0.29608105440357474,
           0.2923694851540748,
           0.28782399943939935,
           0.2828037933853087,
           0.27778782778142946,
           0.27337482808125424,
           0.2699629719926628,
           0.2671274176038893,
           0.2642375680982564,
           0.26066282665908685,
           0.25577259646970313
          ],
          [
           0.3643384930242237,
           0.3566769371812712,
           0.3488934110138059,
           0.3408838457757753,
           0.33254417272112724,
           0.32377032310380915,
           0.3147236006839135,
           0.3066267992461117,
           0.3009007875555267,
           0.2974185912863302,
           0.2945053930217427,
           0.290769812510442,
           0.28622340826570986,
           0.28123286274566855,
           0.27626581124329463,
           0.2718908418864188,
           0.2684845782899831,
           0.2656382290026165,
           0.2627466488063695,
           0.25920469248329275,
           0.2544072148154367
          ],
          [
           0.3625588699131264,
           0.35486680957183553,
           0.34708761514416836,
           0.33911003137282375,
           0.3308228030004997,
           0.32211467476989475,
           0.3131370004164455,
           0.3050915696465412,
           0.29937658524970046,
           0.2958677440944276,
           0.29291823712821285,
           0.2891617297880826,
           0.28461856910764305,
           0.27965947576789946,
           0.27474034515968837,
           0.2704022473836766,
           0.26700231554593634,
           0.26414712178114474,
           0.2612555979811297,
           0.25774667603771956,
           0.2530392878427422
          ],
          [
           0.360758092363358,
           0.3530403592478688,
           0.34526651411328657,
           0.3373199281703881,
           0.3290839726299493,
           0.3204420187027468,
           0.31153646808902813,
           0.3035458444469275,
           0.297842746003223,
           0.294305784805667,
           0.29131958672298536,
           0.2875452369869966,
           0.2830094819651988,
           0.2780836324520017,
           0.27321142953061067,
           0.2689090445730276,
           0.2655161837605226,
           0.262654095939474,
           0.25976441562253705,
           0.25628877732236716,
           0.25166881555161963
          ],
          [
           0.35893616037491854,
           0.351197586209371,
           0.3434301079211604,
           0.3355135361684684,
           0.3273276816094763,
           0.3187523549023652,
           0.30992200370166145,
           0.3019896236472703,
           0.2962992698160944,
           0.2927327134200487,
           0.2897094418060601,
           0.2859203341071839,
           0.2813961468383772,
           0.27650533279797496,
           0.27167906435606165,
           0.26741123345447193,
           0.26402618293374186,
           0.2611591514776043,
           0.2582731017305915,
           0.25483099633723566,
           0.25029579794206885
          ],
          [
           0.35709307394780804,
           0.3493384904563422,
           0.3415783965677899,
           0.33369085536706466,
           0.3255539299390803,
           0.31704568336875005,
           0.30829360725434546,
           0.3004229072475698,
           0.2947461566883145,
           0.2911485299375724,
           0.28808780237743714,
           0.2842870211486448,
           0.2797785637271783,
           0.2749245768058193,
           0.2701432496360412,
           0.2659088140280095,
           0.26253231306559394,
           0.25966228839553557,
           0.25678165630529304,
           0.253373333082325,
           0.24892023501409002
          ],
          [
           0.35522883308202635,
           0.34746307198878246,
           0.33971138005317486,
           0.331851885766177,
           0.3237627176187615,
           0.3153220041019013,
           0.3066512787470801,
           0.2988456952478259,
           0.2931834066198834,
           0.28955323435823815,
           0.2864546684371164,
           0.28264529811137906,
           0.27815673263160207,
           0.2733413644755348,
           0.26860398537054947,
           0.2644017862936402,
           0.26103457415607895,
           0.2581635066932679,
           0.2552900793466416,
           0.2519157875576351,
           0.24754212676768303
          ],
          [
           0.3533434377775737,
           0.3455713308066916,
           0.33782905837731575,
           0.3299966273658054,
           0.32195404464852,
           0.313581317101819,
           0.3049950181798655,
           0.2972579876480387,
           0.29161101961080105,
           0.28794682668204613,
           0.284810039985098,
           0.28099516499538674,
           0.27653065355164846,
           0.27175569580712156,
           0.26706127155958614,
           0.2628901502513641,
           0.2595329662051969,
           0.2566628063708011,
           0.25379837085463736,
           0.2504583597631662,
           0.24616147320284795
          ],
          [
           0.35143688803444995,
           0.3436632669100699,
           0.3359314315402121,
           0.32812508016594977,
           0.3201279110283557,
           0.31182362236850314,
           0.30332482555270157,
           0.29565978444820806,
           0.29002899566106766,
           0.2863293069089962,
           0.2831539170213818,
           0.2793366218006679,
           0.2749003264873174,
           0.2701675708005794,
           0.26551510820315155,
           0.2613739059011813,
           0.2580274892129477,
           0.25516018742813534,
           0.2523065308292802,
           0.24900104969891806,
           0.24477827431958477
          ],
          [
           0.34950918385265517,
           0.341738880298917,
           0.334018499541864,
           0.32623724416661004,
           0.3182843167582687,
           0.31004891990195366,
           0.30164070086558825,
           0.29405108564833415,
           0.2884373347706828,
           0.2847006750390884,
           0.28148629954596793,
           0.27766966852722236,
           0.27326575143860904,
           0.2685769894559084,
           0.2639654953012456,
           0.25985305324309177,
           0.2565181431793315,
           0.25365564986527067,
           0.2508145592705701,
           0.24754385736489076,
           0.2433925301178934
          ],
          [
           0.3475603252321893,
           0.33979817097323334,
           0.3320902623822717,
           0.32433311936778636,
           0.31642326183825875,
           0.30825720970217063,
           0.29994264411852567,
           0.2924318912484169,
           0.28683603693964693,
           0.2830609310723227,
           0.2798071875588563,
           0.2759943051750503,
           0.2716269284055235,
           0.2669839517731086,
           0.26241243285386817,
           0.2583275922770954,
           0.25500492810434827,
           0.252149193682207,
           0.24932245617850718,
           0.24608678276108437,
           0.24200424059777403
          ],
          [
           0.34559031217305236,
           0.3378411389330183,
           0.3301467200614349,
           0.32241270576947856,
           0.31454474626832607,
           0.30644849176915395,
           0.29823065531151366,
           0.29080220124845624,
           0.28522510216795965,
           0.28141007500869925,
           0.2781165810600469,
           0.27431053174415165,
           0.26998385738806036,
           0.2653884577521798,
           0.26085592086101944,
           0.25679752300319225,
           0.2534878439879979,
           0.2506408188789443,
           0.24783022155309126,
           0.24462982588749874,
           0.24061340575922646
          ],
          [
           0.34359914467524433,
           0.33586778417827257,
           0.3281878725793537,
           0.3204760033716869,
           0.3126487700484706,
           0.30462276610290373,
           0.29650473444455233,
           0.28916201564845223,
           0.28360453045562134,
           0.2797481068482177,
           0.2764144800495398,
           0.2726183482345264,
           0.26833653838622,
           0.2637905073931222,
           0.25929595932269933,
           0.25526284542138233,
           0.2519668908302805,
           0.24913052545548264,
           0.24633785539432257,
           0.24317298674413407,
           0.2392200256022508
          ],
          [
           0.3415868227387652,
           0.3338781067089957,
           0.32621371993602827,
           0.3185230121744112,
           0.31073533317869234,
           0.30278003270342,
           0.29476488151764174,
           0.2875113344484048,
           0.28197432180263166,
           0.2780750265908784,
           0.274700884527335,
           0.27091775464617457,
           0.26668497140000225,
           0.2621901006959358,
           0.25773254823890773,
           0.25372355953166564,
           0.25044206863119595,
           0.24761831341182194,
           0.2448453577022008,
           0.2417162653309901,
           0.23782410012684702
          ],
          [
           0.3395669954704764,
           0.3318788765104769,
           0.32422973530971155,
           0.31656081161261734,
           0.30881334516363057,
           0.3009285757071882,
           0.2930148781545556,
           0.28584916808431515,
           0.2803331016085647,
           0.27639325827320094,
           0.27298114105791843,
           0.2692124803773473,
           0.2650294949191111,
           0.26058663163155527,
           0.2561672798899168,
           0.2521837714963233,
           0.24891800847896745,
           0.24610774900040516,
           0.24335471525678312,
           0.24026062944424828,
           0.23642721375894726
          ],
          [
           0.3375533119772393,
           0.329876863568005,
           0.32224139187865675,
           0.31459648112127103,
           0.30689171550792455,
           0.2990766792506939,
           0.2912585059790678,
           0.2841745269921839,
           0.2786794952729942,
           0.2747052259317048,
           0.27126059620577614,
           0.26750625482629553,
           0.2633704474332505,
           0.25897949417091587,
           0.2546017465559981,
           0.25064758747763627,
           0.24739934146181797,
           0.2446023984736751,
           0.2418679148381262,
           0.2388070468800896,
           0.23503095092448353
          ],
          [
           0.33554577225905396,
           0.32787206788158046,
           0.320248689642864,
           0.31263002070037255,
           0.30497044421157427,
           0.29722434333393727,
           0.2894957649911784,
           0.2824874111720112,
           0.27701350279592013,
           0.2730109295663904,
           0.2695392499709082,
           0.2657990779930195,
           0.2617078289424206,
           0.25736868831401727,
           0.25303594823715186,
           0.24911500747560478,
           0.24588606757974754,
           0.24310226183163194,
           0.24038495644623006,
           0.23735551763851415,
           0.233635311623456
          ],
          [
           0.33354437631592015,
           0.32586448945120283,
           0.31825162860233286,
           0.31066143034992166,
           0.30304953127457973,
           0.2953715679569181,
           0.2877266551908872,
           0.2807878206237971,
           0.27533512417734246,
           0.2713103691772572,
           0.2678171023533144,
           0.26409094987751885,
           0.2600416394466213,
           0.2557542140608594,
           0.2514698849333781,
           0.2475860314902286,
           0.24437818683275608,
           0.24160733907427545,
           0.23890584008109475,
           0.23590604171952181,
           0.23224029585586445
          ],
          [
           0.33154912414783816,
           0.32385412827687216,
           0.31625020875706383,
           0.3086907100699185,
           0.3011289766969409,
           0.2935183531196365,
           0.28595117657819447,
           0.27907575534754153,
           0.2736443594172613,
           0.26960354476430565,
           0.26609415335299497,
           0.2623818704797938,
           0.25837187894585256,
           0.2541360714114426,
           0.2499035566446766,
           0.2460606595215079,
           0.24287569922084368,
           0.24011763020160581,
           0.2374305657427202,
           0.23445861912311272,
           0.23084590362170904
          ],
          [
           0.3295600157548078,
           0.3218409843585887,
           0.31424443010705677,
           0.306717859860363,
           0.29920878047865784,
           0.29166469882209245,
           0.2841693291531001,
           0.2773512153432446,
           0.27194120851567666,
           0.26789045632753555,
           0.2643704029699499,
           0.2606718397998445,
           0.25669854744011456,
           0.25251426036576685,
           0.24833696337104758,
           0.24453889156944258,
           0.24137860474401024,
           0.23863313521362292,
           0.2359591334311065,
           0.2330132498492868,
           0.22945213492098973
          ],
          [
           0.3275770511368291,
           0.3198250576963522,
           0.31223429265231156,
           0.3047428797212551,
           0.29728894261973043,
           0.2898106050642859,
           0.2823811129156039,
           0.2756142006109062,
           0.2702256714725884,
           0.266171103866947,
           0.26264585120417905,
           0.25896085783767064,
           0.25502164492940704,
           0.25088878092383177,
           0.24677010511249095,
           0.24302072763403265,
           0.23988690340225588,
           0.23715385411032686,
           0.23449154314625348,
           0.2315699338980441,
           0.2280589897537065
          ],
          [
           0.32560023029390206,
           0.31780634829016285,
           0.31021979639282826,
           0.3027657696525948,
           0.2953694631201588,
           0.2879560718462169,
           0.280586527865706,
           0.27386471115052624,
           0.2684977482879965,
           0.26444548738253976,
           0.26092049805568246,
           0.2572489245932725,
           0.2533411714137301,
           0.24925963308563773,
           0.2452029818690067,
           0.2415061677152781,
           0.2384005951955805,
           0.23567978689171745,
           0.2330277948881613,
           0.23012867126938455,
           0.22666646811985935
          ],
          [
           0.3236295532260267,
           0.3157848561400205,
           0.3082009413286069,
           0.30078652965438224,
           0.293450341979943,
           0.2861010991678855,
           0.27878557400340653,
           0.2721027469621049,
           0.2667574389619012,
           0.2627136068743141,
           0.25919434352446014,
           0.2555360400666498,
           0.25165712689308384,
           0.24762681685118448,
           0.24363559364059484,
           0.23999521181317904,
           0.23691968012398423,
           0.23421093355779493,
           0.23156788865682995,
           0.2286894619633082,
           0.2252745700194483
          ],
          [
           0.3216650199332031,
           0.3137605812459254,
           0.30617772745964755,
           0.2988051597266175,
           0.2915315791990829,
           0.2842456870292917,
           0.2769782513287054,
           0.27032830804564206,
           0.26500474349430236,
           0.26097546234227,
           0.2574673876105122,
           0.2538222042578027,
           0.24996951136746817,
           0.24599033222047223,
           0.24206794042725546,
           0.23848785992773533,
           0.23544415818746695,
           0.23274729410855918,
           0.2301118244522594,
           0.22725230597981505,
           0.22388329545247337
          ],
          [
           0.31969351534107227,
           0.3117252442059919,
           0.3041441842549291,
           0.29681667595698086,
           0.2896090597812432,
           0.2823876761968129,
           0.27516600336546737,
           0.2685460702197091,
           0.26324465766779104,
           0.2592336751285632,
           0.255740160531472,
           0.252108291524963,
           0.24828034750119812,
           0.24435167435955116,
           0.24049906263889229,
           0.23698074751758835,
           0.23396992976744216,
           0.23128550824886943,
           0.2286578063444392,
           0.22581714743672074,
           0.22249385490828302
          ],
          [
           0.3177019243752753,
           0.3096705656183348,
           0.30209434118343115,
           0.29481609443315293,
           0.2876786687300886,
           0.28052490743682673,
           0.27335027363755726,
           0.26676070930287726,
           0.26148217726495876,
           0.25749086657534936,
           0.2540131925049734,
           0.25039517622636237,
           0.2465916579585887,
           0.24271233843447146,
           0.23892800068540923,
           0.23547051004137964,
           0.23249289524532343,
           0.22982221568358488,
           0.22720403840335898,
           0.22438393045184102,
           0.2211074588762258
          ],
          [
           0.3156902470358123,
           0.30759654548295423,
           0.3000281982451535,
           0.29280341515513403,
           0.2857404060456193,
           0.2786573807493332,
           0.2715310621449749,
           0.2649722252951467,
           0.25971730228580536,
           0.2557470366826288,
           0.2522864835310161,
           0.24868285836200094,
           0.24490344273963988,
           0.24107232444523327,
           0.2373547545668063,
           0.23395714749910898,
           0.23101305462111077,
           0.22835741641270563,
           0.22575052062901887,
           0.22295265502517586,
           0.2197241073563017
          ],
          [
           0.3136584833226831,
           0.30550318379985,
           0.29794575544009616,
           0.29077863812292365,
           0.28379427172783495,
           0.2767850961343322,
           0.2697083688877205,
           0.2631806181965171,
           0.25795003273033074,
           0.2540021854504013,
           0.2505600336096003,
           0.24697133793187856,
           0.2432157018443516,
           0.23943163239183646,
           0.2357793242830834,
           0.23244065989077645,
           0.22953040789480395,
           0.2268911104362315,
           0.22429725302141867,
           0.22152332115672524,
           0.2183438003485107
          ],
          [
           0.3116066332358877,
           0.3033904805690221,
           0.29584701276825887,
           0.28874176333652213,
           0.2818402657767357,
           0.27490805359182374,
           0.26788219386579387,
           0.26138588800698875,
           0.2561803685985351,
           0.2522563128786669,
           0.24883384274072584,
           0.2452606149359952,
           0.24152843527272394,
           0.23779026227428102,
           0.23420170983424057,
           0.23092104721638196,
           0.2280449550664032,
           0.22542329775416262,
           0.22284423558055844,
           0.22009592884648907,
           0.21696653785285275
          ],
          [
           0.30953469677542633,
           0.3012584357904709,
           0.2937319702296421,
           0.2866927907959294,
           0.27987838819232164,
           0.27302625312180795,
           0.26605253707919513,
           0.2595880347265615,
           0.25440830989041824,
           0.25050941896742557,
           0.2471079109243929,
           0.24355068937435104,
           0.2398416430247569,
           0.23614821409256706,
           0.23262191122027792,
           0.22939830947592574,
           0.22655669613590854,
           0.22395397836649902,
           0.22139146830643824,
           0.21867047809446755,
           0.21559231986932795
          ],
          [
           0.3074426739412988,
           0.2991070494641959,
           0.2916006278242457,
           0.2846317205011455,
           0.2779086389745927,
           0.27113969472428484,
           0.26421939852792437,
           0.2577870583552354,
           0.25263385660598026,
           0.2487615037166774,
           0.2453822381606014,
           0.24184156124694595,
           0.23815532510045045,
           0.23450548784669456,
           0.2310399284411953,
           0.2278724466694075,
           0.22506563110331987,
           0.22248315227324061,
           0.21993895119905804,
           0.21724696890066053,
           0.21422114639793624
          ],
          [
           0.305330564733505,
           0.2969363215901973,
           0.28945298555206933,
           0.28255855245217026,
           0.2759310181235488,
           0.26924837839925414,
           0.2623827782119812,
           0.25598295889301026,
           0.2508570087452211,
           0.24701256712642222,
           0.24365682444935122,
           0.24013323055377991,
           0.23646948149980457,
           0.23286208353666335,
           0.22945576149699273,
           0.22634345879682746,
           0.22357175996863707,
           0.22101081947438733,
           0.21848668425841775,
           0.215825401265068,
           0.21285301743867757
          ],
          [
           0.30319836915204523,
           0.2947462521684752,
           0.28728904341311345,
           0.28047328664900384,
           0.27394552563919006,
           0.2673523041467161,
           0.26054267613136617,
           0.25417573633988644,
           0.2490777663081409,
           0.2452626091966603,
           0.24193166979064254,
           0.23842569729485302,
           0.2347841122228193,
           0.23121800116247368,
           0.2278694103876703,
           0.22481134585818552,
           0.22207508273186038,
           0.21953697996993934,
           0.2170346674845175,
           0.21440577518769008,
           0.2114879329915521
          ],
          [
           0.3010460871969194,
           0.29253684119902956,
           0.2851088014073779,
           0.27837592309164616,
           0.2719521615215165,
           0.26545147196667074,
           0.25869909228607885,
           0.2523653906958638,
           0.24729612929473951,
           0.2435116299273914,
           0.2402067741844753,
           0.23671896147016522,
           0.23309921726949467,
           0.22957324072412538,
           0.22628087511322797,
           0.2232761078534817,
           0.22057559939298974,
           0.2180616337598966,
           0.21558290087735724,
           0.2129880906685267,
           0.2101258930565597
          ],
          [
           0.29887909072869645,
           0.2903184287142211,
           0.28292146913183935,
           0.27627110011486794,
           0.2699502097966239,
           0.2635416863104239,
           0.25684797799165376,
           0.25054977398397577,
           0.24551091973734637,
           0.24175797109890435,
           0.23848019431297082,
           0.23501222341844055,
           0.23141577921560139,
           0.2279299507591569,
           0.22469254807735853,
           0.22174010217200568,
           0.21907585001483476,
           0.2165874662010605,
           0.2141337347317672,
           0.21157343960803945,
           0.20876536483096145
          ],
          [
           0.29670275160794585,
           0.2881013547464108,
           0.2807362561834747,
           0.2741634560534398,
           0.26793895449060806,
           0.2616187516292817,
           0.25498528456362557,
           0.24872673822725638,
           0.24372095966829074,
           0.23999997449148797,
           0.23674998685825063,
           0.23330468347840302,
           0.22973478063691025,
           0.22629027980510652,
           0.2231068216837548,
           0.22020568620304723,
           0.21757837466020527,
           0.21511716265023245,
           0.21268951934257768,
           0.21016291390669006,
           0.20740481551201845
          ],
          [
           0.2945170698346675,
           0.2858856192955986,
           0.2785531625622841,
           0.27205299090736174,
           0.26591839560346925,
           0.2596826679232442,
           0.253111012001994,
           0.2468962834257055,
           0.2419262490875726,
           0.2382376401051422,
           0.2350161518203146,
           0.23159634165005272,
           0.2280562215334214,
           0.22465422786197428,
           0.22152369593241683,
           0.21867285994660626,
           0.2160831733291013,
           0.2136507231074125,
           0.21125025470978864,
           0.2087565135644785,
           0.2060442450997307
          ],
          [
           0.29232204540886125,
           0.2836712223617843,
           0.2763721882682672,
           0.2699397046766337,
           0.26388853313520716,
           0.2577334351923111,
           0.25122516030675907,
           0.2450584095793231,
           0.24012678799519188,
           0.23647096793986694,
           0.2332786891991627,
           0.22988719793338938,
           0.22638010190513458,
           0.22302179492976004,
           0.21994317082334439,
           0.21714162340268278,
           0.21459024602152266,
           0.21218814757260063,
           0.20981594083340002,
           0.20735423858140475,
           0.2046836535940981
          ],
          [
           0.2901176783305272,
           0.2814581639449681,
           0.2741933333014243,
           0.2678235973612556,
           0.26184936708582185,
           0.2557710534364827,
           0.24932772947792087,
           0.2432131166881091,
           0.23832257639114862,
           0.2346999579956623,
           0.2315375989947949,
           0.22817725232841324,
           0.2247064217520499,
           0.22139298100846397,
           0.21836524635653776,
           0.21561197657127676,
           0.2130995927374696,
           0.21072943604579672,
           0.2083865777134119,
           0.20595608895746872,
           0.20332304099512072
          ],
          [
           0.2879039685996655,
           0.27924644404515014,
           0.2720165976617553,
           0.2657046689612277,
           0.25980089745531343,
           0.253795522655759,
           0.2474187195154794,
           0.24136040475206372,
           0.23651361427544296,
           0.2329246102725283,
           0.22979288120721147,
           0.22646650483512426,
           0.22303518107416745,
           0.21976778609808606,
           0.21678992253199672,
           0.21408391945238828,
           0.21161121347694192,
           0.20927458852700104,
           0.2069621653498243,
           0.20456206469267063,
           0.2019624073027986
          ],
          [
           0.285680916216276,
           0.27703606266233016,
           0.26984198134926024,
           0.26358291947654977,
           0.25774312424368184,
           0.2518068428501399,
           0.24549813041943458,
           0.2395002737711867,
           0.2346999016480747,
           0.2311449247704649,
           0.22804453583641215,
           0.22475495545352242,
           0.2213663798714872,
           0.21814621019862615,
           0.21521719934972144,
           0.2125574520460173,
           0.21012510823993977,
           0.20782360501621336,
           0.20554270374263708,
           0.20317216578701025,
           0.20060175251713175
          ],
          [
           0.28344852118035857,
           0.27482701979650814,
           0.26766948436393906,
           0.26145834890722186,
           0.255676047450927,
           0.24980501401962524,
           0.2435659621897864,
           0.23763272374547822,
           0.23288143850904386,
           0.229360901489472,
           0.2262925628823969,
           0.22304260418360766,
           0.21970001814400897,
           0.21652825331008438,
           0.21364707680971176,
           0.21103257435216374,
           0.20864127702646298,
           0.20637648551343368,
           0.20412819289185039,
           0.20178639224048767,
           0.19924107663811996
          ],
          [
           0.28120678349191347,
           0.27261931544768425,
           0.2654991067057918,
           0.25933095725324395,
           0.2535996670770491,
           0.2477900361642153,
           0.241622214826535,
           0.23575775467493826,
           0.23105822485835062,
           0.22757254042954972,
           0.22453696234516587,
           0.22132945102538004,
           0.21803609589173298,
           0.21491391543246072,
           0.21207955491196784,
           0.20950928637082772,
           0.2071597198365117,
           0.20493323001866215,
           0.20271863279746416,
           0.20040474405310296,
           0.1978803796657635
          ],
          [
           0.27895570315094054,
           0.2704129496158585,
           0.26333084837481835,
           0.2572007445146162,
           0.2515139831220481,
           0.24576190928390998,
           0.2396668883296803,
           0.2338753665595668,
           0.22923026069599484,
           0.2257798415906981,
           0.2227777342247191,
           0.21961549597883961,
           0.2163746131146592,
           0.21330319656575517,
           0.21051463365648962,
           0.20798758810200924,
           0.20568043667008584,
           0.20349383853189867,
           0.20131402345947844,
           0.19902722122485605,
           0.19651966160006223
          ],
          [
           0.27669801129219923,
           0.2682055175547876,
           0.26116259954603027,
           0.2550689703430423,
           0.24942434302293917,
           0.24372843066283606,
           0.23770704001381415,
           0.2319903525228193,
           0.227400940233431,
           0.22398620441058487,
           0.22101837554057294,
           0.21790341664500723,
           0.21471703319610919,
           0.2116968202487454,
           0.2089528141676155,
           0.20646749262725247,
           0.20420217825700068,
           0.20205575762547942,
           0.19991150828612653,
           0.19765270779237992,
           0.19516263369767758
          ],
          [
           0.27443643905044873,
           0.2659946145182285,
           0.25899225039443874,
           0.2529368943902264,
           0.247336094216738,
           0.24169739758512035,
           0.2357497271935286,
           0.23010750568815133,
           0.22557365768211352,
           0.2221950283268777,
           0.21926238331224393,
           0.216195890624904,
           0.21306481951940465,
           0.2100955100202088,
           0.20739459756968393,
           0.20494901302810184,
           0.20272369532707138,
           0.20061643387174055,
           0.1985082306856418,
           0.19628008779230782,
           0.19381300721527092
          ],
          [
           0.27217098642568915,
           0.26378024050618104,
           0.25681980092004403,
           0.2508045166561683,
           0.24524923670344448,
           0.23966881005076307,
           0.23379494986882357,
           0.2282268260555629,
           0.22374841304204257,
           0.22040631333957664,
           0.2175097575397321,
           0.21449291791852992,
           0.21141797208454563,
           0.20849926588014564,
           0.20583998386269498,
           0.20343214930455727,
           0.20124498788029796,
           0.1991758672706821,
           0.19710419065802434,
           0.19490936122463953,
           0.1924707821528423
          ],
          [
           0.2699016534179204,
           0.2615623955186454,
           0.2546452511228458,
           0.24867183714086805,
           0.24316377048305857,
           0.23764266805976386,
           0.23184270803969903,
           0.22634831362505392,
           0.2219252063132179,
           0.21862005944868163,
           0.2157604982230373,
           0.21279449852588483,
           0.20977649089153205,
           0.20690808782855574,
           0.2042889730466486,
           0.2019169014566187,
           0.19976605591668026,
           0.19773405782230394,
           0.195699388203274,
           0.1935405280893751,
           0.19113595851039158
          ],
          [
           0.2676284400271424,
           0.2593410795556214,
           0.25246860100284424,
           0.24653885584432558,
           0.24107969555558026,
           0.23561897161212286,
           0.2298930017061549,
           0.22447196839662445,
           0.22010403749563967,
           0.21683626665419267,
           0.21401460536215966,
           0.21110063244696886,
           0.20814037594036391,
           0.20532197586543913,
           0.20274156512154473,
           0.2004032694842861,
           0.19828689943621844,
           0.19629100552660608,
           0.19429382332139086,
           0.19217358838651452,
           0.18980853628791888
          ],
          [
           0.26535134625335544,
           0.2571162926171093,
           0.2502898505600394,
           0.2444055727665411,
           0.23899701192100964,
           0.23359772070784027,
           0.22794583086819142,
           0.2225977903702745,
           0.2182849065893079,
           0.21505493495610992,
           0.21227207895709926,
           0.2094113196817821,
           0.20650962723104133,
           0.20374092999079593,
           0.20119776008738346,
           0.19889125338755972,
           0.19680751843891248,
           0.1948467103835887,
           0.19288749601237495,
           0.1908085421160579,
           0.1884885154854242
          ],
          [
           0.2630703720965593,
           0.25488803470310883,
           0.24810899979443116,
           0.24227198790751442,
           0.2369157195793466,
           0.23157891534691588,
           0.22600119552580838,
           0.22072577954600406,
           0.21646781359422254,
           0.21327606435443325,
           0.2105329190078559,
           0.20772656023032438,
           0.20488424476356415,
           0.202164950204626,
           0.19965755794416476,
           0.19738085316643939,
           0.19532791292476237,
           0.1934011723932517,
           0.19148040627622626,
           0.18944538927800517,
           0.18717589610290752
          ],
          [
           0.2607855175567539,
           0.25265630581362003,
           0.24592604870601945,
           0.2401381012672455,
           0.23483581853059116,
           0.22956255552934954,
           0.22405909567900578,
           0.21885593592381303,
           0.21465275851038343,
           0.21149965484916253,
           0.2087971255144296,
           0.2060463540925957,
           0.2032642285379324,
           0.20059403650692934,
           0.1981209586918886,
           0.195872068820925,
           0.19384808289376804,
           0.1919543915555949,
           0.19007255411294463,
           0.1880841298723563,
           0.18587067814036876
          ],
          [
           0.2584967826339395,
           0.250421105948643,
           0.24374099729480453,
           0.23800391284573452,
           0.23275730877474346,
           0.22754864125514165,
           0.22211953132778378,
           0.21698825950370162,
           0.2128397413377909,
           0.20972570644029806,
           0.20706469847682055,
           0.20437070126859616,
           0.20164957855414625,
           0.19902818889770604,
           0.196587962330555,
           0.19436490035101675,
           0.1923680283459296,
           0.1905063678706186,
           0.18866393952253027,
           0.18672476389911127,
           0.18457286159780806
          ],
          [
           0.2562041673281159,
           0.24818243510817778,
           0.24155384556078624,
           0.23586942264298144,
           0.23068019031180328,
           0.2255371725242919,
           0.2201825024721423,
           0.21512275028566968,
           0.21102876207644472,
           0.20795421912783962,
           0.20533563789502857,
           0.20269960175832583,
           0.2000402948122055,
           0.19746740737695603,
           0.19505856886016398,
           0.1928593477567145,
           0.19088774928124702,
           0.18905710133832263,
           0.18725456250498315,
           0.18536729135827018,
           0.18328244647522532
          ],
          [
           0.2539256365060029,
           0.2459592554709724,
           0.23938172018487872,
           0.23374827371413667,
           0.22861415912516087,
           0.22353461948436618,
           0.21825284673939113,
           0.2132638283627699,
           0.20922434724277264,
           0.20618965656144586,
           0.20361347979461292,
           0.20103450587856952,
           0.19843589945345397,
           0.19591109688321207,
           0.19353404888226805,
           0.19135922051552479,
           0.1894130465820992,
           0.1876132296265768,
           0.18585028912991036,
           0.1840147445730525,
           0.18199711543695596
          ],
          [
           0.25167915503432026,
           0.24377052921577524,
           0.23724174784799615,
           0.23165410911435064,
           0.22656891119820607,
           0.22154745228293007,
           0.21633540175684024,
           0.211415913828055,
           0.20743102335320238,
           0.20443648239077553,
           0.2019017602011328,
           0.19937686394611256,
           0.19683591461923527,
           0.1943586623550067,
           0.19201567299841954,
           0.189868328104954,
           0.18794972113086528,
           0.18618139040325088,
           0.18445698546691905,
           0.1826701558666779,
           0.18071455114733537
          ],
          [
           0.24946472291306804,
           0.24161625634258627,
           0.2351339285501386,
           0.22958692884362342,
           0.22454444653093897,
           0.21957567091998365,
           0.21443016752448965,
           0.20957900668152507,
           0.205648790407734,
           0.2026946966158284,
           0.20020047911458805,
           0.19772667596095483,
           0.1952403403095495,
           0.19281010379233998,
           0.19050344120861862,
           0.18838667052500216,
           0.1864977729275452,
           0.18476158366834494,
           0.18307465151600932,
           0.18133352523914628,
           0.17943475360636355
          ],
          [
           0.2472823401422461,
           0.23949643685140543,
           0.23305826229130597,
           0.22754673290195496,
           0.2225407651233595,
           0.21761927539552686,
           0.21253714404233934,
           0.20775310692317997,
           0.2038776484063675,
           0.2009642992366046,
           0.19850963653497888,
           0.19608394192309633,
           0.19364917652439662,
           0.191265421195212,
           0.1889973535128652,
           0.18691424777566926,
           0.18505720197213896,
           0.18335380942185892,
           0.18170328727718113,
           0.1800048526904577,
           0.17815772281404052
          ],
          [
           0.24513200672185442,
           0.23741107074223264,
           0.23101474907149822,
           0.2255335212893452,
           0.22055786697546767,
           0.21567826570955967,
           0.21065633131038916,
           0.20593821455301972,
           0.20211759734910262,
           0.19924529025310406,
           0.19682923246230508,
           0.19444866183253712,
           0.19206242326377654,
           0.1897246145636226,
           0.1874974099111593,
           0.18545105985695529,
           0.18362800826464656,
           0.18195806766379277,
           0.1803428927504344,
           0.17868413822061208,
           0.17688345877036618
          ],
          [
           0.24301372265189314,
           0.23536015801506807,
           0.22900338889071548,
           0.22354729400579432,
           0.2185957520872635,
           0.21375264186208218,
           0.20878772932863932,
           0.2041343295710444,
           0.20036863723593973,
           0.1975376696653268,
           0.19515926689656687,
           0.1928208356892771,
           0.19048008052768933,
           0.1881876838975719,
           0.1860036104035008,
           0.1839971067688602,
           0.182210191805068,
           0.1805743583941465,
           0.17899346793576923,
           0.17737138182960951,
           0.17561196147534067
          ],
          [
           0.24092748793236218,
           0.23334369866991173,
           0.22702418174895772,
           0.22158805105130222,
           0.21665442045874708,
           0.21184240385309433,
           0.20693133809708972,
           0.20234145197725392,
           0.19863076806687857,
           0.1958414374732729,
           0.19349973983776408,
           0.19120046349331646,
           0.1889021483161351,
           0.18665462919705986,
           0.18451595498988996,
           0.1825523885113841,
           0.1808037525934033,
           0.17920268161292024,
           0.17765501283318555,
           0.17606658351744997,
           0.17434323092896395
          ],
          [
           0.2388733025632615,
           0.23136169270676343,
           0.22507712764622484,
           0.21965579242586877,
           0.2147338720899182,
           0.20994755168259613,
           0.20508715761574028,
           0.20055958177164834,
           0.19690398984191926,
           0.1941565936769422,
           0.1918506512858967,
           0.1895875452446549,
           0.1873286266291136,
           0.18512545046208642,
           0.1830344436703265,
           0.18111690508452688,
           0.1794086906296524,
           0.17784303732011383,
           0.1763275274426834,
           0.17476974328413342,
           0.1730772671312359
          ],
          [
           0.2368511665445912,
           0.22941414012562333,
           0.22316222658251694,
           0.21775051812949422,
           0.21283410698077707,
           0.20806808535058757,
           0.20325518788459124,
           0.19878871895422767,
           0.19518830256106182,
           0.19248313827633493,
           0.19021200124096488,
           0.18798208094329272,
           0.18575951546662509,
           0.18360014769265173,
           0.18155907644481065,
           0.17969065648828864,
           0.17802500591381543,
           0.1764954255157274,
           0.1750110117642628,
           0.1734808611296599,
           0.17181407008215668
          ],
          [
           0.23486107987635124,
           0.22750104092649134,
           0.22127947855783398,
           0.2158722281621784,
           0.21095512513132356,
           0.20620400485706863,
           0.2014354289036423,
           0.19702886352499185,
           0.19348370622430616,
           0.19082107127145084,
           0.18858378970296855,
           0.1863840705892297,
           0.1841948148286694,
           0.1820787208887556,
           0.18008985331334226,
           0.1782736427226693,
           0.1766526984458922,
           0.17515984619976088,
           0.1737054657979237,
           0.1721999370540294,
           0.17055363978172616
          ],
          [
           0.23290883854490382,
           0.22562827884746078,
           0.2194369077481547,
           0.21403201527556814,
           0.20911089145828327,
           0.20437082632488254,
           0.19964289508329303,
           0.1952933136588212,
           0.19180177875103685,
           0.18918098574263367,
           0.1869766286994294,
           0.18480508991981826,
           0.18264672225282677,
           0.18057212218434823,
           0.1786346591820737,
           0.17687047569549216,
           0.1752942733731955,
           0.1738379866633527,
           0.17241285821402674,
           0.17093013067328083,
           0.16930104668917798
          ],
          [
           0.23100023853661117,
           0.22380173762662478,
           0.2176425383294578,
           0.21224097222131016,
           0.20731537087838164,
           0.20258406587687228,
           0.19789260083394247,
           0.1935953675305959,
           0.19015409806063838,
           0.18757347477022682,
           0.18540113025786925,
           0.18325671467241064,
           0.18112743527667735,
           0.1790913037133795,
           0.17720137895715715,
           0.17548576731458035,
           0.17395223584303798,
           0.1725315341976414,
           0.17113515768293247,
           0.16967460160345327,
           0.16806136126374552
          ],
          [
           0.2291352798514733,
           0.22202141726398333,
           0.21589637030174316,
           0.2104990989994045,
           0.20556856339161883,
           0.20084372351303792,
           0.19618454615559072,
           0.19193502514031605,
           0.1885406641531108,
           0.18599853835423025,
           0.1838572943782881,
           0.1817389448470069,
           0.17963695390022108,
           0.17763626547584943,
           0.17579001263859276,
           0.17411951757993394,
           0.1726265858554196,
           0.17124048880262693,
           0.169872364204641,
           0.16843334984454664,
           0.1668345835054288
          ],
          [
           0.22731396248949015,
           0.22028731775953656,
           0.21419840366501094,
           0.2088063956098511,
           0.20387046899799466,
           0.19914979923337944,
           0.1945187310482378,
           0.19031228648798154,
           0.18696147702845406,
           0.18445617649464408,
           0.18234512106068598,
           0.18025178044360685,
           0.17817527812345807,
           0.1762070074717581,
           0.1744005602263803,
           0.17277172649155284,
           0.17131732341034028,
           0.16996485047830936,
           0.16862447777915218,
           0.16720637539656094,
           0.16562071341422777
          ],
          [
           0.22553628645066182,
           0.2185994391132844,
           0.21254863841926108,
           0.20716286205265008,
           0.2022210876975093,
           0.19750229303789685,
           0.1928951555118837,
           0.18872715157359246,
           0.1854165366866682,
           0.18294638919146827,
           0.18086461030506285,
           0.17879522146221072,
           0.1767424079463882,
           0.17480352970110544,
           0.17303302172052004,
           0.17144239404943715,
           0.17002444850780013,
           0.16870461922468857,
           0.1673914984064661,
           0.16599367825949624,
           0.1644197509901425
          ],
          [
           0.22380225173498824,
           0.2169577813252268,
           0.21094707456449355,
           0.20556849832780127,
           0.20062041949016257,
           0.19590120492659016,
           0.19131381954652835,
           0.18717962039714878,
           0.18390584312775313,
           0.1814691764447028,
           0.17941576211141874,
           0.17736926790281834,
           0.17533834336901152,
           0.17342583216389149,
           0.17168739712101183,
           0.17013152025358677,
           0.16874796114779914,
           0.1674597950417647,
           0.16617342608658273,
           0.16479525843335244,
           0.16323169623317296
          ],
          [
           0.22211185834246938,
           0.21536234439536378,
           0.2093937121007084,
           0.20402330443530486,
           0.19906846437595463,
           0.1943465348994593,
           0.18977472315217184,
           0.1856696929586505,
           0.18242939635170896,
           0.18002453825434764,
           0.1779985764797536,
           0.17597391976542984,
           0.17396308439132807,
           0.1720739148601162,
           0.17036368642785568,
           0.16883910510400177,
           0.16748786133033725,
           0.16623037792953763,
           0.1649702608195021,
           0.16361111591812963,
           0.16205654914331916
          ],
          [
           0.2204651062731054,
           0.2138131283236954,
           0.20788855102790563,
           0.2025272803751607,
           0.1975652223548854,
           0.1928382829565044,
           0.18827786632881408,
           0.1841973692580976,
           0.18098719635853566,
           0.17861247462040286,
           0.17661305341006742,
           0.17460917705004514,
           0.17261663101333782,
           0.1707477777897796,
           0.16906188964105162,
           0.16756514860068222,
           0.1662441490554145,
           0.1650163678880075,
           0.1637820026052242,
           0.16244125071382776,
           0.16089430972058114
          ],
          [
           0.21886199552689606,
           0.21231013311022162,
           0.20643159134608516,
           0.20108042614736885,
           0.1961106934269549,
           0.19137644909772533,
           0.18682324907645517,
           0.1827626492954901,
           0.17957924314823326,
           0.17723298554286837,
           0.1752591929023603,
           0.1732750397566643,
           0.17129898323504075,
           0.16944742095288165,
           0.16778200676059962,
           0.16630965074362797,
           0.1650168243230309,
           0.16381776491717415,
           0.162608651443749,
           0.16128566282044685,
           0.15974497796495885
          ],
          [
           0.21730252610384154,
           0.21085335875494243,
           0.20502283305524704,
           0.19968274175192935,
           0.19470487759216307,
           0.18996103332312217,
           0.185410871395095,
           0.18136553307082798,
           0.1782055367208016,
           0.17588607102174425,
           0.17393699495663215,
           0.17197150788528723,
           0.17001014105643686,
           0.16817284434942237,
           0.1665240377864997,
           0.16507261153283911,
           0.16380588713318645,
           0.16263456901703763,
           0.16145020733507653,
           0.16014435223798684,
           0.15860855387645223
          ],
          [
           0.2157866980039418,
           0.20944280525785783,
           0.2036622761553913,
           0.19833422718884208,
           0.19334777485051002,
           0.18859203563269494,
           0.18404073328473372,
           0.18000602058411125,
           0.17686607707624089,
           0.1745717310570305,
           0.172646459572883,
           0.170698581435914,
           0.1687501044775262,
           0.16692404797940186,
           0.16528798271875186,
           0.16385403096831563,
           0.16261133748588108,
           0.161466780187598,
           0.16030667027920678,
           0.15901731896644783,
           0.15748503745506143
          ],
          [
           0.21431451122719683,
           0.20807847261896786,
           0.20234992064651794,
           0.19703488245810716,
           0.19203938520199568,
           0.18726945602644357,
           0.1827128347453712,
           0.17868411183534003,
           0.17556086421455103,
           0.1732899656487271,
           0.17138758675111285,
           0.1694562604085446,
           0.16751887349830874,
           0.16570103184281998,
           0.16407384155735608,
           0.16265390905005753,
           0.16143317538111485,
           0.1603143984288552,
           0.15917804027613977,
           0.15790456300582975,
           0.15637442870078633
          ],
          [
           0.21288596577360663,
           0.20676036083827246,
           0.20108576652862692,
           0.19578470755972455,
           0.19077970864662008,
           0.18599329450436805,
           0.18142717577700748,
           0.1773998068245141,
           0.17428989813573204,
           0.17204077479683402,
           0.1701603764913217,
           0.16824454480317902,
           0.1663164481187845,
           0.16450379593967687,
           0.16288161430231238,
           0.1614722457780648,
           0.16027140081888783,
           0.15917742374080932,
           0.15806431732587548,
           0.15680608435613266,
           0.155276727613627
          ],
          [
           0.21150106164317115,
           0.20548846991577166,
           0.19986981380171823,
           0.19458370249369425,
           0.18956874518438313,
           0.18476355106646847,
           0.1801837563796425,
           0.17615310555163352,
           0.17305317883978383,
           0.1708241585013513,
           0.16896482879350952,
           0.16706343461981724,
           0.16514282833895336,
           0.16333234026997237,
           0.16171130095362074,
           0.16030904115233735,
           0.15912601379919988,
           0.15805585612346018,
           0.15696550142841387,
           0.15572188301735645,
           0.15419193419358337
          ],
          [
           0.21015979883589048,
           0.20426279985146548,
           0.1987020624657919,
           0.19343186726001624,
           0.18840649481528499,
           0.18358022571274474,
           0.1789825765532764,
           0.17494400801669843,
           0.17185070632670654,
           0.16964011676227894,
           0.1678009436576764,
           0.1659129298584593,
           0.16399801415881549,
           0.16218666483370658,
           0.16056290151128125,
           0.15916429517287534,
           0.15799701432205107,
           0.15694969557680796,
           0.15588159258375506,
           0.15465195898950124,
           0.15312004844065552
          ]
         ]
        }
       ],
       "layout": {
        "autosize": true,
        "height": 800,
        "scene": {
         "aspectmode": "cube",
         "camera": {
          "eye": {
           "x": 2,
           "y": 1,
           "z": 1.25
          }
         },
         "xaxis": {
          "tickfont": {
           "size": 10
          },
          "title": {
           "text": "Maturity"
          },
          "type": "linear"
         },
         "yaxis": {
          "tickangle": 1,
          "tickfont": {
           "size": 10
          },
          "title": {
           "text": "Forward Strike Difference"
          }
         },
         "zaxis": {
          "tickfont": {
           "size": 10
          },
          "title": {
           "text": "Implied Volatility"
          }
         }
        },
        "template": {
         "data": {
          "bar": [
           {
            "error_x": {
             "color": "#2a3f5f"
            },
            "error_y": {
             "color": "#2a3f5f"
            },
            "marker": {
             "line": {
              "color": "#E5ECF6",
              "width": 0.5
             }
            },
            "type": "bar"
           }
          ],
          "barpolar": [
           {
            "marker": {
             "line": {
              "color": "#E5ECF6",
              "width": 0.5
             }
            },
            "type": "barpolar"
           }
          ],
          "carpet": [
           {
            "aaxis": {
             "endlinecolor": "#2a3f5f",
             "gridcolor": "white",
             "linecolor": "white",
             "minorgridcolor": "white",
             "startlinecolor": "#2a3f5f"
            },
            "baxis": {
             "endlinecolor": "#2a3f5f",
             "gridcolor": "white",
             "linecolor": "white",
             "minorgridcolor": "white",
             "startlinecolor": "#2a3f5f"
            },
            "type": "carpet"
           }
          ],
          "choropleth": [
           {
            "colorbar": {
             "outlinewidth": 0,
             "ticks": ""
            },
            "type": "choropleth"
           }
          ],
          "contour": [
           {
            "colorbar": {
             "outlinewidth": 0,
             "ticks": ""
            },
            "colorscale": [
             [
              0,
              "#0d0887"
             ],
             [
              0.1111111111111111,
              "#46039f"
             ],
             [
              0.2222222222222222,
              "#7201a8"
             ],
             [
              0.3333333333333333,
              "#9c179e"
             ],
             [
              0.4444444444444444,
              "#bd3786"
             ],
             [
              0.5555555555555556,
              "#d8576b"
             ],
             [
              0.6666666666666666,
              "#ed7953"
             ],
             [
              0.7777777777777778,
              "#fb9f3a"
             ],
             [
              0.8888888888888888,
              "#fdca26"
             ],
             [
              1,
              "#f0f921"
             ]
            ],
            "type": "contour"
           }
          ],
          "contourcarpet": [
           {
            "colorbar": {
             "outlinewidth": 0,
             "ticks": ""
            },
            "type": "contourcarpet"
           }
          ],
          "heatmap": [
           {
            "colorbar": {
             "outlinewidth": 0,
             "ticks": ""
            },
            "colorscale": [
             [
              0,
              "#0d0887"
             ],
             [
              0.1111111111111111,
              "#46039f"
             ],
             [
              0.2222222222222222,
              "#7201a8"
             ],
             [
              0.3333333333333333,
              "#9c179e"
             ],
             [
              0.4444444444444444,
              "#bd3786"
             ],
             [
              0.5555555555555556,
              "#d8576b"
             ],
             [
              0.6666666666666666,
              "#ed7953"
             ],
             [
              0.7777777777777778,
              "#fb9f3a"
             ],
             [
              0.8888888888888888,
              "#fdca26"
             ],
             [
              1,
              "#f0f921"
             ]
            ],
            "type": "heatmap"
           }
          ],
          "heatmapgl": [
           {
            "colorbar": {
             "outlinewidth": 0,
             "ticks": ""
            },
            "colorscale": [
             [
              0,
              "#0d0887"
             ],
             [
              0.1111111111111111,
              "#46039f"
             ],
             [
              0.2222222222222222,
              "#7201a8"
             ],
             [
              0.3333333333333333,
              "#9c179e"
             ],
             [
              0.4444444444444444,
              "#bd3786"
             ],
             [
              0.5555555555555556,
              "#d8576b"
             ],
             [
              0.6666666666666666,
              "#ed7953"
             ],
             [
              0.7777777777777778,
              "#fb9f3a"
             ],
             [
              0.8888888888888888,
              "#fdca26"
             ],
             [
              1,
              "#f0f921"
             ]
            ],
            "type": "heatmapgl"
           }
          ],
          "histogram": [
           {
            "marker": {
             "colorbar": {
              "outlinewidth": 0,
              "ticks": ""
             }
            },
            "type": "histogram"
           }
          ],
          "histogram2d": [
           {
            "colorbar": {
             "outlinewidth": 0,
             "ticks": ""
            },
            "colorscale": [
             [
              0,
              "#0d0887"
             ],
             [
              0.1111111111111111,
              "#46039f"
             ],
             [
              0.2222222222222222,
              "#7201a8"
             ],
             [
              0.3333333333333333,
              "#9c179e"
             ],
             [
              0.4444444444444444,
              "#bd3786"
             ],
             [
              0.5555555555555556,
              "#d8576b"
             ],
             [
              0.6666666666666666,
              "#ed7953"
             ],
             [
              0.7777777777777778,
              "#fb9f3a"
             ],
             [
              0.8888888888888888,
              "#fdca26"
             ],
             [
              1,
              "#f0f921"
             ]
            ],
            "type": "histogram2d"
           }
          ],
          "histogram2dcontour": [
           {
            "colorbar": {
             "outlinewidth": 0,
             "ticks": ""
            },
            "colorscale": [
             [
              0,
              "#0d0887"
             ],
             [
              0.1111111111111111,
              "#46039f"
             ],
             [
              0.2222222222222222,
              "#7201a8"
             ],
             [
              0.3333333333333333,
              "#9c179e"
             ],
             [
              0.4444444444444444,
              "#bd3786"
             ],
             [
              0.5555555555555556,
              "#d8576b"
             ],
             [
              0.6666666666666666,
              "#ed7953"
             ],
             [
              0.7777777777777778,
              "#fb9f3a"
             ],
             [
              0.8888888888888888,
              "#fdca26"
             ],
             [
              1,
              "#f0f921"
             ]
            ],
            "type": "histogram2dcontour"
           }
          ],
          "mesh3d": [
           {
            "colorbar": {
             "outlinewidth": 0,
             "ticks": ""
            },
            "type": "mesh3d"
           }
          ],
          "parcoords": [
           {
            "line": {
             "colorbar": {
              "outlinewidth": 0,
              "ticks": ""
             }
            },
            "type": "parcoords"
           }
          ],
          "scatter": [
           {
            "marker": {
             "colorbar": {
              "outlinewidth": 0,
              "ticks": ""
             }
            },
            "type": "scatter"
           }
          ],
          "scatter3d": [
           {
            "line": {
             "colorbar": {
              "outlinewidth": 0,
              "ticks": ""
             }
            },
            "marker": {
             "colorbar": {
              "outlinewidth": 0,
              "ticks": ""
             }
            },
            "type": "scatter3d"
           }
          ],
          "scattercarpet": [
           {
            "marker": {
             "colorbar": {
              "outlinewidth": 0,
              "ticks": ""
             }
            },
            "type": "scattercarpet"
           }
          ],
          "scattergeo": [
           {
            "marker": {
             "colorbar": {
              "outlinewidth": 0,
              "ticks": ""
             }
            },
            "type": "scattergeo"
           }
          ],
          "scattergl": [
           {
            "marker": {
             "colorbar": {
              "outlinewidth": 0,
              "ticks": ""
             }
            },
            "type": "scattergl"
           }
          ],
          "scattermapbox": [
           {
            "marker": {
             "colorbar": {
              "outlinewidth": 0,
              "ticks": ""
             }
            },
            "type": "scattermapbox"
           }
          ],
          "scatterpolar": [
           {
            "marker": {
             "colorbar": {
              "outlinewidth": 0,
              "ticks": ""
             }
            },
            "type": "scatterpolar"
           }
          ],
          "scatterpolargl": [
           {
            "marker": {
             "colorbar": {
              "outlinewidth": 0,
              "ticks": ""
             }
            },
            "type": "scatterpolargl"
           }
          ],
          "scatterternary": [
           {
            "marker": {
             "colorbar": {
              "outlinewidth": 0,
              "ticks": ""
             }
            },
            "type": "scatterternary"
           }
          ],
          "surface": [
           {
            "colorbar": {
             "outlinewidth": 0,
             "ticks": ""
            },
            "colorscale": [
             [
              0,
              "#0d0887"
             ],
             [
              0.1111111111111111,
              "#46039f"
             ],
             [
              0.2222222222222222,
              "#7201a8"
             ],
             [
              0.3333333333333333,
              "#9c179e"
             ],
             [
              0.4444444444444444,
              "#bd3786"
             ],
             [
              0.5555555555555556,
              "#d8576b"
             ],
             [
              0.6666666666666666,
              "#ed7953"
             ],
             [
              0.7777777777777778,
              "#fb9f3a"
             ],
             [
              0.8888888888888888,
              "#fdca26"
             ],
             [
              1,
              "#f0f921"
             ]
            ],
            "type": "surface"
           }
          ],
          "table": [
           {
            "cells": {
             "fill": {
              "color": "#EBF0F8"
             },
             "line": {
              "color": "white"
             }
            },
            "header": {
             "fill": {
              "color": "#C8D4E3"
             },
             "line": {
              "color": "white"
             }
            },
            "type": "table"
           }
          ]
         },
         "layout": {
          "annotationdefaults": {
           "arrowcolor": "#2a3f5f",
           "arrowhead": 0,
           "arrowwidth": 1
          },
          "colorscale": {
           "diverging": [
            [
             0,
             "#8e0152"
            ],
            [
             0.1,
             "#c51b7d"
            ],
            [
             0.2,
             "#de77ae"
            ],
            [
             0.3,
             "#f1b6da"
            ],
            [
             0.4,
             "#fde0ef"
            ],
            [
             0.5,
             "#f7f7f7"
            ],
            [
             0.6,
             "#e6f5d0"
            ],
            [
             0.7,
             "#b8e186"
            ],
            [
             0.8,
             "#7fbc41"
            ],
            [
             0.9,
             "#4d9221"
            ],
            [
             1,
             "#276419"
            ]
           ],
           "sequential": [
            [
             0,
             "#0d0887"
            ],
            [
             0.1111111111111111,
             "#46039f"
            ],
            [
             0.2222222222222222,
             "#7201a8"
            ],
            [
             0.3333333333333333,
             "#9c179e"
            ],
            [
             0.4444444444444444,
             "#bd3786"
            ],
            [
             0.5555555555555556,
             "#d8576b"
            ],
            [
             0.6666666666666666,
             "#ed7953"
            ],
            [
             0.7777777777777778,
             "#fb9f3a"
            ],
            [
             0.8888888888888888,
             "#fdca26"
            ],
            [
             1,
             "#f0f921"
            ]
           ],
           "sequentialminus": [
            [
             0,
             "#0d0887"
            ],
            [
             0.1111111111111111,
             "#46039f"
            ],
            [
             0.2222222222222222,
             "#7201a8"
            ],
            [
             0.3333333333333333,
             "#9c179e"
            ],
            [
             0.4444444444444444,
             "#bd3786"
            ],
            [
             0.5555555555555556,
             "#d8576b"
            ],
            [
             0.6666666666666666,
             "#ed7953"
            ],
            [
             0.7777777777777778,
             "#fb9f3a"
            ],
            [
             0.8888888888888888,
             "#fdca26"
            ],
            [
             1,
             "#f0f921"
            ]
           ]
          },
          "colorway": [
           "#636efa",
           "#EF553B",
           "#00cc96",
           "#ab63fa",
           "#FFA15A",
           "#19d3f3",
           "#FF6692",
           "#B6E880",
           "#FF97FF",
           "#FECB52"
          ],
          "font": {
           "color": "#2a3f5f"
          },
          "geo": {
           "bgcolor": "white",
           "lakecolor": "white",
           "landcolor": "#E5ECF6",
           "showlakes": true,
           "showland": true,
           "subunitcolor": "white"
          },
          "hoverlabel": {
           "align": "left"
          },
          "hovermode": "closest",
          "mapbox": {
           "style": "light"
          },
          "paper_bgcolor": "white",
          "plot_bgcolor": "#E5ECF6",
          "polar": {
           "angularaxis": {
            "gridcolor": "white",
            "linecolor": "white",
            "ticks": ""
           },
           "bgcolor": "#E5ECF6",
           "radialaxis": {
            "gridcolor": "white",
            "linecolor": "white",
            "ticks": ""
           }
          },
          "scene": {
           "xaxis": {
            "backgroundcolor": "#E5ECF6",
            "gridcolor": "white",
            "gridwidth": 2,
            "linecolor": "white",
            "showbackground": true,
            "ticks": "",
            "zerolinecolor": "white"
           },
           "yaxis": {
            "backgroundcolor": "#E5ECF6",
            "gridcolor": "white",
            "gridwidth": 2,
            "linecolor": "white",
            "showbackground": true,
            "ticks": "",
            "zerolinecolor": "white"
           },
           "zaxis": {
            "backgroundcolor": "#E5ECF6",
            "gridcolor": "white",
            "gridwidth": 2,
            "linecolor": "white",
            "showbackground": true,
            "ticks": "",
            "zerolinecolor": "white"
           }
          },
          "shapedefaults": {
           "line": {
            "color": "#2a3f5f"
           }
          },
          "ternary": {
           "aaxis": {
            "gridcolor": "white",
            "linecolor": "white",
            "ticks": ""
           },
           "baxis": {
            "gridcolor": "white",
            "linecolor": "white",
            "ticks": ""
           },
           "bgcolor": "#E5ECF6",
           "caxis": {
            "gridcolor": "white",
            "linecolor": "white",
            "ticks": ""
           }
          },
          "title": {
           "x": 0.05
          },
          "xaxis": {
           "automargin": true,
           "gridcolor": "white",
           "linecolor": "white",
           "ticks": "",
           "zerolinecolor": "white",
           "zerolinewidth": 2
          },
          "yaxis": {
           "automargin": true,
           "gridcolor": "white",
           "linecolor": "white",
           "ticks": "",
           "zerolinecolor": "white",
           "zerolinewidth": 2
          }
         }
        }
       }
      },
      "text/html": [
       "<div>\n",
       "        \n",
       "        \n",
       "            <div id=\"9bc2e88c-ea2b-4541-8453-641061a4b006\" class=\"plotly-graph-div\" style=\"height:800px; width:100%;\"></div>\n",
       "            <script type=\"text/javascript\">\n",
       "                require([\"plotly\"], function(Plotly) {\n",
       "                    window.PLOTLYENV=window.PLOTLYENV || {};\n",
       "                    \n",
       "                if (document.getElementById(\"9bc2e88c-ea2b-4541-8453-641061a4b006\")) {\n",
       "                    Plotly.newPlot(\n",
       "                        '9bc2e88c-ea2b-4541-8453-641061a4b006',\n",
       "                        [{\"colorbar\": {\"len\": 0.5, \"thickness\": 15, \"title\": {\"text\": \"Number\"}}, \"colorscale\": [[0.0, \"rgb(255,255,217)\"], [0.125, \"rgb(237,248,177)\"], [0.25, \"rgb(199,233,180)\"], [0.375, \"rgb(127,205,187)\"], [0.5, \"rgb(65,182,196)\"], [0.625, \"rgb(29,145,192)\"], [0.75, \"rgb(34,94,168)\"], [0.875, \"rgb(37,52,148)\"], [1.0, \"rgb(8,29,88)\"]], \"opacity\": 0.8, \"type\": \"surface\", \"x\": [1.2499999999999998, 1.1999999999999997, 1.15, 1.0999999999999999, 1.0499999999999998, 0.9999999999999998, 0.9499999999999998, 0.8999999999999999, 0.8499999999999999, 0.7999999999999998, 0.7499999999999999, 0.7, 0.6499999999999999, 0.5999999999999999, 0.5499999999999999, 0.49999999999999994, 0.44999999999999996, 0.39999999999999997, 0.35, 0.3, 0.25], \"y\": [-20.0, -19.5, -19.0, -18.5, -18.0, -17.5, -17.0, -16.5, -16.0, -15.5, -15.0, -14.5, -14.0, -13.5, -13.0, -12.5, -12.0, -11.5, -11.0, -10.5, -10.0, -9.5, -9.0, -8.5, -8.0, -7.5, -7.0, -6.5, -6.0, -5.5, -5.0, -4.5, -4.0, -3.5, -3.0, -2.5, -2.0, -1.5, -1.0, -0.5, 0.0, 0.5, 1.0, 1.5, 2.0, 2.5, 3.0, 3.5, 4.0, 4.5, 5.0, 5.5, 6.0, 6.5, 7.0, 7.5, 8.0, 8.5, 9.0, 9.5, 10.0, 10.5, 11.0, 11.5, 12.0, 12.5, 13.0, 13.5, 14.0, 14.5, 15.0, 15.5, 16.0, 16.5, 17.0, 17.5, 18.0, 18.5, 19.0, 19.5, 20.0], \"z\": [[0.3695504357254893, 0.36200938372239233, 0.3542189676552519, 0.3461075561877262, 0.33760351798347316, 0.32863522170615095, 0.31939980912662147, 0.31116951444456287, 0.30541557282909804, 0.3020044602808909, 0.29919789363214566, 0.2955436002051608, 0.2910124378336463, 0.28593828565020246, 0.280821512221285, 0.2763289755472047, 0.2729081522739208, 0.2701000389458378, 0.2672190120819714, 0.2635794482013375, 0.25849572382295155], [0.3678342759304052, 0.3602482242565496, 0.3524590872693477, 0.3443826081832265, 0.335934530212614, 0.3270305965719373, 0.31785500503900144, 0.3096657716451225, 0.3039202813452255, 0.30048694937956183, 0.29764522127370907, 0.29396074771898106, 0.2894203426287114, 0.2843722676868201, 0.2793063947740929, 0.27485420596818283, 0.2714374966539754, 0.26861468758496304, 0.26572835585679033, 0.2621210785651017, 0.2571354328055414], [0.36609696169665, 0.358470742076176, 0.350683901722199, 0.342641371379243, 0.3342480817918321, 0.32540896370449, 0.31629626889143214, 0.3081515332456388, 0.3024153529207017, 0.298958326381375, 0.29608105440357474, 0.2923694851540748, 0.28782399943939935, 0.2828037933853087, 0.27778782778142946, 0.27337482808125424, 0.2699629719926628, 0.2671274176038893, 0.2642375680982564, 0.26066282665908685, 0.25577259646970313], [0.3643384930242237, 0.3566769371812712, 0.3488934110138059, 0.3408838457757753, 0.33254417272112724, 0.32377032310380915, 0.3147236006839135, 0.3066267992461117, 0.3009007875555267, 0.2974185912863302, 0.2945053930217427, 0.290769812510442, 0.28622340826570986, 0.28123286274566855, 0.27626581124329463, 0.2718908418864188, 0.2684845782899831, 0.2656382290026165, 0.2627466488063695, 0.25920469248329275, 0.2544072148154367], [0.3625588699131264, 0.35486680957183553, 0.34708761514416836, 0.33911003137282375, 0.3308228030004997, 0.32211467476989475, 0.3131370004164455, 0.3050915696465412, 0.29937658524970046, 0.2958677440944276, 0.29291823712821285, 0.2891617297880826, 0.28461856910764305, 0.27965947576789946, 0.27474034515968837, 0.2704022473836766, 0.26700231554593634, 0.26414712178114474, 0.2612555979811297, 0.25774667603771956, 0.2530392878427422], [0.360758092363358, 0.3530403592478688, 0.34526651411328657, 0.3373199281703881, 0.3290839726299493, 0.3204420187027468, 0.31153646808902813, 0.3035458444469275, 0.297842746003223, 0.294305784805667, 0.29131958672298536, 0.2875452369869966, 0.2830094819651988, 0.2780836324520017, 0.27321142953061067, 0.2689090445730276, 0.2655161837605226, 0.262654095939474, 0.25976441562253705, 0.25628877732236716, 0.25166881555161963], [0.35893616037491854, 0.351197586209371, 0.3434301079211604, 0.3355135361684684, 0.3273276816094763, 0.3187523549023652, 0.30992200370166145, 0.3019896236472703, 0.2962992698160944, 0.2927327134200487, 0.2897094418060601, 0.2859203341071839, 0.2813961468383772, 0.27650533279797496, 0.27167906435606165, 0.26741123345447193, 0.26402618293374186, 0.2611591514776043, 0.2582731017305915, 0.25483099633723566, 0.25029579794206885], [0.35709307394780804, 0.3493384904563422, 0.3415783965677899, 0.33369085536706466, 0.3255539299390803, 0.31704568336875005, 0.30829360725434546, 0.3004229072475698, 0.2947461566883145, 0.2911485299375724, 0.28808780237743714, 0.2842870211486448, 0.2797785637271783, 0.2749245768058193, 0.2701432496360412, 0.2659088140280095, 0.26253231306559394, 0.25966228839553557, 0.25678165630529304, 0.253373333082325, 0.24892023501409002], [0.35522883308202635, 0.34746307198878246, 0.33971138005317486, 0.331851885766177, 0.3237627176187615, 0.3153220041019013, 0.3066512787470801, 0.2988456952478259, 0.2931834066198834, 0.28955323435823815, 0.2864546684371164, 0.28264529811137906, 0.27815673263160207, 0.2733413644755348, 0.26860398537054947, 0.2644017862936402, 0.26103457415607895, 0.2581635066932679, 0.2552900793466416, 0.2519157875576351, 0.24754212676768303], [0.3533434377775737, 0.3455713308066916, 0.33782905837731575, 0.3299966273658054, 0.32195404464852, 0.313581317101819, 0.3049950181798655, 0.2972579876480387, 0.29161101961080105, 0.28794682668204613, 0.284810039985098, 0.28099516499538674, 0.27653065355164846, 0.27175569580712156, 0.26706127155958614, 0.2628901502513641, 0.2595329662051969, 0.2566628063708011, 0.25379837085463736, 0.2504583597631662, 0.24616147320284795], [0.35143688803444995, 0.3436632669100699, 0.3359314315402121, 0.32812508016594977, 0.3201279110283557, 0.31182362236850314, 0.30332482555270157, 0.29565978444820806, 0.29002899566106766, 0.2863293069089962, 0.2831539170213818, 0.2793366218006679, 0.2749003264873174, 0.2701675708005794, 0.26551510820315155, 0.2613739059011813, 0.2580274892129477, 0.25516018742813534, 0.2523065308292802, 0.24900104969891806, 0.24477827431958477], [0.34950918385265517, 0.341738880298917, 0.334018499541864, 0.32623724416661004, 0.3182843167582687, 0.31004891990195366, 0.30164070086558825, 0.29405108564833415, 0.2884373347706828, 0.2847006750390884, 0.28148629954596793, 0.27766966852722236, 0.27326575143860904, 0.2685769894559084, 0.2639654953012456, 0.25985305324309177, 0.2565181431793315, 0.25365564986527067, 0.2508145592705701, 0.24754385736489076, 0.2433925301178934], [0.3475603252321893, 0.33979817097323334, 0.3320902623822717, 0.32433311936778636, 0.31642326183825875, 0.30825720970217063, 0.29994264411852567, 0.2924318912484169, 0.28683603693964693, 0.2830609310723227, 0.2798071875588563, 0.2759943051750503, 0.2716269284055235, 0.2669839517731086, 0.26241243285386817, 0.2583275922770954, 0.25500492810434827, 0.252149193682207, 0.24932245617850718, 0.24608678276108437, 0.24200424059777403], [0.34559031217305236, 0.3378411389330183, 0.3301467200614349, 0.32241270576947856, 0.31454474626832607, 0.30644849176915395, 0.29823065531151366, 0.29080220124845624, 0.28522510216795965, 0.28141007500869925, 0.2781165810600469, 0.27431053174415165, 0.26998385738806036, 0.2653884577521798, 0.26085592086101944, 0.25679752300319225, 0.2534878439879979, 0.2506408188789443, 0.24783022155309126, 0.24462982588749874, 0.24061340575922646], [0.34359914467524433, 0.33586778417827257, 0.3281878725793537, 0.3204760033716869, 0.3126487700484706, 0.30462276610290373, 0.29650473444455233, 0.28916201564845223, 0.28360453045562134, 0.2797481068482177, 0.2764144800495398, 0.2726183482345264, 0.26833653838622, 0.2637905073931222, 0.25929595932269933, 0.25526284542138233, 0.2519668908302805, 0.24913052545548264, 0.24633785539432257, 0.24317298674413407, 0.2392200256022508], [0.3415868227387652, 0.3338781067089957, 0.32621371993602827, 0.3185230121744112, 0.31073533317869234, 0.30278003270342, 0.29476488151764174, 0.2875113344484048, 0.28197432180263166, 0.2780750265908784, 0.274700884527335, 0.27091775464617457, 0.26668497140000225, 0.2621901006959358, 0.25773254823890773, 0.25372355953166564, 0.25044206863119595, 0.24761831341182194, 0.2448453577022008, 0.2417162653309901, 0.23782410012684702], [0.3395669954704764, 0.3318788765104769, 0.32422973530971155, 0.31656081161261734, 0.30881334516363057, 0.3009285757071882, 0.2930148781545556, 0.28584916808431515, 0.2803331016085647, 0.27639325827320094, 0.27298114105791843, 0.2692124803773473, 0.2650294949191111, 0.26058663163155527, 0.2561672798899168, 0.2521837714963233, 0.24891800847896745, 0.24610774900040516, 0.24335471525678312, 0.24026062944424828, 0.23642721375894726], [0.3375533119772393, 0.329876863568005, 0.32224139187865675, 0.31459648112127103, 0.30689171550792455, 0.2990766792506939, 0.2912585059790678, 0.2841745269921839, 0.2786794952729942, 0.2747052259317048, 0.27126059620577614, 0.26750625482629553, 0.2633704474332505, 0.25897949417091587, 0.2546017465559981, 0.25064758747763627, 0.24739934146181797, 0.2446023984736751, 0.2418679148381262, 0.2388070468800896, 0.23503095092448353], [0.33554577225905396, 0.32787206788158046, 0.320248689642864, 0.31263002070037255, 0.30497044421157427, 0.29722434333393727, 0.2894957649911784, 0.2824874111720112, 0.27701350279592013, 0.2730109295663904, 0.2695392499709082, 0.2657990779930195, 0.2617078289424206, 0.25736868831401727, 0.25303594823715186, 0.24911500747560478, 0.24588606757974754, 0.24310226183163194, 0.24038495644623006, 0.23735551763851415, 0.233635311623456], [0.33354437631592015, 0.32586448945120283, 0.31825162860233286, 0.31066143034992166, 0.30304953127457973, 0.2953715679569181, 0.2877266551908872, 0.2807878206237971, 0.27533512417734246, 0.2713103691772572, 0.2678171023533144, 0.26409094987751885, 0.2600416394466213, 0.2557542140608594, 0.2514698849333781, 0.2475860314902286, 0.24437818683275608, 0.24160733907427545, 0.23890584008109475, 0.23590604171952181, 0.23224029585586445], [0.33154912414783816, 0.32385412827687216, 0.31625020875706383, 0.3086907100699185, 0.3011289766969409, 0.2935183531196365, 0.28595117657819447, 0.27907575534754153, 0.2736443594172613, 0.26960354476430565, 0.26609415335299497, 0.2623818704797938, 0.25837187894585256, 0.2541360714114426, 0.2499035566446766, 0.2460606595215079, 0.24287569922084368, 0.24011763020160581, 0.2374305657427202, 0.23445861912311272, 0.23084590362170904], [0.3295600157548078, 0.3218409843585887, 0.31424443010705677, 0.306717859860363, 0.29920878047865784, 0.29166469882209245, 0.2841693291531001, 0.2773512153432446, 0.27194120851567666, 0.26789045632753555, 0.2643704029699499, 0.2606718397998445, 0.25669854744011456, 0.25251426036576685, 0.24833696337104758, 0.24453889156944258, 0.24137860474401024, 0.23863313521362292, 0.2359591334311065, 0.2330132498492868, 0.22945213492098973], [0.3275770511368291, 0.3198250576963522, 0.31223429265231156, 0.3047428797212551, 0.29728894261973043, 0.2898106050642859, 0.2823811129156039, 0.2756142006109062, 0.2702256714725884, 0.266171103866947, 0.26264585120417905, 0.25896085783767064, 0.25502164492940704, 0.25088878092383177, 0.24677010511249095, 0.24302072763403265, 0.23988690340225588, 0.23715385411032686, 0.23449154314625348, 0.2315699338980441, 0.2280589897537065], [0.32560023029390206, 0.31780634829016285, 0.31021979639282826, 0.3027657696525948, 0.2953694631201588, 0.2879560718462169, 0.280586527865706, 0.27386471115052624, 0.2684977482879965, 0.26444548738253976, 0.26092049805568246, 0.2572489245932725, 0.2533411714137301, 0.24925963308563773, 0.2452029818690067, 0.2415061677152781, 0.2384005951955805, 0.23567978689171745, 0.2330277948881613, 0.23012867126938455, 0.22666646811985935], [0.3236295532260267, 0.3157848561400205, 0.3082009413286069, 0.30078652965438224, 0.293450341979943, 0.2861010991678855, 0.27878557400340653, 0.2721027469621049, 0.2667574389619012, 0.2627136068743141, 0.25919434352446014, 0.2555360400666498, 0.25165712689308384, 0.24762681685118448, 0.24363559364059484, 0.23999521181317904, 0.23691968012398423, 0.23421093355779493, 0.23156788865682995, 0.2286894619633082, 0.2252745700194483], [0.3216650199332031, 0.3137605812459254, 0.30617772745964755, 0.2988051597266175, 0.2915315791990829, 0.2842456870292917, 0.2769782513287054, 0.27032830804564206, 0.26500474349430236, 0.26097546234227, 0.2574673876105122, 0.2538222042578027, 0.24996951136746817, 0.24599033222047223, 0.24206794042725546, 0.23848785992773533, 0.23544415818746695, 0.23274729410855918, 0.2301118244522594, 0.22725230597981505, 0.22388329545247337], [0.31969351534107227, 0.3117252442059919, 0.3041441842549291, 0.29681667595698086, 0.2896090597812432, 0.2823876761968129, 0.27516600336546737, 0.2685460702197091, 0.26324465766779104, 0.2592336751285632, 0.255740160531472, 0.252108291524963, 0.24828034750119812, 0.24435167435955116, 0.24049906263889229, 0.23698074751758835, 0.23396992976744216, 0.23128550824886943, 0.2286578063444392, 0.22581714743672074, 0.22249385490828302], [0.3177019243752753, 0.3096705656183348, 0.30209434118343115, 0.29481609443315293, 0.2876786687300886, 0.28052490743682673, 0.27335027363755726, 0.26676070930287726, 0.26148217726495876, 0.25749086657534936, 0.2540131925049734, 0.25039517622636237, 0.2465916579585887, 0.24271233843447146, 0.23892800068540923, 0.23547051004137964, 0.23249289524532343, 0.22982221568358488, 0.22720403840335898, 0.22438393045184102, 0.2211074588762258], [0.3156902470358123, 0.30759654548295423, 0.3000281982451535, 0.29280341515513403, 0.2857404060456193, 0.2786573807493332, 0.2715310621449749, 0.2649722252951467, 0.25971730228580536, 0.2557470366826288, 0.2522864835310161, 0.24868285836200094, 0.24490344273963988, 0.24107232444523327, 0.2373547545668063, 0.23395714749910898, 0.23101305462111077, 0.22835741641270563, 0.22575052062901887, 0.22295265502517586, 0.2197241073563017], [0.3136584833226831, 0.30550318379985, 0.29794575544009616, 0.29077863812292365, 0.28379427172783495, 0.2767850961343322, 0.2697083688877205, 0.2631806181965171, 0.25795003273033074, 0.2540021854504013, 0.2505600336096003, 0.24697133793187856, 0.2432157018443516, 0.23943163239183646, 0.2357793242830834, 0.23244065989077645, 0.22953040789480395, 0.2268911104362315, 0.22429725302141867, 0.22152332115672524, 0.2183438003485107], [0.3116066332358877, 0.3033904805690221, 0.29584701276825887, 0.28874176333652213, 0.2818402657767357, 0.27490805359182374, 0.26788219386579387, 0.26138588800698875, 0.2561803685985351, 0.2522563128786669, 0.24883384274072584, 0.2452606149359952, 0.24152843527272394, 0.23779026227428102, 0.23420170983424057, 0.23092104721638196, 0.2280449550664032, 0.22542329775416262, 0.22284423558055844, 0.22009592884648907, 0.21696653785285275], [0.30953469677542633, 0.3012584357904709, 0.2937319702296421, 0.2866927907959294, 0.27987838819232164, 0.27302625312180795, 0.26605253707919513, 0.2595880347265615, 0.25440830989041824, 0.25050941896742557, 0.2471079109243929, 0.24355068937435104, 0.2398416430247569, 0.23614821409256706, 0.23262191122027792, 0.22939830947592574, 0.22655669613590854, 0.22395397836649902, 0.22139146830643824, 0.21867047809446755, 0.21559231986932795], [0.3074426739412988, 0.2991070494641959, 0.2916006278242457, 0.2846317205011455, 0.2779086389745927, 0.27113969472428484, 0.26421939852792437, 0.2577870583552354, 0.25263385660598026, 0.2487615037166774, 0.2453822381606014, 0.24184156124694595, 0.23815532510045045, 0.23450548784669456, 0.2310399284411953, 0.2278724466694075, 0.22506563110331987, 0.22248315227324061, 0.21993895119905804, 0.21724696890066053, 0.21422114639793624], [0.305330564733505, 0.2969363215901973, 0.28945298555206933, 0.28255855245217026, 0.2759310181235488, 0.26924837839925414, 0.2623827782119812, 0.25598295889301026, 0.2508570087452211, 0.24701256712642222, 0.24365682444935122, 0.24013323055377991, 0.23646948149980457, 0.23286208353666335, 0.22945576149699273, 0.22634345879682746, 0.22357175996863707, 0.22101081947438733, 0.21848668425841775, 0.215825401265068, 0.21285301743867757], [0.30319836915204523, 0.2947462521684752, 0.28728904341311345, 0.28047328664900384, 0.27394552563919006, 0.2673523041467161, 0.26054267613136617, 0.25417573633988644, 0.2490777663081409, 0.2452626091966603, 0.24193166979064254, 0.23842569729485302, 0.2347841122228193, 0.23121800116247368, 0.2278694103876703, 0.22481134585818552, 0.22207508273186038, 0.21953697996993934, 0.2170346674845175, 0.21440577518769008, 0.2114879329915521], [0.3010460871969194, 0.29253684119902956, 0.2851088014073779, 0.27837592309164616, 0.2719521615215165, 0.26545147196667074, 0.25869909228607885, 0.2523653906958638, 0.24729612929473951, 0.2435116299273914, 0.2402067741844753, 0.23671896147016522, 0.23309921726949467, 0.22957324072412538, 0.22628087511322797, 0.2232761078534817, 0.22057559939298974, 0.2180616337598966, 0.21558290087735724, 0.2129880906685267, 0.2101258930565597], [0.29887909072869645, 0.2903184287142211, 0.28292146913183935, 0.27627110011486794, 0.2699502097966239, 0.2635416863104239, 0.25684797799165376, 0.25054977398397577, 0.24551091973734637, 0.24175797109890435, 0.23848019431297082, 0.23501222341844055, 0.23141577921560139, 0.2279299507591569, 0.22469254807735853, 0.22174010217200568, 0.21907585001483476, 0.2165874662010605, 0.2141337347317672, 0.21157343960803945, 0.20876536483096145], [0.29670275160794585, 0.2881013547464108, 0.2807362561834747, 0.2741634560534398, 0.26793895449060806, 0.2616187516292817, 0.25498528456362557, 0.24872673822725638, 0.24372095966829074, 0.23999997449148797, 0.23674998685825063, 0.23330468347840302, 0.22973478063691025, 0.22629027980510652, 0.2231068216837548, 0.22020568620304723, 0.21757837466020527, 0.21511716265023245, 0.21268951934257768, 0.21016291390669006, 0.20740481551201845], [0.2945170698346675, 0.2858856192955986, 0.2785531625622841, 0.27205299090736174, 0.26591839560346925, 0.2596826679232442, 0.253111012001994, 0.2468962834257055, 0.2419262490875726, 0.2382376401051422, 0.2350161518203146, 0.23159634165005272, 0.2280562215334214, 0.22465422786197428, 0.22152369593241683, 0.21867285994660626, 0.2160831733291013, 0.2136507231074125, 0.21125025470978864, 0.2087565135644785, 0.2060442450997307], [0.29232204540886125, 0.2836712223617843, 0.2763721882682672, 0.2699397046766337, 0.26388853313520716, 0.2577334351923111, 0.25122516030675907, 0.2450584095793231, 0.24012678799519188, 0.23647096793986694, 0.2332786891991627, 0.22988719793338938, 0.22638010190513458, 0.22302179492976004, 0.21994317082334439, 0.21714162340268278, 0.21459024602152266, 0.21218814757260063, 0.20981594083340002, 0.20735423858140475, 0.2046836535940981], [0.2901176783305272, 0.2814581639449681, 0.2741933333014243, 0.2678235973612556, 0.26184936708582185, 0.2557710534364827, 0.24932772947792087, 0.2432131166881091, 0.23832257639114862, 0.2346999579956623, 0.2315375989947949, 0.22817725232841324, 0.2247064217520499, 0.22139298100846397, 0.21836524635653776, 0.21561197657127676, 0.2130995927374696, 0.21072943604579672, 0.2083865777134119, 0.20595608895746872, 0.20332304099512072], [0.2879039685996655, 0.27924644404515014, 0.2720165976617553, 0.2657046689612277, 0.25980089745531343, 0.253795522655759, 0.2474187195154794, 0.24136040475206372, 0.23651361427544296, 0.2329246102725283, 0.22979288120721147, 0.22646650483512426, 0.22303518107416745, 0.21976778609808606, 0.21678992253199672, 0.21408391945238828, 0.21161121347694192, 0.20927458852700104, 0.2069621653498243, 0.20456206469267063, 0.2019624073027986], [0.285680916216276, 0.27703606266233016, 0.26984198134926024, 0.26358291947654977, 0.25774312424368184, 0.2518068428501399, 0.24549813041943458, 0.2395002737711867, 0.2346999016480747, 0.2311449247704649, 0.22804453583641215, 0.22475495545352242, 0.2213663798714872, 0.21814621019862615, 0.21521719934972144, 0.2125574520460173, 0.21012510823993977, 0.20782360501621336, 0.20554270374263708, 0.20317216578701025, 0.20060175251713175], [0.28344852118035857, 0.27482701979650814, 0.26766948436393906, 0.26145834890722186, 0.255676047450927, 0.24980501401962524, 0.2435659621897864, 0.23763272374547822, 0.23288143850904386, 0.229360901489472, 0.2262925628823969, 0.22304260418360766, 0.21970001814400897, 0.21652825331008438, 0.21364707680971176, 0.21103257435216374, 0.20864127702646298, 0.20637648551343368, 0.20412819289185039, 0.20178639224048767, 0.19924107663811996], [0.28120678349191347, 0.27261931544768425, 0.2654991067057918, 0.25933095725324395, 0.2535996670770491, 0.2477900361642153, 0.241622214826535, 0.23575775467493826, 0.23105822485835062, 0.22757254042954972, 0.22453696234516587, 0.22132945102538004, 0.21803609589173298, 0.21491391543246072, 0.21207955491196784, 0.20950928637082772, 0.2071597198365117, 0.20493323001866215, 0.20271863279746416, 0.20040474405310296, 0.1978803796657635], [0.27895570315094054, 0.2704129496158585, 0.26333084837481835, 0.2572007445146162, 0.2515139831220481, 0.24576190928390998, 0.2396668883296803, 0.2338753665595668, 0.22923026069599484, 0.2257798415906981, 0.2227777342247191, 0.21961549597883961, 0.2163746131146592, 0.21330319656575517, 0.21051463365648962, 0.20798758810200924, 0.20568043667008584, 0.20349383853189867, 0.20131402345947844, 0.19902722122485605, 0.19651966160006223], [0.27669801129219923, 0.2682055175547876, 0.26116259954603027, 0.2550689703430423, 0.24942434302293917, 0.24372843066283606, 0.23770704001381415, 0.2319903525228193, 0.227400940233431, 0.22398620441058487, 0.22101837554057294, 0.21790341664500723, 0.21471703319610919, 0.2116968202487454, 0.2089528141676155, 0.20646749262725247, 0.20420217825700068, 0.20205575762547942, 0.19991150828612653, 0.19765270779237992, 0.19516263369767758], [0.27443643905044873, 0.2659946145182285, 0.25899225039443874, 0.2529368943902264, 0.247336094216738, 0.24169739758512035, 0.2357497271935286, 0.23010750568815133, 0.22557365768211352, 0.2221950283268777, 0.21926238331224393, 0.216195890624904, 0.21306481951940465, 0.2100955100202088, 0.20739459756968393, 0.20494901302810184, 0.20272369532707138, 0.20061643387174055, 0.1985082306856418, 0.19628008779230782, 0.19381300721527092], [0.27217098642568915, 0.26378024050618104, 0.25681980092004403, 0.2508045166561683, 0.24524923670344448, 0.23966881005076307, 0.23379494986882357, 0.2282268260555629, 0.22374841304204257, 0.22040631333957664, 0.2175097575397321, 0.21449291791852992, 0.21141797208454563, 0.20849926588014564, 0.20583998386269498, 0.20343214930455727, 0.20124498788029796, 0.1991758672706821, 0.19710419065802434, 0.19490936122463953, 0.1924707821528423], [0.2699016534179204, 0.2615623955186454, 0.2546452511228458, 0.24867183714086805, 0.24316377048305857, 0.23764266805976386, 0.23184270803969903, 0.22634831362505392, 0.2219252063132179, 0.21862005944868163, 0.2157604982230373, 0.21279449852588483, 0.20977649089153205, 0.20690808782855574, 0.2042889730466486, 0.2019169014566187, 0.19976605591668026, 0.19773405782230394, 0.195699388203274, 0.1935405280893751, 0.19113595851039158], [0.2676284400271424, 0.2593410795556214, 0.25246860100284424, 0.24653885584432558, 0.24107969555558026, 0.23561897161212286, 0.2298930017061549, 0.22447196839662445, 0.22010403749563967, 0.21683626665419267, 0.21401460536215966, 0.21110063244696886, 0.20814037594036391, 0.20532197586543913, 0.20274156512154473, 0.2004032694842861, 0.19828689943621844, 0.19629100552660608, 0.19429382332139086, 0.19217358838651452, 0.18980853628791888], [0.26535134625335544, 0.2571162926171093, 0.2502898505600394, 0.2444055727665411, 0.23899701192100964, 0.23359772070784027, 0.22794583086819142, 0.2225977903702745, 0.2182849065893079, 0.21505493495610992, 0.21227207895709926, 0.2094113196817821, 0.20650962723104133, 0.20374092999079593, 0.20119776008738346, 0.19889125338755972, 0.19680751843891248, 0.1948467103835887, 0.19288749601237495, 0.1908085421160579, 0.1884885154854242], [0.2630703720965593, 0.25488803470310883, 0.24810899979443116, 0.24227198790751442, 0.2369157195793466, 0.23157891534691588, 0.22600119552580838, 0.22072577954600406, 0.21646781359422254, 0.21327606435443325, 0.2105329190078559, 0.20772656023032438, 0.20488424476356415, 0.202164950204626, 0.19965755794416476, 0.19738085316643939, 0.19532791292476237, 0.1934011723932517, 0.19148040627622626, 0.18944538927800517, 0.18717589610290752], [0.2607855175567539, 0.25265630581362003, 0.24592604870601945, 0.2401381012672455, 0.23483581853059116, 0.22956255552934954, 0.22405909567900578, 0.21885593592381303, 0.21465275851038343, 0.21149965484916253, 0.2087971255144296, 0.2060463540925957, 0.2032642285379324, 0.20059403650692934, 0.1981209586918886, 0.195872068820925, 0.19384808289376804, 0.1919543915555949, 0.19007255411294463, 0.1880841298723563, 0.18587067814036876], [0.2584967826339395, 0.250421105948643, 0.24374099729480453, 0.23800391284573452, 0.23275730877474346, 0.22754864125514165, 0.22211953132778378, 0.21698825950370162, 0.2128397413377909, 0.20972570644029806, 0.20706469847682055, 0.20437070126859616, 0.20164957855414625, 0.19902818889770604, 0.196587962330555, 0.19436490035101675, 0.1923680283459296, 0.1905063678706186, 0.18866393952253027, 0.18672476389911127, 0.18457286159780806], [0.2562041673281159, 0.24818243510817778, 0.24155384556078624, 0.23586942264298144, 0.23068019031180328, 0.2255371725242919, 0.2201825024721423, 0.21512275028566968, 0.21102876207644472, 0.20795421912783962, 0.20533563789502857, 0.20269960175832583, 0.2000402948122055, 0.19746740737695603, 0.19505856886016398, 0.1928593477567145, 0.19088774928124702, 0.18905710133832263, 0.18725456250498315, 0.18536729135827018, 0.18328244647522532], [0.2539256365060029, 0.2459592554709724, 0.23938172018487872, 0.23374827371413667, 0.22861415912516087, 0.22353461948436618, 0.21825284673939113, 0.2132638283627699, 0.20922434724277264, 0.20618965656144586, 0.20361347979461292, 0.20103450587856952, 0.19843589945345397, 0.19591109688321207, 0.19353404888226805, 0.19135922051552479, 0.1894130465820992, 0.1876132296265768, 0.18585028912991036, 0.1840147445730525, 0.18199711543695596], [0.25167915503432026, 0.24377052921577524, 0.23724174784799615, 0.23165410911435064, 0.22656891119820607, 0.22154745228293007, 0.21633540175684024, 0.211415913828055, 0.20743102335320238, 0.20443648239077553, 0.2019017602011328, 0.19937686394611256, 0.19683591461923527, 0.1943586623550067, 0.19201567299841954, 0.189868328104954, 0.18794972113086528, 0.18618139040325088, 0.18445698546691905, 0.1826701558666779, 0.18071455114733537], [0.24946472291306804, 0.24161625634258627, 0.2351339285501386, 0.22958692884362342, 0.22454444653093897, 0.21957567091998365, 0.21443016752448965, 0.20957900668152507, 0.205648790407734, 0.2026946966158284, 0.20020047911458805, 0.19772667596095483, 0.1952403403095495, 0.19281010379233998, 0.19050344120861862, 0.18838667052500216, 0.1864977729275452, 0.18476158366834494, 0.18307465151600932, 0.18133352523914628, 0.17943475360636355], [0.2472823401422461, 0.23949643685140543, 0.23305826229130597, 0.22754673290195496, 0.2225407651233595, 0.21761927539552686, 0.21253714404233934, 0.20775310692317997, 0.2038776484063675, 0.2009642992366046, 0.19850963653497888, 0.19608394192309633, 0.19364917652439662, 0.191265421195212, 0.1889973535128652, 0.18691424777566926, 0.18505720197213896, 0.18335380942185892, 0.18170328727718113, 0.1800048526904577, 0.17815772281404052], [0.24513200672185442, 0.23741107074223264, 0.23101474907149822, 0.2255335212893452, 0.22055786697546767, 0.21567826570955967, 0.21065633131038916, 0.20593821455301972, 0.20211759734910262, 0.19924529025310406, 0.19682923246230508, 0.19444866183253712, 0.19206242326377654, 0.1897246145636226, 0.1874974099111593, 0.18545105985695529, 0.18362800826464656, 0.18195806766379277, 0.1803428927504344, 0.17868413822061208, 0.17688345877036618], [0.24301372265189314, 0.23536015801506807, 0.22900338889071548, 0.22354729400579432, 0.2185957520872635, 0.21375264186208218, 0.20878772932863932, 0.2041343295710444, 0.20036863723593973, 0.1975376696653268, 0.19515926689656687, 0.1928208356892771, 0.19048008052768933, 0.1881876838975719, 0.1860036104035008, 0.1839971067688602, 0.182210191805068, 0.1805743583941465, 0.17899346793576923, 0.17737138182960951, 0.17561196147534067], [0.24092748793236218, 0.23334369866991173, 0.22702418174895772, 0.22158805105130222, 0.21665442045874708, 0.21184240385309433, 0.20693133809708972, 0.20234145197725392, 0.19863076806687857, 0.1958414374732729, 0.19349973983776408, 0.19120046349331646, 0.1889021483161351, 0.18665462919705986, 0.18451595498988996, 0.1825523885113841, 0.1808037525934033, 0.17920268161292024, 0.17765501283318555, 0.17606658351744997, 0.17434323092896395], [0.2388733025632615, 0.23136169270676343, 0.22507712764622484, 0.21965579242586877, 0.2147338720899182, 0.20994755168259613, 0.20508715761574028, 0.20055958177164834, 0.19690398984191926, 0.1941565936769422, 0.1918506512858967, 0.1895875452446549, 0.1873286266291136, 0.18512545046208642, 0.1830344436703265, 0.18111690508452688, 0.1794086906296524, 0.17784303732011383, 0.1763275274426834, 0.17476974328413342, 0.1730772671312359], [0.2368511665445912, 0.22941414012562333, 0.22316222658251694, 0.21775051812949422, 0.21283410698077707, 0.20806808535058757, 0.20325518788459124, 0.19878871895422767, 0.19518830256106182, 0.19248313827633493, 0.19021200124096488, 0.18798208094329272, 0.18575951546662509, 0.18360014769265173, 0.18155907644481065, 0.17969065648828864, 0.17802500591381543, 0.1764954255157274, 0.1750110117642628, 0.1734808611296599, 0.17181407008215668], [0.23486107987635124, 0.22750104092649134, 0.22127947855783398, 0.2158722281621784, 0.21095512513132356, 0.20620400485706863, 0.2014354289036423, 0.19702886352499185, 0.19348370622430616, 0.19082107127145084, 0.18858378970296855, 0.1863840705892297, 0.1841948148286694, 0.1820787208887556, 0.18008985331334226, 0.1782736427226693, 0.1766526984458922, 0.17515984619976088, 0.1737054657979237, 0.1721999370540294, 0.17055363978172616], [0.23290883854490382, 0.22562827884746078, 0.2194369077481547, 0.21403201527556814, 0.20911089145828327, 0.20437082632488254, 0.19964289508329303, 0.1952933136588212, 0.19180177875103685, 0.18918098574263367, 0.1869766286994294, 0.18480508991981826, 0.18264672225282677, 0.18057212218434823, 0.1786346591820737, 0.17687047569549216, 0.1752942733731955, 0.1738379866633527, 0.17241285821402674, 0.17093013067328083, 0.16930104668917798], [0.23100023853661117, 0.22380173762662478, 0.2176425383294578, 0.21224097222131016, 0.20731537087838164, 0.20258406587687228, 0.19789260083394247, 0.1935953675305959, 0.19015409806063838, 0.18757347477022682, 0.18540113025786925, 0.18325671467241064, 0.18112743527667735, 0.1790913037133795, 0.17720137895715715, 0.17548576731458035, 0.17395223584303798, 0.1725315341976414, 0.17113515768293247, 0.16967460160345327, 0.16806136126374552], [0.2291352798514733, 0.22202141726398333, 0.21589637030174316, 0.2104990989994045, 0.20556856339161883, 0.20084372351303792, 0.19618454615559072, 0.19193502514031605, 0.1885406641531108, 0.18599853835423025, 0.1838572943782881, 0.1817389448470069, 0.17963695390022108, 0.17763626547584943, 0.17579001263859276, 0.17411951757993394, 0.1726265858554196, 0.17124048880262693, 0.169872364204641, 0.16843334984454664, 0.1668345835054288], [0.22731396248949015, 0.22028731775953656, 0.21419840366501094, 0.2088063956098511, 0.20387046899799466, 0.19914979923337944, 0.1945187310482378, 0.19031228648798154, 0.18696147702845406, 0.18445617649464408, 0.18234512106068598, 0.18025178044360685, 0.17817527812345807, 0.1762070074717581, 0.1744005602263803, 0.17277172649155284, 0.17131732341034028, 0.16996485047830936, 0.16862447777915218, 0.16720637539656094, 0.16562071341422777], [0.22553628645066182, 0.2185994391132844, 0.21254863841926108, 0.20716286205265008, 0.2022210876975093, 0.19750229303789685, 0.1928951555118837, 0.18872715157359246, 0.1854165366866682, 0.18294638919146827, 0.18086461030506285, 0.17879522146221072, 0.1767424079463882, 0.17480352970110544, 0.17303302172052004, 0.17144239404943715, 0.17002444850780013, 0.16870461922468857, 0.1673914984064661, 0.16599367825949624, 0.1644197509901425], [0.22380225173498824, 0.2169577813252268, 0.21094707456449355, 0.20556849832780127, 0.20062041949016257, 0.19590120492659016, 0.19131381954652835, 0.18717962039714878, 0.18390584312775313, 0.1814691764447028, 0.17941576211141874, 0.17736926790281834, 0.17533834336901152, 0.17342583216389149, 0.17168739712101183, 0.17013152025358677, 0.16874796114779914, 0.1674597950417647, 0.16617342608658273, 0.16479525843335244, 0.16323169623317296], [0.22211185834246938, 0.21536234439536378, 0.2093937121007084, 0.20402330443530486, 0.19906846437595463, 0.1943465348994593, 0.18977472315217184, 0.1856696929586505, 0.18242939635170896, 0.18002453825434764, 0.1779985764797536, 0.17597391976542984, 0.17396308439132807, 0.1720739148601162, 0.17036368642785568, 0.16883910510400177, 0.16748786133033725, 0.16623037792953763, 0.1649702608195021, 0.16361111591812963, 0.16205654914331916], [0.2204651062731054, 0.2138131283236954, 0.20788855102790563, 0.2025272803751607, 0.1975652223548854, 0.1928382829565044, 0.18827786632881408, 0.1841973692580976, 0.18098719635853566, 0.17861247462040286, 0.17661305341006742, 0.17460917705004514, 0.17261663101333782, 0.1707477777897796, 0.16906188964105162, 0.16756514860068222, 0.1662441490554145, 0.1650163678880075, 0.1637820026052242, 0.16244125071382776, 0.16089430972058114], [0.21886199552689606, 0.21231013311022162, 0.20643159134608516, 0.20108042614736885, 0.1961106934269549, 0.19137644909772533, 0.18682324907645517, 0.1827626492954901, 0.17957924314823326, 0.17723298554286837, 0.1752591929023603, 0.1732750397566643, 0.17129898323504075, 0.16944742095288165, 0.16778200676059962, 0.16630965074362797, 0.1650168243230309, 0.16381776491717415, 0.162608651443749, 0.16128566282044685, 0.15974497796495885], [0.21730252610384154, 0.21085335875494243, 0.20502283305524704, 0.19968274175192935, 0.19470487759216307, 0.18996103332312217, 0.185410871395095, 0.18136553307082798, 0.1782055367208016, 0.17588607102174425, 0.17393699495663215, 0.17197150788528723, 0.17001014105643686, 0.16817284434942237, 0.1665240377864997, 0.16507261153283911, 0.16380588713318645, 0.16263456901703763, 0.16145020733507653, 0.16014435223798684, 0.15860855387645223], [0.2157866980039418, 0.20944280525785783, 0.2036622761553913, 0.19833422718884208, 0.19334777485051002, 0.18859203563269494, 0.18404073328473372, 0.18000602058411125, 0.17686607707624089, 0.1745717310570305, 0.172646459572883, 0.170698581435914, 0.1687501044775262, 0.16692404797940186, 0.16528798271875186, 0.16385403096831563, 0.16261133748588108, 0.161466780187598, 0.16030667027920678, 0.15901731896644783, 0.15748503745506143], [0.21431451122719683, 0.20807847261896786, 0.20234992064651794, 0.19703488245810716, 0.19203938520199568, 0.18726945602644357, 0.1827128347453712, 0.17868411183534003, 0.17556086421455103, 0.1732899656487271, 0.17138758675111285, 0.1694562604085446, 0.16751887349830874, 0.16570103184281998, 0.16407384155735608, 0.16265390905005753, 0.16143317538111485, 0.1603143984288552, 0.15917804027613977, 0.15790456300582975, 0.15637442870078633], [0.21288596577360663, 0.20676036083827246, 0.20108576652862692, 0.19578470755972455, 0.19077970864662008, 0.18599329450436805, 0.18142717577700748, 0.1773998068245141, 0.17428989813573204, 0.17204077479683402, 0.1701603764913217, 0.16824454480317902, 0.1663164481187845, 0.16450379593967687, 0.16288161430231238, 0.1614722457780648, 0.16027140081888783, 0.15917742374080932, 0.15806431732587548, 0.15680608435613266, 0.155276727613627], [0.21150106164317115, 0.20548846991577166, 0.19986981380171823, 0.19458370249369425, 0.18956874518438313, 0.18476355106646847, 0.1801837563796425, 0.17615310555163352, 0.17305317883978383, 0.1708241585013513, 0.16896482879350952, 0.16706343461981724, 0.16514282833895336, 0.16333234026997237, 0.16171130095362074, 0.16030904115233735, 0.15912601379919988, 0.15805585612346018, 0.15696550142841387, 0.15572188301735645, 0.15419193419358337], [0.21015979883589048, 0.20426279985146548, 0.1987020624657919, 0.19343186726001624, 0.18840649481528499, 0.18358022571274474, 0.1789825765532764, 0.17494400801669843, 0.17185070632670654, 0.16964011676227894, 0.1678009436576764, 0.1659129298584593, 0.16399801415881549, 0.16218666483370658, 0.16056290151128125, 0.15916429517287534, 0.15799701432205107, 0.15694969557680796, 0.15588159258375506, 0.15465195898950124, 0.15312004844065552]]}],\n",
       "                        {\"autosize\": true, \"height\": 800, \"scene\": {\"aspectmode\": \"cube\", \"camera\": {\"eye\": {\"x\": 2, \"y\": 1, \"z\": 1.25}}, \"xaxis\": {\"tickfont\": {\"size\": 10}, \"title\": {\"text\": \"Maturity\"}, \"type\": \"linear\"}, \"yaxis\": {\"tickangle\": 1, \"tickfont\": {\"size\": 10}, \"title\": {\"text\": \"Forward Strike Difference\"}}, \"zaxis\": {\"tickfont\": {\"size\": 10}, \"title\": {\"text\": \"Implied Volatility\"}}}, \"template\": {\"data\": {\"bar\": [{\"error_x\": {\"color\": \"#2a3f5f\"}, \"error_y\": {\"color\": \"#2a3f5f\"}, \"marker\": {\"line\": {\"color\": \"#E5ECF6\", \"width\": 0.5}}, \"type\": \"bar\"}], \"barpolar\": [{\"marker\": {\"line\": {\"color\": \"#E5ECF6\", \"width\": 0.5}}, \"type\": \"barpolar\"}], \"carpet\": [{\"aaxis\": {\"endlinecolor\": \"#2a3f5f\", \"gridcolor\": \"white\", \"linecolor\": \"white\", \"minorgridcolor\": \"white\", \"startlinecolor\": \"#2a3f5f\"}, \"baxis\": {\"endlinecolor\": \"#2a3f5f\", \"gridcolor\": \"white\", \"linecolor\": \"white\", \"minorgridcolor\": \"white\", \"startlinecolor\": \"#2a3f5f\"}, \"type\": \"carpet\"}], \"choropleth\": [{\"colorbar\": {\"outlinewidth\": 0, \"ticks\": \"\"}, \"type\": \"choropleth\"}], \"contour\": [{\"colorbar\": {\"outlinewidth\": 0, \"ticks\": \"\"}, \"colorscale\": [[0.0, \"#0d0887\"], [0.1111111111111111, \"#46039f\"], [0.2222222222222222, \"#7201a8\"], [0.3333333333333333, \"#9c179e\"], [0.4444444444444444, \"#bd3786\"], [0.5555555555555556, \"#d8576b\"], [0.6666666666666666, \"#ed7953\"], [0.7777777777777778, \"#fb9f3a\"], [0.8888888888888888, \"#fdca26\"], [1.0, \"#f0f921\"]], \"type\": \"contour\"}], \"contourcarpet\": [{\"colorbar\": {\"outlinewidth\": 0, \"ticks\": \"\"}, \"type\": \"contourcarpet\"}], \"heatmap\": [{\"colorbar\": {\"outlinewidth\": 0, \"ticks\": \"\"}, \"colorscale\": [[0.0, \"#0d0887\"], [0.1111111111111111, \"#46039f\"], [0.2222222222222222, \"#7201a8\"], [0.3333333333333333, \"#9c179e\"], [0.4444444444444444, \"#bd3786\"], [0.5555555555555556, \"#d8576b\"], [0.6666666666666666, \"#ed7953\"], [0.7777777777777778, \"#fb9f3a\"], [0.8888888888888888, \"#fdca26\"], [1.0, \"#f0f921\"]], \"type\": \"heatmap\"}], \"heatmapgl\": [{\"colorbar\": {\"outlinewidth\": 0, \"ticks\": \"\"}, \"colorscale\": [[0.0, \"#0d0887\"], [0.1111111111111111, \"#46039f\"], [0.2222222222222222, \"#7201a8\"], [0.3333333333333333, \"#9c179e\"], [0.4444444444444444, \"#bd3786\"], [0.5555555555555556, \"#d8576b\"], [0.6666666666666666, \"#ed7953\"], [0.7777777777777778, \"#fb9f3a\"], [0.8888888888888888, \"#fdca26\"], [1.0, \"#f0f921\"]], \"type\": \"heatmapgl\"}], \"histogram\": [{\"marker\": {\"colorbar\": {\"outlinewidth\": 0, \"ticks\": \"\"}}, \"type\": \"histogram\"}], \"histogram2d\": [{\"colorbar\": {\"outlinewidth\": 0, \"ticks\": \"\"}, \"colorscale\": [[0.0, \"#0d0887\"], [0.1111111111111111, \"#46039f\"], [0.2222222222222222, \"#7201a8\"], [0.3333333333333333, \"#9c179e\"], [0.4444444444444444, \"#bd3786\"], [0.5555555555555556, \"#d8576b\"], [0.6666666666666666, \"#ed7953\"], [0.7777777777777778, \"#fb9f3a\"], [0.8888888888888888, \"#fdca26\"], [1.0, \"#f0f921\"]], \"type\": \"histogram2d\"}], \"histogram2dcontour\": [{\"colorbar\": {\"outlinewidth\": 0, \"ticks\": \"\"}, \"colorscale\": [[0.0, \"#0d0887\"], [0.1111111111111111, \"#46039f\"], [0.2222222222222222, \"#7201a8\"], [0.3333333333333333, \"#9c179e\"], [0.4444444444444444, \"#bd3786\"], [0.5555555555555556, \"#d8576b\"], [0.6666666666666666, \"#ed7953\"], [0.7777777777777778, \"#fb9f3a\"], [0.8888888888888888, \"#fdca26\"], [1.0, \"#f0f921\"]], \"type\": \"histogram2dcontour\"}], \"mesh3d\": [{\"colorbar\": {\"outlinewidth\": 0, \"ticks\": \"\"}, \"type\": \"mesh3d\"}], \"parcoords\": [{\"line\": {\"colorbar\": {\"outlinewidth\": 0, \"ticks\": \"\"}}, \"type\": \"parcoords\"}], \"scatter\": [{\"marker\": {\"colorbar\": {\"outlinewidth\": 0, \"ticks\": \"\"}}, \"type\": \"scatter\"}], \"scatter3d\": [{\"line\": {\"colorbar\": {\"outlinewidth\": 0, \"ticks\": \"\"}}, \"marker\": {\"colorbar\": {\"outlinewidth\": 0, \"ticks\": \"\"}}, \"type\": \"scatter3d\"}], \"scattercarpet\": [{\"marker\": {\"colorbar\": {\"outlinewidth\": 0, \"ticks\": \"\"}}, \"type\": \"scattercarpet\"}], \"scattergeo\": [{\"marker\": {\"colorbar\": {\"outlinewidth\": 0, \"ticks\": \"\"}}, \"type\": \"scattergeo\"}], \"scattergl\": [{\"marker\": {\"colorbar\": {\"outlinewidth\": 0, \"ticks\": \"\"}}, \"type\": \"scattergl\"}], \"scattermapbox\": [{\"marker\": {\"colorbar\": {\"outlinewidth\": 0, \"ticks\": \"\"}}, \"type\": \"scattermapbox\"}], \"scatterpolar\": [{\"marker\": {\"colorbar\": {\"outlinewidth\": 0, \"ticks\": \"\"}}, \"type\": \"scatterpolar\"}], \"scatterpolargl\": [{\"marker\": {\"colorbar\": {\"outlinewidth\": 0, \"ticks\": \"\"}}, \"type\": \"scatterpolargl\"}], \"scatterternary\": [{\"marker\": {\"colorbar\": {\"outlinewidth\": 0, \"ticks\": \"\"}}, \"type\": \"scatterternary\"}], \"surface\": [{\"colorbar\": {\"outlinewidth\": 0, \"ticks\": \"\"}, \"colorscale\": [[0.0, \"#0d0887\"], [0.1111111111111111, \"#46039f\"], [0.2222222222222222, \"#7201a8\"], [0.3333333333333333, \"#9c179e\"], [0.4444444444444444, \"#bd3786\"], [0.5555555555555556, \"#d8576b\"], [0.6666666666666666, \"#ed7953\"], [0.7777777777777778, \"#fb9f3a\"], [0.8888888888888888, \"#fdca26\"], [1.0, \"#f0f921\"]], \"type\": \"surface\"}], \"table\": [{\"cells\": {\"fill\": {\"color\": \"#EBF0F8\"}, \"line\": {\"color\": \"white\"}}, \"header\": {\"fill\": {\"color\": \"#C8D4E3\"}, \"line\": {\"color\": \"white\"}}, \"type\": \"table\"}]}, \"layout\": {\"annotationdefaults\": {\"arrowcolor\": \"#2a3f5f\", \"arrowhead\": 0, \"arrowwidth\": 1}, \"colorscale\": {\"diverging\": [[0, \"#8e0152\"], [0.1, \"#c51b7d\"], [0.2, \"#de77ae\"], [0.3, \"#f1b6da\"], [0.4, \"#fde0ef\"], [0.5, \"#f7f7f7\"], [0.6, \"#e6f5d0\"], [0.7, \"#b8e186\"], [0.8, \"#7fbc41\"], [0.9, \"#4d9221\"], [1, \"#276419\"]], \"sequential\": [[0.0, \"#0d0887\"], [0.1111111111111111, \"#46039f\"], [0.2222222222222222, \"#7201a8\"], [0.3333333333333333, \"#9c179e\"], [0.4444444444444444, \"#bd3786\"], [0.5555555555555556, \"#d8576b\"], [0.6666666666666666, \"#ed7953\"], [0.7777777777777778, \"#fb9f3a\"], [0.8888888888888888, \"#fdca26\"], [1.0, \"#f0f921\"]], \"sequentialminus\": [[0.0, \"#0d0887\"], [0.1111111111111111, \"#46039f\"], [0.2222222222222222, \"#7201a8\"], [0.3333333333333333, \"#9c179e\"], [0.4444444444444444, \"#bd3786\"], [0.5555555555555556, \"#d8576b\"], [0.6666666666666666, \"#ed7953\"], [0.7777777777777778, \"#fb9f3a\"], [0.8888888888888888, \"#fdca26\"], [1.0, \"#f0f921\"]]}, \"colorway\": [\"#636efa\", \"#EF553B\", \"#00cc96\", \"#ab63fa\", \"#FFA15A\", \"#19d3f3\", \"#FF6692\", \"#B6E880\", \"#FF97FF\", \"#FECB52\"], \"font\": {\"color\": \"#2a3f5f\"}, \"geo\": {\"bgcolor\": \"white\", \"lakecolor\": \"white\", \"landcolor\": \"#E5ECF6\", \"showlakes\": true, \"showland\": true, \"subunitcolor\": \"white\"}, \"hoverlabel\": {\"align\": \"left\"}, \"hovermode\": \"closest\", \"mapbox\": {\"style\": \"light\"}, \"paper_bgcolor\": \"white\", \"plot_bgcolor\": \"#E5ECF6\", \"polar\": {\"angularaxis\": {\"gridcolor\": \"white\", \"linecolor\": \"white\", \"ticks\": \"\"}, \"bgcolor\": \"#E5ECF6\", \"radialaxis\": {\"gridcolor\": \"white\", \"linecolor\": \"white\", \"ticks\": \"\"}}, \"scene\": {\"xaxis\": {\"backgroundcolor\": \"#E5ECF6\", \"gridcolor\": \"white\", \"gridwidth\": 2, \"linecolor\": \"white\", \"showbackground\": true, \"ticks\": \"\", \"zerolinecolor\": \"white\"}, \"yaxis\": {\"backgroundcolor\": \"#E5ECF6\", \"gridcolor\": \"white\", \"gridwidth\": 2, \"linecolor\": \"white\", \"showbackground\": true, \"ticks\": \"\", \"zerolinecolor\": \"white\"}, \"zaxis\": {\"backgroundcolor\": \"#E5ECF6\", \"gridcolor\": \"white\", \"gridwidth\": 2, \"linecolor\": \"white\", \"showbackground\": true, \"ticks\": \"\", \"zerolinecolor\": \"white\"}}, \"shapedefaults\": {\"line\": {\"color\": \"#2a3f5f\"}}, \"ternary\": {\"aaxis\": {\"gridcolor\": \"white\", \"linecolor\": \"white\", \"ticks\": \"\"}, \"baxis\": {\"gridcolor\": \"white\", \"linecolor\": \"white\", \"ticks\": \"\"}, \"bgcolor\": \"#E5ECF6\", \"caxis\": {\"gridcolor\": \"white\", \"linecolor\": \"white\", \"ticks\": \"\"}}, \"title\": {\"x\": 0.05}, \"xaxis\": {\"automargin\": true, \"gridcolor\": \"white\", \"linecolor\": \"white\", \"ticks\": \"\", \"zerolinecolor\": \"white\", \"zerolinewidth\": 2}, \"yaxis\": {\"automargin\": true, \"gridcolor\": \"white\", \"linecolor\": \"white\", \"ticks\": \"\", \"zerolinecolor\": \"white\", \"zerolinewidth\": 2}}}},\n",
       "                        {\"responsive\": true}\n",
       "                    ).then(function(){\n",
       "                            \n",
       "var gd = document.getElementById('9bc2e88c-ea2b-4541-8453-641061a4b006');\n",
       "var x = new MutationObserver(function (mutations, observer) {{\n",
       "        var display = window.getComputedStyle(gd).display;\n",
       "        if (!display || display === 'none') {{\n",
       "            console.log([gd, 'removed!']);\n",
       "            Plotly.purge(gd);\n",
       "            observer.disconnect();\n",
       "        }}\n",
       "}});\n",
       "\n",
       "// Listen for the removal of the full notebook cells\n",
       "var notebookContainer = gd.closest('#notebook-container');\n",
       "if (notebookContainer) {{\n",
       "    x.observe(notebookContainer, {childList: true});\n",
       "}}\n",
       "\n",
       "// Listen for the clearing of the current output cell\n",
       "var outputEl = gd.closest('.output');\n",
       "if (outputEl) {{\n",
       "    x.observe(outputEl, {childList: true});\n",
       "}}\n",
       "\n",
       "                        })\n",
       "                };\n",
       "                });\n",
       "            </script>\n",
       "        </div>"
      ]
     },
     "metadata": {},
     "output_type": "display_data"
    }
   ],
   "source": [
    "plotly_surface(ddd)"
   ]
  },
  {
   "cell_type": "code",
   "execution_count": null,
   "metadata": {},
   "outputs": [],
   "source": []
  },
  {
   "cell_type": "code",
   "execution_count": null,
   "metadata": {},
   "outputs": [],
   "source": []
  },
  {
   "cell_type": "code",
   "execution_count": 261,
   "metadata": {},
   "outputs": [],
   "source": [
    "\n",
    "def update_figure(selected):\n",
    "    pd.options.mode.chained_assignment = None\n",
    "    dff = df[df['State FIPS Code'] == selected]\n",
    "    dff[\"county\"] = (dff[\"County Name/State Abbreviation\"].str.split(\",\", expand=True))[0]\n",
    "    df1 = dff.loc[:, [\"county\", 'Labor Force', 'Employed', 'Unemployed']]\n",
    "    df1.loc['Labor Force'] = pd.to_numeric(df1['Labor Force'], errors='ignore')\n",
    "    df1.loc['Employed'] = pd.to_numeric(df1['Employed'], errors='ignore')\n",
    "    df1.loc['Unemployed'] = pd.to_numeric(df1['Unemployed'], errors='ignore')\n",
    "    trace = [go.Surface(y=df1.county.values, x=df1.Employed.values, z=df1.values, colorscale=\"YlGnBu\", opacity=0.8,\n",
    "                        colorbar={\"title\": \"Number\", \"len\": 0.5, \"thickness\": 15}, )]\n",
    "    fig = go.Figure(data=trace,\n",
    "                    layout=go.Layout(\n",
    "#                                      title=f'Annual Average of Labor Force Data for {us.states.lookup(str(selected))}',\n",
    "                                     autosize=True, height=800,\n",
    "                                     scene={\"xaxis\": {'title': \"Annual Average of Employed  (number)\",\n",
    "                                                      \"tickfont\": {\"size\": 10}, 'type': \"linear\"},\n",
    "                                            \"yaxis\": {\"title\": f\"County in {us.states.lookup(str(selected))} \",\n",
    "                                                      \"tickfont\": {\"size\": 10}, \"tickangle\": 1},\n",
    "                                            \"zaxis\": {\n",
    "                                                'title': \"         Annual Average of : <br>Labour Force,Employed,Unemployed  \",\n",
    "                                                \"tickfont\": {\"size\": 10}},\n",
    "                                            \"camera\": {\"eye\": {\"x\": 2, \"y\": 1, \"z\": 1.25}}, \"aspectmode\": \"cube\", }))\n",
    "    return fig"
   ]
  },
  {
   "cell_type": "code",
   "execution_count": 264,
   "metadata": {},
   "outputs": [
    {
     "data": {
      "application/vnd.plotly.v1+json": {
       "config": {
        "plotlyServerURL": "https://plot.ly"
       },
       "data": [
        {
         "colorbar": {
          "len": 0.5,
          "thickness": 15,
          "title": {
           "text": "Number"
          }
         },
         "colorscale": [
          [
           0,
           "rgb(255,255,217)"
          ],
          [
           0.125,
           "rgb(237,248,177)"
          ],
          [
           0.25,
           "rgb(199,233,180)"
          ],
          [
           0.375,
           "rgb(127,205,187)"
          ],
          [
           0.5,
           "rgb(65,182,196)"
          ],
          [
           0.625,
           "rgb(29,145,192)"
          ],
          [
           0.75,
           "rgb(34,94,168)"
          ],
          [
           0.875,
           "rgb(37,52,148)"
          ],
          [
           1,
           "rgb(8,29,88)"
          ]
         ],
         "opacity": 0.8,
         "type": "surface",
         "x": [
          0.25,
          0.3,
          0.35,
          0.39999999999999997,
          0.44999999999999996,
          0.49999999999999994,
          0.5499999999999999,
          0.5999999999999999,
          0.6499999999999999,
          0.7,
          0.7499999999999999,
          0.7999999999999998,
          0.8499999999999999,
          0.8999999999999999,
          0.9499999999999998,
          0.9999999999999998
         ],
         "y": [
          -5,
          -4.5,
          -4,
          -3.5,
          -3,
          -2.5,
          -2,
          -1.5,
          -1,
          -0.5,
          0,
          0.5,
          1,
          1.5,
          2,
          2.5,
          3,
          3.5,
          4,
          4.5,
          5
         ],
         "z": [
          [
           0.131985251842066,
           0.1332740484461066,
           0.13413412233272573,
           0.13456547350192338,
           0.13456810195369953,
           0.1341420076880542,
           0.13328719070498737,
           0.13200365100449907,
           0.13044780383120336,
           0.129558140652785,
           0.12949107671385807,
           0.13024661201442256,
           0.1318247465544785,
           0.1342254803340259,
           0.13744881335306472,
           0.14149474561159492
          ],
          [
           0.1301643379094574,
           0.13140637642557546,
           0.13224201041130457,
           0.13267123986664464,
           0.13269406479159582,
           0.13231048518615804,
           0.1315205010503313,
           0.1303241123841155,
           0.12887237666436022,
           0.12807163875216154,
           0.12807295612436903,
           0.12887632878098254,
           0.13048175672200213,
           0.13288923994742777,
           0.13609877845725948,
           0.14011037225149725
          ],
          [
           0.1283626252041112,
           0.12956291937437323,
           0.13037745483326563,
           0.13080623158078822,
           0.1308492496169411,
           0.1305065089417243,
           0.12977800955513777,
           0.12866375145718148,
           0.12730980735918954,
           0.12659261352916637,
           0.12665824267844605,
           0.12750669480702853,
           0.12913796991491386,
           0.131552068002102,
           0.13474898906859303,
           0.13872873311438683
          ],
          [
           0.12658011372602748,
           0.12774367729250014,
           0.128540455598609,
           0.12897044864435409,
           0.1290336564297354,
           0.128730078954753,
           0.12805971621940682,
           0.12702256822369687,
           0.12576009591569137,
           0.1251210649837994,
           0.12524693637608914,
           0.1261377100925606,
           0.1277933861332138,
           0.1302139644980487,
           0.13339944518706537,
           0.1373498282002637
          ],
          [
           0.1248168034752062,
           0.125948650179956,
           0.1267310127073346,
           0.12716389105734222,
           0.12724728522997866,
           0.12698119522524412,
           0.12636562104313845,
           0.12540056268366173,
           0.12422324233386567,
           0.1236569931160606,
           0.1238390372172983,
           0.1247693746375787,
           0.1264480053769019,
           0.1288749294352678,
           0.13205014681267652,
           0.13597365750912788
          ],
          [
           0.12307269445164738,
           0.12417783803674079,
           0.12494912615944254,
           0.12538655881975258,
           0.12549013601767095,
           0.12525985775319767,
           0.1246957240263327,
           0.12379773483707604,
           0.12269924661371243,
           0.12220039792595,
           0.1224345452020735,
           0.12340168844208285,
           0.12510182764597813,
           0.12753496281375928,
           0.13070109394542637,
           0.13460022104097932
          ],
          [
           0.12134778665535101,
           0.12243124086285463,
           0.12319479595493271,
           0.12363845193158525,
           0.12376220879281222,
           0.12356606653861363,
           0.12305002516898954,
           0.12221408468393981,
           0.12118810875523169,
           0.12075127941346762,
           0.12103346033041476,
           0.12203465150607305,
           0.12375485294044254,
           0.1261940646335232,
           0.12935228658531506,
           0.13322951879581804
          ],
          [
           0.11964208008631705,
           0.12070885865829746,
           0.1214680220938052,
           0.12191957039284018,
           0.12206350355540245,
           0.12189982158149204,
           0.12142852447110893,
           0.12064961222425306,
           0.11968982875842343,
           0.11930963757861343,
           0.11963578260232206,
           0.12066826382954927,
           0.1224070812602951,
           0.12485223489455949,
           0.1280037247323425,
           0.13186155077364406
          ],
          [
           0.11795557474454556,
           0.11901069142306933,
           0.11976880457605994,
           0.1202299142035174,
           0.12039402030544173,
           0.12026112288183287,
           0.1198312219326909,
           0.11910431745801575,
           0.11820440662328763,
           0.11787547242138748,
           0.11824151201779545,
           0.11930252541251157,
           0.12105851260553584,
           0.12350947359686822,
           0.12665540838650874,
           0.13049631697445738
          ],
          [
           0.1162882706300365,
           0.11733673915717016,
           0.11809714340169694,
           0.11856948336361686,
           0.11875375904292992,
           0.11864997043963611,
           0.11825811755373543,
           0.11757820038522787,
           0.11673184234982431,
           0.11644878394178966,
           0.1168506485768349,
           0.11793743625495987,
           0.11970914697616468,
           0.1221657807404493,
           0.12530733754781373,
           0.12913381739825794
          ],
          [
           0.11464016774278989,
           0.11568700186059999,
           0.11645303857071623,
           0.11693827787313862,
           0.11714271976786712,
           0.11706636425490179,
           0.11670921133424257,
           0.11607126100588946,
           0.11527213593803345,
           0.11502957213982014,
           0.1154631922794404,
           0.11657299635689425,
           0.11835898437218174,
           0.12082115632530283,
           0.1239595122162575,
           0.12777405204504577
          ],
          [
           0.1130112660828057,
           0.11406147953335885,
           0.11483649008311782,
           0.11533629773208266,
           0.11556090248025334,
           0.11551030432762989,
           0.1151845032742123,
           0.11458349932000055,
           0.1138252873879151,
           0.11361783701547874,
           0.11407914312561196,
           0.11520920571831467,
           0.11700802479358693,
           0.11947560035142873,
           0.12261193239184008,
           0.12641702091482093
          ],
          [
           0.11140156565008402,
           0.1124601721754467,
           0.11324749793890168,
           0.11376354294044899,
           0.11400830718008854,
           0.11398179065782041,
           0.11368399337364461,
           0.11311491532756106,
           0.11239129669946923,
           0.11221357856876561,
           0.11269850111534958,
           0.11384606433922115,
           0.1156562682403803,
           0.11812911281882706,
           0.12126459807456143,
           0.12506272400758336
          ],
          [
           0.10981106644462474,
           0.11088307978686354,
           0.11168606213806782,
           0.11222001349823756,
           0.11248493386737272,
           0.11248082324547339,
           0.1122076816325395,
           0.11166550902857103,
           0.11097016387269587,
           0.11081679679968068,
           0.11132126624865327,
           0.11248357221961364,
           0.11430371471256182,
           0.11678169372749778,
           0.11991750926442155,
           0.12371116132333307
          ],
          [
           0.10823976846642791,
           0.1093302023676094,
           0.11015218268061625,
           0.11070570940544841,
           0.11099078254210593,
           0.11100740209058876,
           0.11075556805089698,
           0.11023528042303048,
           0.10956188890759495,
           0.10942749170822391,
           0.10994743852552304,
           0.1111217293594922,
           0.11295036421013151,
           0.11543334307744091,
           0.11857066596142045,
           0.12236233286207007
          ],
          [
           0.10668767171549351,
           0.10780153991768424,
           0.10864585956654692,
           0.10922063066208154,
           0.10952585320428807,
           0.10956152719316656,
           0.10932765262871702,
           0.10882422951093937,
           0.10816647180416653,
           0.10804566329439537,
           0.10857701794595881,
           0.10976053575885678,
           0.11159621673308934,
           0.11408406086865644,
           0.11722406816555812,
           0.12101623862379435
          ],
          [
           0.10515477619182156,
           0.10629709243708808,
           0.10716709279585988,
           0.10776477726813692,
           0.10809014585391921,
           0.1081431985532068,
           0.10792393536599965,
           0.10743235629229772,
           0.10678391256241057,
           0.10667131155819502,
           0.10721000450996068,
           0.10839999141770743,
           0.11024127228143535,
           0.1127338471011444,
           0.11587771587683458,
           0.1196728786085059
          ],
          [
           0.10364108189541207,
           0.10481685992582095,
           0.10571588236855514,
           0.10633814922361462,
           0.10668366049099938,
           0.10675241617070946,
           0.10654441626274486,
           0.10605966076710552,
           0.10541421118232709,
           0.10530443649962291,
           0.1058463982175286,
           0.10704009633604412,
           0.1088855308551695,
           0.11138270177490475,
           0.11453160909524981,
           0.11833225281620474
          ],
          [
           0.10214658882626503,
           0.10336084238388281,
           0.10429222828463265,
           0.10494074652851454,
           0.10530639711552851,
           0.10538918004567452,
           0.10518909531895264,
           0.10470614293536279,
           0.10405736766391606,
           0.10394503811867899,
           0.10448619906866258,
           0.10568085051386686,
           0.10752899245429184,
           0.11003062488993748,
           0.11318574782080383,
           0.11699436124689086
          ],
          [
           0.10067129698438043,
           0.10192903981127366,
           0.10289613054409245,
           0.10357256918283679,
           0.10395835572750664,
           0.10405349017810206,
           0.10385797253462302,
           0.1033718027970695,
           0.10271338200717756,
           0.10259311641536327,
           0.10312940706336263,
           0.10432225395117563,
           0.10617165707880231,
           0.10867761644624263,
           0.11184013205349663,
           0.11565920390056426
          ],
          [
           0.09921520636975827,
           0.10052145220799352,
           0.10152758914693454,
           0.10223361718658128,
           0.10263953632693376,
           0.102745346567992,
           0.102551047909756,
           0.1020566403522257,
           0.10138225421211153,
           0.10124867138967575,
           0.10177602220162874,
           0.10296430664797046,
           0.10481352472870095,
           0.10732367644382021,
           0.11049476179332822,
           0.11432678077722495
          ]
         ]
        }
       ],
       "layout": {
        "autosize": true,
        "height": 800,
        "scene": {
         "aspectmode": "cube",
         "camera": {
          "eye": {
           "x": 2,
           "y": 1,
           "z": 1.25
          }
         },
         "xaxis": {
          "tickfont": {
           "size": 10
          },
          "title": {
           "text": "Maturity"
          },
          "type": "linear"
         },
         "yaxis": {
          "tickangle": 1,
          "tickfont": {
           "size": 10
          },
          "title": {
           "text": "Forward Strike Difference"
          }
         },
         "zaxis": {
          "tickfont": {
           "size": 10
          },
          "title": {
           "text": "Implied Volatility"
          }
         }
        },
        "template": {
         "data": {
          "bar": [
           {
            "error_x": {
             "color": "#2a3f5f"
            },
            "error_y": {
             "color": "#2a3f5f"
            },
            "marker": {
             "line": {
              "color": "#E5ECF6",
              "width": 0.5
             }
            },
            "type": "bar"
           }
          ],
          "barpolar": [
           {
            "marker": {
             "line": {
              "color": "#E5ECF6",
              "width": 0.5
             }
            },
            "type": "barpolar"
           }
          ],
          "carpet": [
           {
            "aaxis": {
             "endlinecolor": "#2a3f5f",
             "gridcolor": "white",
             "linecolor": "white",
             "minorgridcolor": "white",
             "startlinecolor": "#2a3f5f"
            },
            "baxis": {
             "endlinecolor": "#2a3f5f",
             "gridcolor": "white",
             "linecolor": "white",
             "minorgridcolor": "white",
             "startlinecolor": "#2a3f5f"
            },
            "type": "carpet"
           }
          ],
          "choropleth": [
           {
            "colorbar": {
             "outlinewidth": 0,
             "ticks": ""
            },
            "type": "choropleth"
           }
          ],
          "contour": [
           {
            "colorbar": {
             "outlinewidth": 0,
             "ticks": ""
            },
            "colorscale": [
             [
              0,
              "#0d0887"
             ],
             [
              0.1111111111111111,
              "#46039f"
             ],
             [
              0.2222222222222222,
              "#7201a8"
             ],
             [
              0.3333333333333333,
              "#9c179e"
             ],
             [
              0.4444444444444444,
              "#bd3786"
             ],
             [
              0.5555555555555556,
              "#d8576b"
             ],
             [
              0.6666666666666666,
              "#ed7953"
             ],
             [
              0.7777777777777778,
              "#fb9f3a"
             ],
             [
              0.8888888888888888,
              "#fdca26"
             ],
             [
              1,
              "#f0f921"
             ]
            ],
            "type": "contour"
           }
          ],
          "contourcarpet": [
           {
            "colorbar": {
             "outlinewidth": 0,
             "ticks": ""
            },
            "type": "contourcarpet"
           }
          ],
          "heatmap": [
           {
            "colorbar": {
             "outlinewidth": 0,
             "ticks": ""
            },
            "colorscale": [
             [
              0,
              "#0d0887"
             ],
             [
              0.1111111111111111,
              "#46039f"
             ],
             [
              0.2222222222222222,
              "#7201a8"
             ],
             [
              0.3333333333333333,
              "#9c179e"
             ],
             [
              0.4444444444444444,
              "#bd3786"
             ],
             [
              0.5555555555555556,
              "#d8576b"
             ],
             [
              0.6666666666666666,
              "#ed7953"
             ],
             [
              0.7777777777777778,
              "#fb9f3a"
             ],
             [
              0.8888888888888888,
              "#fdca26"
             ],
             [
              1,
              "#f0f921"
             ]
            ],
            "type": "heatmap"
           }
          ],
          "heatmapgl": [
           {
            "colorbar": {
             "outlinewidth": 0,
             "ticks": ""
            },
            "colorscale": [
             [
              0,
              "#0d0887"
             ],
             [
              0.1111111111111111,
              "#46039f"
             ],
             [
              0.2222222222222222,
              "#7201a8"
             ],
             [
              0.3333333333333333,
              "#9c179e"
             ],
             [
              0.4444444444444444,
              "#bd3786"
             ],
             [
              0.5555555555555556,
              "#d8576b"
             ],
             [
              0.6666666666666666,
              "#ed7953"
             ],
             [
              0.7777777777777778,
              "#fb9f3a"
             ],
             [
              0.8888888888888888,
              "#fdca26"
             ],
             [
              1,
              "#f0f921"
             ]
            ],
            "type": "heatmapgl"
           }
          ],
          "histogram": [
           {
            "marker": {
             "colorbar": {
              "outlinewidth": 0,
              "ticks": ""
             }
            },
            "type": "histogram"
           }
          ],
          "histogram2d": [
           {
            "colorbar": {
             "outlinewidth": 0,
             "ticks": ""
            },
            "colorscale": [
             [
              0,
              "#0d0887"
             ],
             [
              0.1111111111111111,
              "#46039f"
             ],
             [
              0.2222222222222222,
              "#7201a8"
             ],
             [
              0.3333333333333333,
              "#9c179e"
             ],
             [
              0.4444444444444444,
              "#bd3786"
             ],
             [
              0.5555555555555556,
              "#d8576b"
             ],
             [
              0.6666666666666666,
              "#ed7953"
             ],
             [
              0.7777777777777778,
              "#fb9f3a"
             ],
             [
              0.8888888888888888,
              "#fdca26"
             ],
             [
              1,
              "#f0f921"
             ]
            ],
            "type": "histogram2d"
           }
          ],
          "histogram2dcontour": [
           {
            "colorbar": {
             "outlinewidth": 0,
             "ticks": ""
            },
            "colorscale": [
             [
              0,
              "#0d0887"
             ],
             [
              0.1111111111111111,
              "#46039f"
             ],
             [
              0.2222222222222222,
              "#7201a8"
             ],
             [
              0.3333333333333333,
              "#9c179e"
             ],
             [
              0.4444444444444444,
              "#bd3786"
             ],
             [
              0.5555555555555556,
              "#d8576b"
             ],
             [
              0.6666666666666666,
              "#ed7953"
             ],
             [
              0.7777777777777778,
              "#fb9f3a"
             ],
             [
              0.8888888888888888,
              "#fdca26"
             ],
             [
              1,
              "#f0f921"
             ]
            ],
            "type": "histogram2dcontour"
           }
          ],
          "mesh3d": [
           {
            "colorbar": {
             "outlinewidth": 0,
             "ticks": ""
            },
            "type": "mesh3d"
           }
          ],
          "parcoords": [
           {
            "line": {
             "colorbar": {
              "outlinewidth": 0,
              "ticks": ""
             }
            },
            "type": "parcoords"
           }
          ],
          "scatter": [
           {
            "marker": {
             "colorbar": {
              "outlinewidth": 0,
              "ticks": ""
             }
            },
            "type": "scatter"
           }
          ],
          "scatter3d": [
           {
            "line": {
             "colorbar": {
              "outlinewidth": 0,
              "ticks": ""
             }
            },
            "marker": {
             "colorbar": {
              "outlinewidth": 0,
              "ticks": ""
             }
            },
            "type": "scatter3d"
           }
          ],
          "scattercarpet": [
           {
            "marker": {
             "colorbar": {
              "outlinewidth": 0,
              "ticks": ""
             }
            },
            "type": "scattercarpet"
           }
          ],
          "scattergeo": [
           {
            "marker": {
             "colorbar": {
              "outlinewidth": 0,
              "ticks": ""
             }
            },
            "type": "scattergeo"
           }
          ],
          "scattergl": [
           {
            "marker": {
             "colorbar": {
              "outlinewidth": 0,
              "ticks": ""
             }
            },
            "type": "scattergl"
           }
          ],
          "scattermapbox": [
           {
            "marker": {
             "colorbar": {
              "outlinewidth": 0,
              "ticks": ""
             }
            },
            "type": "scattermapbox"
           }
          ],
          "scatterpolar": [
           {
            "marker": {
             "colorbar": {
              "outlinewidth": 0,
              "ticks": ""
             }
            },
            "type": "scatterpolar"
           }
          ],
          "scatterpolargl": [
           {
            "marker": {
             "colorbar": {
              "outlinewidth": 0,
              "ticks": ""
             }
            },
            "type": "scatterpolargl"
           }
          ],
          "scatterternary": [
           {
            "marker": {
             "colorbar": {
              "outlinewidth": 0,
              "ticks": ""
             }
            },
            "type": "scatterternary"
           }
          ],
          "surface": [
           {
            "colorbar": {
             "outlinewidth": 0,
             "ticks": ""
            },
            "colorscale": [
             [
              0,
              "#0d0887"
             ],
             [
              0.1111111111111111,
              "#46039f"
             ],
             [
              0.2222222222222222,
              "#7201a8"
             ],
             [
              0.3333333333333333,
              "#9c179e"
             ],
             [
              0.4444444444444444,
              "#bd3786"
             ],
             [
              0.5555555555555556,
              "#d8576b"
             ],
             [
              0.6666666666666666,
              "#ed7953"
             ],
             [
              0.7777777777777778,
              "#fb9f3a"
             ],
             [
              0.8888888888888888,
              "#fdca26"
             ],
             [
              1,
              "#f0f921"
             ]
            ],
            "type": "surface"
           }
          ],
          "table": [
           {
            "cells": {
             "fill": {
              "color": "#EBF0F8"
             },
             "line": {
              "color": "white"
             }
            },
            "header": {
             "fill": {
              "color": "#C8D4E3"
             },
             "line": {
              "color": "white"
             }
            },
            "type": "table"
           }
          ]
         },
         "layout": {
          "annotationdefaults": {
           "arrowcolor": "#2a3f5f",
           "arrowhead": 0,
           "arrowwidth": 1
          },
          "colorscale": {
           "diverging": [
            [
             0,
             "#8e0152"
            ],
            [
             0.1,
             "#c51b7d"
            ],
            [
             0.2,
             "#de77ae"
            ],
            [
             0.3,
             "#f1b6da"
            ],
            [
             0.4,
             "#fde0ef"
            ],
            [
             0.5,
             "#f7f7f7"
            ],
            [
             0.6,
             "#e6f5d0"
            ],
            [
             0.7,
             "#b8e186"
            ],
            [
             0.8,
             "#7fbc41"
            ],
            [
             0.9,
             "#4d9221"
            ],
            [
             1,
             "#276419"
            ]
           ],
           "sequential": [
            [
             0,
             "#0d0887"
            ],
            [
             0.1111111111111111,
             "#46039f"
            ],
            [
             0.2222222222222222,
             "#7201a8"
            ],
            [
             0.3333333333333333,
             "#9c179e"
            ],
            [
             0.4444444444444444,
             "#bd3786"
            ],
            [
             0.5555555555555556,
             "#d8576b"
            ],
            [
             0.6666666666666666,
             "#ed7953"
            ],
            [
             0.7777777777777778,
             "#fb9f3a"
            ],
            [
             0.8888888888888888,
             "#fdca26"
            ],
            [
             1,
             "#f0f921"
            ]
           ],
           "sequentialminus": [
            [
             0,
             "#0d0887"
            ],
            [
             0.1111111111111111,
             "#46039f"
            ],
            [
             0.2222222222222222,
             "#7201a8"
            ],
            [
             0.3333333333333333,
             "#9c179e"
            ],
            [
             0.4444444444444444,
             "#bd3786"
            ],
            [
             0.5555555555555556,
             "#d8576b"
            ],
            [
             0.6666666666666666,
             "#ed7953"
            ],
            [
             0.7777777777777778,
             "#fb9f3a"
            ],
            [
             0.8888888888888888,
             "#fdca26"
            ],
            [
             1,
             "#f0f921"
            ]
           ]
          },
          "colorway": [
           "#636efa",
           "#EF553B",
           "#00cc96",
           "#ab63fa",
           "#FFA15A",
           "#19d3f3",
           "#FF6692",
           "#B6E880",
           "#FF97FF",
           "#FECB52"
          ],
          "font": {
           "color": "#2a3f5f"
          },
          "geo": {
           "bgcolor": "white",
           "lakecolor": "white",
           "landcolor": "#E5ECF6",
           "showlakes": true,
           "showland": true,
           "subunitcolor": "white"
          },
          "hoverlabel": {
           "align": "left"
          },
          "hovermode": "closest",
          "mapbox": {
           "style": "light"
          },
          "paper_bgcolor": "white",
          "plot_bgcolor": "#E5ECF6",
          "polar": {
           "angularaxis": {
            "gridcolor": "white",
            "linecolor": "white",
            "ticks": ""
           },
           "bgcolor": "#E5ECF6",
           "radialaxis": {
            "gridcolor": "white",
            "linecolor": "white",
            "ticks": ""
           }
          },
          "scene": {
           "xaxis": {
            "backgroundcolor": "#E5ECF6",
            "gridcolor": "white",
            "gridwidth": 2,
            "linecolor": "white",
            "showbackground": true,
            "ticks": "",
            "zerolinecolor": "white"
           },
           "yaxis": {
            "backgroundcolor": "#E5ECF6",
            "gridcolor": "white",
            "gridwidth": 2,
            "linecolor": "white",
            "showbackground": true,
            "ticks": "",
            "zerolinecolor": "white"
           },
           "zaxis": {
            "backgroundcolor": "#E5ECF6",
            "gridcolor": "white",
            "gridwidth": 2,
            "linecolor": "white",
            "showbackground": true,
            "ticks": "",
            "zerolinecolor": "white"
           }
          },
          "shapedefaults": {
           "line": {
            "color": "#2a3f5f"
           }
          },
          "ternary": {
           "aaxis": {
            "gridcolor": "white",
            "linecolor": "white",
            "ticks": ""
           },
           "baxis": {
            "gridcolor": "white",
            "linecolor": "white",
            "ticks": ""
           },
           "bgcolor": "#E5ECF6",
           "caxis": {
            "gridcolor": "white",
            "linecolor": "white",
            "ticks": ""
           }
          },
          "title": {
           "x": 0.05
          },
          "xaxis": {
           "automargin": true,
           "gridcolor": "white",
           "linecolor": "white",
           "ticks": "",
           "zerolinecolor": "white",
           "zerolinewidth": 2
          },
          "yaxis": {
           "automargin": true,
           "gridcolor": "white",
           "linecolor": "white",
           "ticks": "",
           "zerolinecolor": "white",
           "zerolinewidth": 2
          }
         }
        }
       }
      },
      "text/html": [
       "<div>\n",
       "        \n",
       "        \n",
       "            <div id=\"5bc0c0d7-a19c-4e12-bfdd-c9f118893194\" class=\"plotly-graph-div\" style=\"height:800px; width:100%;\"></div>\n",
       "            <script type=\"text/javascript\">\n",
       "                require([\"plotly\"], function(Plotly) {\n",
       "                    window.PLOTLYENV=window.PLOTLYENV || {};\n",
       "                    \n",
       "                if (document.getElementById(\"5bc0c0d7-a19c-4e12-bfdd-c9f118893194\")) {\n",
       "                    Plotly.newPlot(\n",
       "                        '5bc0c0d7-a19c-4e12-bfdd-c9f118893194',\n",
       "                        [{\"colorbar\": {\"len\": 0.5, \"thickness\": 15, \"title\": {\"text\": \"Number\"}}, \"colorscale\": [[0.0, \"rgb(255,255,217)\"], [0.125, \"rgb(237,248,177)\"], [0.25, \"rgb(199,233,180)\"], [0.375, \"rgb(127,205,187)\"], [0.5, \"rgb(65,182,196)\"], [0.625, \"rgb(29,145,192)\"], [0.75, \"rgb(34,94,168)\"], [0.875, \"rgb(37,52,148)\"], [1.0, \"rgb(8,29,88)\"]], \"opacity\": 0.8, \"type\": \"surface\", \"x\": [0.25, 0.3, 0.35, 0.39999999999999997, 0.44999999999999996, 0.49999999999999994, 0.5499999999999999, 0.5999999999999999, 0.6499999999999999, 0.7, 0.7499999999999999, 0.7999999999999998, 0.8499999999999999, 0.8999999999999999, 0.9499999999999998, 0.9999999999999998], \"y\": [-5.0, -4.5, -4.0, -3.5, -3.0, -2.5, -2.0, -1.5, -1.0, -0.5, 0.0, 0.5, 1.0, 1.5, 2.0, 2.5, 3.0, 3.5, 4.0, 4.5, 5.0], \"z\": [[0.131985251842066, 0.1332740484461066, 0.13413412233272573, 0.13456547350192338, 0.13456810195369953, 0.1341420076880542, 0.13328719070498737, 0.13200365100449907, 0.13044780383120336, 0.129558140652785, 0.12949107671385807, 0.13024661201442256, 0.1318247465544785, 0.1342254803340259, 0.13744881335306472, 0.14149474561159492], [0.1301643379094574, 0.13140637642557546, 0.13224201041130457, 0.13267123986664464, 0.13269406479159582, 0.13231048518615804, 0.1315205010503313, 0.1303241123841155, 0.12887237666436022, 0.12807163875216154, 0.12807295612436903, 0.12887632878098254, 0.13048175672200213, 0.13288923994742777, 0.13609877845725948, 0.14011037225149725], [0.1283626252041112, 0.12956291937437323, 0.13037745483326563, 0.13080623158078822, 0.1308492496169411, 0.1305065089417243, 0.12977800955513777, 0.12866375145718148, 0.12730980735918954, 0.12659261352916637, 0.12665824267844605, 0.12750669480702853, 0.12913796991491386, 0.131552068002102, 0.13474898906859303, 0.13872873311438683], [0.12658011372602748, 0.12774367729250014, 0.128540455598609, 0.12897044864435409, 0.1290336564297354, 0.128730078954753, 0.12805971621940682, 0.12702256822369687, 0.12576009591569137, 0.1251210649837994, 0.12524693637608914, 0.1261377100925606, 0.1277933861332138, 0.1302139644980487, 0.13339944518706537, 0.1373498282002637], [0.1248168034752062, 0.125948650179956, 0.1267310127073346, 0.12716389105734222, 0.12724728522997866, 0.12698119522524412, 0.12636562104313845, 0.12540056268366173, 0.12422324233386567, 0.1236569931160606, 0.1238390372172983, 0.1247693746375787, 0.1264480053769019, 0.1288749294352678, 0.13205014681267652, 0.13597365750912788], [0.12307269445164738, 0.12417783803674079, 0.12494912615944254, 0.12538655881975258, 0.12549013601767095, 0.12525985775319767, 0.1246957240263327, 0.12379773483707604, 0.12269924661371243, 0.12220039792595, 0.1224345452020735, 0.12340168844208285, 0.12510182764597813, 0.12753496281375928, 0.13070109394542637, 0.13460022104097932], [0.12134778665535101, 0.12243124086285463, 0.12319479595493271, 0.12363845193158525, 0.12376220879281222, 0.12356606653861363, 0.12305002516898954, 0.12221408468393981, 0.12118810875523169, 0.12075127941346762, 0.12103346033041476, 0.12203465150607305, 0.12375485294044254, 0.1261940646335232, 0.12935228658531506, 0.13322951879581804], [0.11964208008631705, 0.12070885865829746, 0.1214680220938052, 0.12191957039284018, 0.12206350355540245, 0.12189982158149204, 0.12142852447110893, 0.12064961222425306, 0.11968982875842343, 0.11930963757861343, 0.11963578260232206, 0.12066826382954927, 0.1224070812602951, 0.12485223489455949, 0.1280037247323425, 0.13186155077364406], [0.11795557474454556, 0.11901069142306933, 0.11976880457605994, 0.1202299142035174, 0.12039402030544173, 0.12026112288183287, 0.1198312219326909, 0.11910431745801575, 0.11820440662328763, 0.11787547242138748, 0.11824151201779545, 0.11930252541251157, 0.12105851260553584, 0.12350947359686822, 0.12665540838650874, 0.13049631697445738], [0.1162882706300365, 0.11733673915717016, 0.11809714340169694, 0.11856948336361686, 0.11875375904292992, 0.11864997043963611, 0.11825811755373543, 0.11757820038522787, 0.11673184234982431, 0.11644878394178966, 0.1168506485768349, 0.11793743625495987, 0.11970914697616468, 0.1221657807404493, 0.12530733754781373, 0.12913381739825794], [0.11464016774278989, 0.11568700186059999, 0.11645303857071623, 0.11693827787313862, 0.11714271976786712, 0.11706636425490179, 0.11670921133424257, 0.11607126100588946, 0.11527213593803345, 0.11502957213982014, 0.1154631922794404, 0.11657299635689425, 0.11835898437218174, 0.12082115632530283, 0.1239595122162575, 0.12777405204504577], [0.1130112660828057, 0.11406147953335885, 0.11483649008311782, 0.11533629773208266, 0.11556090248025334, 0.11551030432762989, 0.1151845032742123, 0.11458349932000055, 0.1138252873879151, 0.11361783701547874, 0.11407914312561196, 0.11520920571831467, 0.11700802479358693, 0.11947560035142873, 0.12261193239184008, 0.12641702091482093], [0.11140156565008402, 0.1124601721754467, 0.11324749793890168, 0.11376354294044899, 0.11400830718008854, 0.11398179065782041, 0.11368399337364461, 0.11311491532756106, 0.11239129669946923, 0.11221357856876561, 0.11269850111534958, 0.11384606433922115, 0.1156562682403803, 0.11812911281882706, 0.12126459807456143, 0.12506272400758336], [0.10981106644462474, 0.11088307978686354, 0.11168606213806782, 0.11222001349823756, 0.11248493386737272, 0.11248082324547339, 0.1122076816325395, 0.11166550902857103, 0.11097016387269587, 0.11081679679968068, 0.11132126624865327, 0.11248357221961364, 0.11430371471256182, 0.11678169372749778, 0.11991750926442155, 0.12371116132333307], [0.10823976846642791, 0.1093302023676094, 0.11015218268061625, 0.11070570940544841, 0.11099078254210593, 0.11100740209058876, 0.11075556805089698, 0.11023528042303048, 0.10956188890759495, 0.10942749170822391, 0.10994743852552304, 0.1111217293594922, 0.11295036421013151, 0.11543334307744091, 0.11857066596142045, 0.12236233286207007], [0.10668767171549351, 0.10780153991768424, 0.10864585956654692, 0.10922063066208154, 0.10952585320428807, 0.10956152719316656, 0.10932765262871702, 0.10882422951093937, 0.10816647180416653, 0.10804566329439537, 0.10857701794595881, 0.10976053575885678, 0.11159621673308934, 0.11408406086865644, 0.11722406816555812, 0.12101623862379435], [0.10515477619182156, 0.10629709243708808, 0.10716709279585988, 0.10776477726813692, 0.10809014585391921, 0.1081431985532068, 0.10792393536599965, 0.10743235629229772, 0.10678391256241057, 0.10667131155819502, 0.10721000450996068, 0.10839999141770743, 0.11024127228143535, 0.1127338471011444, 0.11587771587683458, 0.1196728786085059], [0.10364108189541207, 0.10481685992582095, 0.10571588236855514, 0.10633814922361462, 0.10668366049099938, 0.10675241617070946, 0.10654441626274486, 0.10605966076710552, 0.10541421118232709, 0.10530443649962291, 0.1058463982175286, 0.10704009633604412, 0.1088855308551695, 0.11138270177490475, 0.11453160909524981, 0.11833225281620474], [0.10214658882626503, 0.10336084238388281, 0.10429222828463265, 0.10494074652851454, 0.10530639711552851, 0.10538918004567452, 0.10518909531895264, 0.10470614293536279, 0.10405736766391606, 0.10394503811867899, 0.10448619906866258, 0.10568085051386686, 0.10752899245429184, 0.11003062488993748, 0.11318574782080383, 0.11699436124689086], [0.10067129698438043, 0.10192903981127366, 0.10289613054409245, 0.10357256918283679, 0.10395835572750664, 0.10405349017810206, 0.10385797253462302, 0.1033718027970695, 0.10271338200717756, 0.10259311641536327, 0.10312940706336263, 0.10432225395117563, 0.10617165707880231, 0.10867761644624263, 0.11184013205349663, 0.11565920390056426], [0.09921520636975827, 0.10052145220799352, 0.10152758914693454, 0.10223361718658128, 0.10263953632693376, 0.102745346567992, 0.102551047909756, 0.1020566403522257, 0.10138225421211153, 0.10124867138967575, 0.10177602220162874, 0.10296430664797046, 0.10481352472870095, 0.10732367644382021, 0.11049476179332822, 0.11432678077722495]]}],\n",
       "                        {\"autosize\": true, \"height\": 800, \"scene\": {\"aspectmode\": \"cube\", \"camera\": {\"eye\": {\"x\": 2, \"y\": 1, \"z\": 1.25}}, \"xaxis\": {\"tickfont\": {\"size\": 10}, \"title\": {\"text\": \"Maturity\"}, \"type\": \"linear\"}, \"yaxis\": {\"tickangle\": 1, \"tickfont\": {\"size\": 10}, \"title\": {\"text\": \"Forward Strike Difference\"}}, \"zaxis\": {\"tickfont\": {\"size\": 10}, \"title\": {\"text\": \"Implied Volatility\"}}}, \"template\": {\"data\": {\"bar\": [{\"error_x\": {\"color\": \"#2a3f5f\"}, \"error_y\": {\"color\": \"#2a3f5f\"}, \"marker\": {\"line\": {\"color\": \"#E5ECF6\", \"width\": 0.5}}, \"type\": \"bar\"}], \"barpolar\": [{\"marker\": {\"line\": {\"color\": \"#E5ECF6\", \"width\": 0.5}}, \"type\": \"barpolar\"}], \"carpet\": [{\"aaxis\": {\"endlinecolor\": \"#2a3f5f\", \"gridcolor\": \"white\", \"linecolor\": \"white\", \"minorgridcolor\": \"white\", \"startlinecolor\": \"#2a3f5f\"}, \"baxis\": {\"endlinecolor\": \"#2a3f5f\", \"gridcolor\": \"white\", \"linecolor\": \"white\", \"minorgridcolor\": \"white\", \"startlinecolor\": \"#2a3f5f\"}, \"type\": \"carpet\"}], \"choropleth\": [{\"colorbar\": {\"outlinewidth\": 0, \"ticks\": \"\"}, \"type\": \"choropleth\"}], \"contour\": [{\"colorbar\": {\"outlinewidth\": 0, \"ticks\": \"\"}, \"colorscale\": [[0.0, \"#0d0887\"], [0.1111111111111111, \"#46039f\"], [0.2222222222222222, \"#7201a8\"], [0.3333333333333333, \"#9c179e\"], [0.4444444444444444, \"#bd3786\"], [0.5555555555555556, \"#d8576b\"], [0.6666666666666666, \"#ed7953\"], [0.7777777777777778, \"#fb9f3a\"], [0.8888888888888888, \"#fdca26\"], [1.0, \"#f0f921\"]], \"type\": \"contour\"}], \"contourcarpet\": [{\"colorbar\": {\"outlinewidth\": 0, \"ticks\": \"\"}, \"type\": \"contourcarpet\"}], \"heatmap\": [{\"colorbar\": {\"outlinewidth\": 0, \"ticks\": \"\"}, \"colorscale\": [[0.0, \"#0d0887\"], [0.1111111111111111, \"#46039f\"], [0.2222222222222222, \"#7201a8\"], [0.3333333333333333, \"#9c179e\"], [0.4444444444444444, \"#bd3786\"], [0.5555555555555556, \"#d8576b\"], [0.6666666666666666, \"#ed7953\"], [0.7777777777777778, \"#fb9f3a\"], [0.8888888888888888, \"#fdca26\"], [1.0, \"#f0f921\"]], \"type\": \"heatmap\"}], \"heatmapgl\": [{\"colorbar\": {\"outlinewidth\": 0, \"ticks\": \"\"}, \"colorscale\": [[0.0, \"#0d0887\"], [0.1111111111111111, \"#46039f\"], [0.2222222222222222, \"#7201a8\"], [0.3333333333333333, \"#9c179e\"], [0.4444444444444444, \"#bd3786\"], [0.5555555555555556, \"#d8576b\"], [0.6666666666666666, \"#ed7953\"], [0.7777777777777778, \"#fb9f3a\"], [0.8888888888888888, \"#fdca26\"], [1.0, \"#f0f921\"]], \"type\": \"heatmapgl\"}], \"histogram\": [{\"marker\": {\"colorbar\": {\"outlinewidth\": 0, \"ticks\": \"\"}}, \"type\": \"histogram\"}], \"histogram2d\": [{\"colorbar\": {\"outlinewidth\": 0, \"ticks\": \"\"}, \"colorscale\": [[0.0, \"#0d0887\"], [0.1111111111111111, \"#46039f\"], [0.2222222222222222, \"#7201a8\"], [0.3333333333333333, \"#9c179e\"], [0.4444444444444444, \"#bd3786\"], [0.5555555555555556, \"#d8576b\"], [0.6666666666666666, \"#ed7953\"], [0.7777777777777778, \"#fb9f3a\"], [0.8888888888888888, \"#fdca26\"], [1.0, \"#f0f921\"]], \"type\": \"histogram2d\"}], \"histogram2dcontour\": [{\"colorbar\": {\"outlinewidth\": 0, \"ticks\": \"\"}, \"colorscale\": [[0.0, \"#0d0887\"], [0.1111111111111111, \"#46039f\"], [0.2222222222222222, \"#7201a8\"], [0.3333333333333333, \"#9c179e\"], [0.4444444444444444, \"#bd3786\"], [0.5555555555555556, \"#d8576b\"], [0.6666666666666666, \"#ed7953\"], [0.7777777777777778, \"#fb9f3a\"], [0.8888888888888888, \"#fdca26\"], [1.0, \"#f0f921\"]], \"type\": \"histogram2dcontour\"}], \"mesh3d\": [{\"colorbar\": {\"outlinewidth\": 0, \"ticks\": \"\"}, \"type\": \"mesh3d\"}], \"parcoords\": [{\"line\": {\"colorbar\": {\"outlinewidth\": 0, \"ticks\": \"\"}}, \"type\": \"parcoords\"}], \"scatter\": [{\"marker\": {\"colorbar\": {\"outlinewidth\": 0, \"ticks\": \"\"}}, \"type\": \"scatter\"}], \"scatter3d\": [{\"line\": {\"colorbar\": {\"outlinewidth\": 0, \"ticks\": \"\"}}, \"marker\": {\"colorbar\": {\"outlinewidth\": 0, \"ticks\": \"\"}}, \"type\": \"scatter3d\"}], \"scattercarpet\": [{\"marker\": {\"colorbar\": {\"outlinewidth\": 0, \"ticks\": \"\"}}, \"type\": \"scattercarpet\"}], \"scattergeo\": [{\"marker\": {\"colorbar\": {\"outlinewidth\": 0, \"ticks\": \"\"}}, \"type\": \"scattergeo\"}], \"scattergl\": [{\"marker\": {\"colorbar\": {\"outlinewidth\": 0, \"ticks\": \"\"}}, \"type\": \"scattergl\"}], \"scattermapbox\": [{\"marker\": {\"colorbar\": {\"outlinewidth\": 0, \"ticks\": \"\"}}, \"type\": \"scattermapbox\"}], \"scatterpolar\": [{\"marker\": {\"colorbar\": {\"outlinewidth\": 0, \"ticks\": \"\"}}, \"type\": \"scatterpolar\"}], \"scatterpolargl\": [{\"marker\": {\"colorbar\": {\"outlinewidth\": 0, \"ticks\": \"\"}}, \"type\": \"scatterpolargl\"}], \"scatterternary\": [{\"marker\": {\"colorbar\": {\"outlinewidth\": 0, \"ticks\": \"\"}}, \"type\": \"scatterternary\"}], \"surface\": [{\"colorbar\": {\"outlinewidth\": 0, \"ticks\": \"\"}, \"colorscale\": [[0.0, \"#0d0887\"], [0.1111111111111111, \"#46039f\"], [0.2222222222222222, \"#7201a8\"], [0.3333333333333333, \"#9c179e\"], [0.4444444444444444, \"#bd3786\"], [0.5555555555555556, \"#d8576b\"], [0.6666666666666666, \"#ed7953\"], [0.7777777777777778, \"#fb9f3a\"], [0.8888888888888888, \"#fdca26\"], [1.0, \"#f0f921\"]], \"type\": \"surface\"}], \"table\": [{\"cells\": {\"fill\": {\"color\": \"#EBF0F8\"}, \"line\": {\"color\": \"white\"}}, \"header\": {\"fill\": {\"color\": \"#C8D4E3\"}, \"line\": {\"color\": \"white\"}}, \"type\": \"table\"}]}, \"layout\": {\"annotationdefaults\": {\"arrowcolor\": \"#2a3f5f\", \"arrowhead\": 0, \"arrowwidth\": 1}, \"colorscale\": {\"diverging\": [[0, \"#8e0152\"], [0.1, \"#c51b7d\"], [0.2, \"#de77ae\"], [0.3, \"#f1b6da\"], [0.4, \"#fde0ef\"], [0.5, \"#f7f7f7\"], [0.6, \"#e6f5d0\"], [0.7, \"#b8e186\"], [0.8, \"#7fbc41\"], [0.9, \"#4d9221\"], [1, \"#276419\"]], \"sequential\": [[0.0, \"#0d0887\"], [0.1111111111111111, \"#46039f\"], [0.2222222222222222, \"#7201a8\"], [0.3333333333333333, \"#9c179e\"], [0.4444444444444444, \"#bd3786\"], [0.5555555555555556, \"#d8576b\"], [0.6666666666666666, \"#ed7953\"], [0.7777777777777778, \"#fb9f3a\"], [0.8888888888888888, \"#fdca26\"], [1.0, \"#f0f921\"]], \"sequentialminus\": [[0.0, \"#0d0887\"], [0.1111111111111111, \"#46039f\"], [0.2222222222222222, \"#7201a8\"], [0.3333333333333333, \"#9c179e\"], [0.4444444444444444, \"#bd3786\"], [0.5555555555555556, \"#d8576b\"], [0.6666666666666666, \"#ed7953\"], [0.7777777777777778, \"#fb9f3a\"], [0.8888888888888888, \"#fdca26\"], [1.0, \"#f0f921\"]]}, \"colorway\": [\"#636efa\", \"#EF553B\", \"#00cc96\", \"#ab63fa\", \"#FFA15A\", \"#19d3f3\", \"#FF6692\", \"#B6E880\", \"#FF97FF\", \"#FECB52\"], \"font\": {\"color\": \"#2a3f5f\"}, \"geo\": {\"bgcolor\": \"white\", \"lakecolor\": \"white\", \"landcolor\": \"#E5ECF6\", \"showlakes\": true, \"showland\": true, \"subunitcolor\": \"white\"}, \"hoverlabel\": {\"align\": \"left\"}, \"hovermode\": \"closest\", \"mapbox\": {\"style\": \"light\"}, \"paper_bgcolor\": \"white\", \"plot_bgcolor\": \"#E5ECF6\", \"polar\": {\"angularaxis\": {\"gridcolor\": \"white\", \"linecolor\": \"white\", \"ticks\": \"\"}, \"bgcolor\": \"#E5ECF6\", \"radialaxis\": {\"gridcolor\": \"white\", \"linecolor\": \"white\", \"ticks\": \"\"}}, \"scene\": {\"xaxis\": {\"backgroundcolor\": \"#E5ECF6\", \"gridcolor\": \"white\", \"gridwidth\": 2, \"linecolor\": \"white\", \"showbackground\": true, \"ticks\": \"\", \"zerolinecolor\": \"white\"}, \"yaxis\": {\"backgroundcolor\": \"#E5ECF6\", \"gridcolor\": \"white\", \"gridwidth\": 2, \"linecolor\": \"white\", \"showbackground\": true, \"ticks\": \"\", \"zerolinecolor\": \"white\"}, \"zaxis\": {\"backgroundcolor\": \"#E5ECF6\", \"gridcolor\": \"white\", \"gridwidth\": 2, \"linecolor\": \"white\", \"showbackground\": true, \"ticks\": \"\", \"zerolinecolor\": \"white\"}}, \"shapedefaults\": {\"line\": {\"color\": \"#2a3f5f\"}}, \"ternary\": {\"aaxis\": {\"gridcolor\": \"white\", \"linecolor\": \"white\", \"ticks\": \"\"}, \"baxis\": {\"gridcolor\": \"white\", \"linecolor\": \"white\", \"ticks\": \"\"}, \"bgcolor\": \"#E5ECF6\", \"caxis\": {\"gridcolor\": \"white\", \"linecolor\": \"white\", \"ticks\": \"\"}}, \"title\": {\"x\": 0.05}, \"xaxis\": {\"automargin\": true, \"gridcolor\": \"white\", \"linecolor\": \"white\", \"ticks\": \"\", \"zerolinecolor\": \"white\", \"zerolinewidth\": 2}, \"yaxis\": {\"automargin\": true, \"gridcolor\": \"white\", \"linecolor\": \"white\", \"ticks\": \"\", \"zerolinecolor\": \"white\", \"zerolinewidth\": 2}}}},\n",
       "                        {\"responsive\": true}\n",
       "                    ).then(function(){\n",
       "                            \n",
       "var gd = document.getElementById('5bc0c0d7-a19c-4e12-bfdd-c9f118893194');\n",
       "var x = new MutationObserver(function (mutations, observer) {{\n",
       "        var display = window.getComputedStyle(gd).display;\n",
       "        if (!display || display === 'none') {{\n",
       "            console.log([gd, 'removed!']);\n",
       "            Plotly.purge(gd);\n",
       "            observer.disconnect();\n",
       "        }}\n",
       "}});\n",
       "\n",
       "// Listen for the removal of the full notebook cells\n",
       "var notebookContainer = gd.closest('#notebook-container');\n",
       "if (notebookContainer) {{\n",
       "    x.observe(notebookContainer, {childList: true});\n",
       "}}\n",
       "\n",
       "// Listen for the clearing of the current output cell\n",
       "var outputEl = gd.closest('.output');\n",
       "if (outputEl) {{\n",
       "    x.observe(outputEl, {childList: true});\n",
       "}}\n",
       "\n",
       "                        })\n",
       "                };\n",
       "                });\n",
       "            </script>\n",
       "        </div>"
      ]
     },
     "metadata": {},
     "output_type": "display_data"
    }
   ],
   "source": [
    "plotly_surface(data_inter)"
   ]
  },
  {
   "cell_type": "code",
   "execution_count": 135,
   "metadata": {},
   "outputs": [],
   "source": [
    "N = 70\n",
    "\n",
    "fig = go.Figure(data=[go.Mesh3d(x=(70*np.random.randn(N)),\n",
    "                   y=(55*np.random.randn(N)),\n",
    "                   z=(40*np.random.randn(N)),\n",
    "                   opacity=0.9,\n",
    "#                    color='rgba(244,22,100,0.6)'\n",
    "                  )])"
   ]
  },
  {
   "cell_type": "code",
   "execution_count": 136,
   "metadata": {},
   "outputs": [
    {
     "data": {
      "application/vnd.plotly.v1+json": {
       "config": {
        "plotlyServerURL": "https://plot.ly"
       },
       "data": [
        {
         "opacity": 0.9,
         "type": "mesh3d",
         "x": [
          -73.00956204940103,
          -44.904718427156986,
          97.87681124960254,
          -52.09980893898894,
          18.712354053317895,
          150.95537756795193,
          -45.60940170411727,
          -9.882129323343765,
          -42.38130262549894,
          124.88596041167209,
          67.12045011344176,
          17.096227665734084,
          -6.078836008099546,
          2.958079551613749,
          131.12411215503022,
          -40.36467132388355,
          -93.36483100670267,
          12.076699264663912,
          1.157738277272575,
          -23.803635611083664,
          16.91580147249614,
          11.958717512162337,
          83.35035242956832,
          20.116391659130688,
          5.961628770051463,
          33.84743380982514,
          119.42850694159594,
          58.26829984292304,
          91.1536767889231,
          23.178195309497816,
          76.74023108817177,
          -3.4385746550251737,
          5.675471888519786,
          -9.415431376931876,
          52.15417214564737,
          21.52536368243633,
          3.373661081296082,
          78.1787256417922,
          65.48021331459387,
          6.763796714164975,
          60.714994647042055,
          105.680094179574,
          -86.24819361182351,
          72.88174963657012,
          9.094116983077692,
          -115.86226994288923,
          90.53826498880188,
          -22.754282261825097,
          -83.94915979482444,
          -74.15524775532775,
          -11.150853034270547,
          66.83323040141069,
          -12.472908956586723,
          -42.96440825851569,
          63.43221387507911,
          -8.706143916930305,
          59.4860961405578,
          -18.42326382768884,
          -5.570064173148241,
          26.411847269210092,
          17.686424131431874,
          36.14005100687255,
          12.855318412553371,
          61.577001580622806,
          63.90616775026725,
          30.434772844317315,
          -8.892947105044312,
          68.78137936179895,
          -65.25257961541314,
          77.62225361108737
         ],
         "y": [
          -1.4194442262829345,
          -19.648577373927107,
          -91.13495433550189,
          -60.01912254215594,
          -9.051723516337077,
          -76.98369854125006,
          -49.831828957731396,
          -27.0652677492182,
          40.24906077037835,
          74.9256758230816,
          63.12305640145857,
          42.36408057191717,
          4.741492938102655,
          31.740508615901224,
          12.208119493417495,
          -88.25874004124555,
          -75.20063665500926,
          -4.8728877846731224,
          -110.87166711819889,
          -35.87883932632349,
          -1.4632783474595747,
          -20.109946300144514,
          40.25788600274357,
          33.51769886880986,
          -54.57638714657876,
          22.58872692953194,
          52.99322089248021,
          35.87053418465242,
          -127.74788559822429,
          42.03048070894313,
          111.88779978763561,
          60.43839359070953,
          -57.84010396324938,
          -62.50399040724509,
          8.471137077557163,
          35.748097782916396,
          59.576523053335386,
          29.122128759552453,
          -27.059224390343843,
          65.34509963897798,
          32.56968282880557,
          -66.29647653204822,
          -23.066487807128002,
          1.2798465045111018,
          58.793650718270214,
          -43.59557284303189,
          57.37301059959261,
          -6.164492694243515,
          19.868856950825467,
          -52.85312241166836,
          66.1952912285137,
          -86.23461475247281,
          30.631030223229423,
          -33.912304033100675,
          -10.19673919757296,
          -37.58933271011998,
          24.02138755330384,
          -72.17190498699304,
          -91.05524312237364,
          -49.23278936535064,
          2.4133354652122914,
          -15.304497792438827,
          -73.92743687959272,
          -85.74632571757932,
          38.38315404499967,
          41.619993937691376,
          11.173296998552676,
          24.822178600489977,
          21.905120966981958,
          28.252202883595682
         ],
         "z": [
          2.4429502223489687,
          9.464847932913155,
          15.352516275706463,
          77.15975170935796,
          8.4914591233895,
          -38.6390960651609,
          -33.66662476072535,
          5.4027133746922305,
          23.33517196117347,
          -69.74357330364433,
          13.411122200541193,
          -40.66913070133657,
          -46.67902121047976,
          -20.71302422711577,
          21.28596647363366,
          54.041785351567,
          28.37411624713448,
          71.04177695992549,
          20.176131377723216,
          -17.747928983767434,
          -23.5394112403811,
          5.138445863117016,
          -46.6880161712634,
          5.038314264786093,
          -11.392132965735144,
          35.347271098783,
          -21.724984261366043,
          -0.4470685007726915,
          -19.36895941102636,
          -29.220986044535767,
          -41.81075330516507,
          75.98172337606935,
          -70.97653998552514,
          3.9175028197495005,
          -11.683626134812496,
          -4.8429010222436215,
          48.8725253700639,
          -44.034709432138214,
          16.773496386028288,
          -12.05675342477672,
          22.692599164644708,
          -21.304367024499413,
          -4.299635071639429,
          -14.28950388972755,
          -50.0444494937896,
          -34.41910969628558,
          -35.41923819932882,
          -29.001615309846215,
          -59.6107618781079,
          -60.30025224865174,
          -16.32756867809333,
          34.784426453044674,
          -33.187558417212195,
          -87.40161663813149,
          -39.128738713718754,
          37.41831736676703,
          6.506038457226833,
          -0.10580325062050157,
          -58.0928063198368,
          25.16815435739277,
          16.489888630008632,
          -13.289270921103146,
          -33.262068922303534,
          50.28571743491901,
          24.998268111344043,
          -29.515361597190868,
          96.94865649564072,
          27.05495106556695,
          -14.439570567818418,
          -17.156248755123766
         ]
        }
       ],
       "layout": {
        "template": {
         "data": {
          "bar": [
           {
            "error_x": {
             "color": "#2a3f5f"
            },
            "error_y": {
             "color": "#2a3f5f"
            },
            "marker": {
             "line": {
              "color": "#E5ECF6",
              "width": 0.5
             }
            },
            "type": "bar"
           }
          ],
          "barpolar": [
           {
            "marker": {
             "line": {
              "color": "#E5ECF6",
              "width": 0.5
             }
            },
            "type": "barpolar"
           }
          ],
          "carpet": [
           {
            "aaxis": {
             "endlinecolor": "#2a3f5f",
             "gridcolor": "white",
             "linecolor": "white",
             "minorgridcolor": "white",
             "startlinecolor": "#2a3f5f"
            },
            "baxis": {
             "endlinecolor": "#2a3f5f",
             "gridcolor": "white",
             "linecolor": "white",
             "minorgridcolor": "white",
             "startlinecolor": "#2a3f5f"
            },
            "type": "carpet"
           }
          ],
          "choropleth": [
           {
            "colorbar": {
             "outlinewidth": 0,
             "ticks": ""
            },
            "type": "choropleth"
           }
          ],
          "contour": [
           {
            "colorbar": {
             "outlinewidth": 0,
             "ticks": ""
            },
            "colorscale": [
             [
              0,
              "#0d0887"
             ],
             [
              0.1111111111111111,
              "#46039f"
             ],
             [
              0.2222222222222222,
              "#7201a8"
             ],
             [
              0.3333333333333333,
              "#9c179e"
             ],
             [
              0.4444444444444444,
              "#bd3786"
             ],
             [
              0.5555555555555556,
              "#d8576b"
             ],
             [
              0.6666666666666666,
              "#ed7953"
             ],
             [
              0.7777777777777778,
              "#fb9f3a"
             ],
             [
              0.8888888888888888,
              "#fdca26"
             ],
             [
              1,
              "#f0f921"
             ]
            ],
            "type": "contour"
           }
          ],
          "contourcarpet": [
           {
            "colorbar": {
             "outlinewidth": 0,
             "ticks": ""
            },
            "type": "contourcarpet"
           }
          ],
          "heatmap": [
           {
            "colorbar": {
             "outlinewidth": 0,
             "ticks": ""
            },
            "colorscale": [
             [
              0,
              "#0d0887"
             ],
             [
              0.1111111111111111,
              "#46039f"
             ],
             [
              0.2222222222222222,
              "#7201a8"
             ],
             [
              0.3333333333333333,
              "#9c179e"
             ],
             [
              0.4444444444444444,
              "#bd3786"
             ],
             [
              0.5555555555555556,
              "#d8576b"
             ],
             [
              0.6666666666666666,
              "#ed7953"
             ],
             [
              0.7777777777777778,
              "#fb9f3a"
             ],
             [
              0.8888888888888888,
              "#fdca26"
             ],
             [
              1,
              "#f0f921"
             ]
            ],
            "type": "heatmap"
           }
          ],
          "heatmapgl": [
           {
            "colorbar": {
             "outlinewidth": 0,
             "ticks": ""
            },
            "colorscale": [
             [
              0,
              "#0d0887"
             ],
             [
              0.1111111111111111,
              "#46039f"
             ],
             [
              0.2222222222222222,
              "#7201a8"
             ],
             [
              0.3333333333333333,
              "#9c179e"
             ],
             [
              0.4444444444444444,
              "#bd3786"
             ],
             [
              0.5555555555555556,
              "#d8576b"
             ],
             [
              0.6666666666666666,
              "#ed7953"
             ],
             [
              0.7777777777777778,
              "#fb9f3a"
             ],
             [
              0.8888888888888888,
              "#fdca26"
             ],
             [
              1,
              "#f0f921"
             ]
            ],
            "type": "heatmapgl"
           }
          ],
          "histogram": [
           {
            "marker": {
             "colorbar": {
              "outlinewidth": 0,
              "ticks": ""
             }
            },
            "type": "histogram"
           }
          ],
          "histogram2d": [
           {
            "colorbar": {
             "outlinewidth": 0,
             "ticks": ""
            },
            "colorscale": [
             [
              0,
              "#0d0887"
             ],
             [
              0.1111111111111111,
              "#46039f"
             ],
             [
              0.2222222222222222,
              "#7201a8"
             ],
             [
              0.3333333333333333,
              "#9c179e"
             ],
             [
              0.4444444444444444,
              "#bd3786"
             ],
             [
              0.5555555555555556,
              "#d8576b"
             ],
             [
              0.6666666666666666,
              "#ed7953"
             ],
             [
              0.7777777777777778,
              "#fb9f3a"
             ],
             [
              0.8888888888888888,
              "#fdca26"
             ],
             [
              1,
              "#f0f921"
             ]
            ],
            "type": "histogram2d"
           }
          ],
          "histogram2dcontour": [
           {
            "colorbar": {
             "outlinewidth": 0,
             "ticks": ""
            },
            "colorscale": [
             [
              0,
              "#0d0887"
             ],
             [
              0.1111111111111111,
              "#46039f"
             ],
             [
              0.2222222222222222,
              "#7201a8"
             ],
             [
              0.3333333333333333,
              "#9c179e"
             ],
             [
              0.4444444444444444,
              "#bd3786"
             ],
             [
              0.5555555555555556,
              "#d8576b"
             ],
             [
              0.6666666666666666,
              "#ed7953"
             ],
             [
              0.7777777777777778,
              "#fb9f3a"
             ],
             [
              0.8888888888888888,
              "#fdca26"
             ],
             [
              1,
              "#f0f921"
             ]
            ],
            "type": "histogram2dcontour"
           }
          ],
          "mesh3d": [
           {
            "colorbar": {
             "outlinewidth": 0,
             "ticks": ""
            },
            "type": "mesh3d"
           }
          ],
          "parcoords": [
           {
            "line": {
             "colorbar": {
              "outlinewidth": 0,
              "ticks": ""
             }
            },
            "type": "parcoords"
           }
          ],
          "scatter": [
           {
            "marker": {
             "colorbar": {
              "outlinewidth": 0,
              "ticks": ""
             }
            },
            "type": "scatter"
           }
          ],
          "scatter3d": [
           {
            "line": {
             "colorbar": {
              "outlinewidth": 0,
              "ticks": ""
             }
            },
            "marker": {
             "colorbar": {
              "outlinewidth": 0,
              "ticks": ""
             }
            },
            "type": "scatter3d"
           }
          ],
          "scattercarpet": [
           {
            "marker": {
             "colorbar": {
              "outlinewidth": 0,
              "ticks": ""
             }
            },
            "type": "scattercarpet"
           }
          ],
          "scattergeo": [
           {
            "marker": {
             "colorbar": {
              "outlinewidth": 0,
              "ticks": ""
             }
            },
            "type": "scattergeo"
           }
          ],
          "scattergl": [
           {
            "marker": {
             "colorbar": {
              "outlinewidth": 0,
              "ticks": ""
             }
            },
            "type": "scattergl"
           }
          ],
          "scattermapbox": [
           {
            "marker": {
             "colorbar": {
              "outlinewidth": 0,
              "ticks": ""
             }
            },
            "type": "scattermapbox"
           }
          ],
          "scatterpolar": [
           {
            "marker": {
             "colorbar": {
              "outlinewidth": 0,
              "ticks": ""
             }
            },
            "type": "scatterpolar"
           }
          ],
          "scatterpolargl": [
           {
            "marker": {
             "colorbar": {
              "outlinewidth": 0,
              "ticks": ""
             }
            },
            "type": "scatterpolargl"
           }
          ],
          "scatterternary": [
           {
            "marker": {
             "colorbar": {
              "outlinewidth": 0,
              "ticks": ""
             }
            },
            "type": "scatterternary"
           }
          ],
          "surface": [
           {
            "colorbar": {
             "outlinewidth": 0,
             "ticks": ""
            },
            "colorscale": [
             [
              0,
              "#0d0887"
             ],
             [
              0.1111111111111111,
              "#46039f"
             ],
             [
              0.2222222222222222,
              "#7201a8"
             ],
             [
              0.3333333333333333,
              "#9c179e"
             ],
             [
              0.4444444444444444,
              "#bd3786"
             ],
             [
              0.5555555555555556,
              "#d8576b"
             ],
             [
              0.6666666666666666,
              "#ed7953"
             ],
             [
              0.7777777777777778,
              "#fb9f3a"
             ],
             [
              0.8888888888888888,
              "#fdca26"
             ],
             [
              1,
              "#f0f921"
             ]
            ],
            "type": "surface"
           }
          ],
          "table": [
           {
            "cells": {
             "fill": {
              "color": "#EBF0F8"
             },
             "line": {
              "color": "white"
             }
            },
            "header": {
             "fill": {
              "color": "#C8D4E3"
             },
             "line": {
              "color": "white"
             }
            },
            "type": "table"
           }
          ]
         },
         "layout": {
          "annotationdefaults": {
           "arrowcolor": "#2a3f5f",
           "arrowhead": 0,
           "arrowwidth": 1
          },
          "colorscale": {
           "diverging": [
            [
             0,
             "#8e0152"
            ],
            [
             0.1,
             "#c51b7d"
            ],
            [
             0.2,
             "#de77ae"
            ],
            [
             0.3,
             "#f1b6da"
            ],
            [
             0.4,
             "#fde0ef"
            ],
            [
             0.5,
             "#f7f7f7"
            ],
            [
             0.6,
             "#e6f5d0"
            ],
            [
             0.7,
             "#b8e186"
            ],
            [
             0.8,
             "#7fbc41"
            ],
            [
             0.9,
             "#4d9221"
            ],
            [
             1,
             "#276419"
            ]
           ],
           "sequential": [
            [
             0,
             "#0d0887"
            ],
            [
             0.1111111111111111,
             "#46039f"
            ],
            [
             0.2222222222222222,
             "#7201a8"
            ],
            [
             0.3333333333333333,
             "#9c179e"
            ],
            [
             0.4444444444444444,
             "#bd3786"
            ],
            [
             0.5555555555555556,
             "#d8576b"
            ],
            [
             0.6666666666666666,
             "#ed7953"
            ],
            [
             0.7777777777777778,
             "#fb9f3a"
            ],
            [
             0.8888888888888888,
             "#fdca26"
            ],
            [
             1,
             "#f0f921"
            ]
           ],
           "sequentialminus": [
            [
             0,
             "#0d0887"
            ],
            [
             0.1111111111111111,
             "#46039f"
            ],
            [
             0.2222222222222222,
             "#7201a8"
            ],
            [
             0.3333333333333333,
             "#9c179e"
            ],
            [
             0.4444444444444444,
             "#bd3786"
            ],
            [
             0.5555555555555556,
             "#d8576b"
            ],
            [
             0.6666666666666666,
             "#ed7953"
            ],
            [
             0.7777777777777778,
             "#fb9f3a"
            ],
            [
             0.8888888888888888,
             "#fdca26"
            ],
            [
             1,
             "#f0f921"
            ]
           ]
          },
          "colorway": [
           "#636efa",
           "#EF553B",
           "#00cc96",
           "#ab63fa",
           "#FFA15A",
           "#19d3f3",
           "#FF6692",
           "#B6E880",
           "#FF97FF",
           "#FECB52"
          ],
          "font": {
           "color": "#2a3f5f"
          },
          "geo": {
           "bgcolor": "white",
           "lakecolor": "white",
           "landcolor": "#E5ECF6",
           "showlakes": true,
           "showland": true,
           "subunitcolor": "white"
          },
          "hoverlabel": {
           "align": "left"
          },
          "hovermode": "closest",
          "mapbox": {
           "style": "light"
          },
          "paper_bgcolor": "white",
          "plot_bgcolor": "#E5ECF6",
          "polar": {
           "angularaxis": {
            "gridcolor": "white",
            "linecolor": "white",
            "ticks": ""
           },
           "bgcolor": "#E5ECF6",
           "radialaxis": {
            "gridcolor": "white",
            "linecolor": "white",
            "ticks": ""
           }
          },
          "scene": {
           "xaxis": {
            "backgroundcolor": "#E5ECF6",
            "gridcolor": "white",
            "gridwidth": 2,
            "linecolor": "white",
            "showbackground": true,
            "ticks": "",
            "zerolinecolor": "white"
           },
           "yaxis": {
            "backgroundcolor": "#E5ECF6",
            "gridcolor": "white",
            "gridwidth": 2,
            "linecolor": "white",
            "showbackground": true,
            "ticks": "",
            "zerolinecolor": "white"
           },
           "zaxis": {
            "backgroundcolor": "#E5ECF6",
            "gridcolor": "white",
            "gridwidth": 2,
            "linecolor": "white",
            "showbackground": true,
            "ticks": "",
            "zerolinecolor": "white"
           }
          },
          "shapedefaults": {
           "line": {
            "color": "#2a3f5f"
           }
          },
          "ternary": {
           "aaxis": {
            "gridcolor": "white",
            "linecolor": "white",
            "ticks": ""
           },
           "baxis": {
            "gridcolor": "white",
            "linecolor": "white",
            "ticks": ""
           },
           "bgcolor": "#E5ECF6",
           "caxis": {
            "gridcolor": "white",
            "linecolor": "white",
            "ticks": ""
           }
          },
          "title": {
           "x": 0.05
          },
          "xaxis": {
           "automargin": true,
           "gridcolor": "white",
           "linecolor": "white",
           "ticks": "",
           "zerolinecolor": "white",
           "zerolinewidth": 2
          },
          "yaxis": {
           "automargin": true,
           "gridcolor": "white",
           "linecolor": "white",
           "ticks": "",
           "zerolinecolor": "white",
           "zerolinewidth": 2
          }
         }
        }
       }
      },
      "text/html": [
       "<div>\n",
       "        \n",
       "        \n",
       "            <div id=\"4527cc02-a106-4360-974d-b57be07a9ba7\" class=\"plotly-graph-div\" style=\"height:525px; width:100%;\"></div>\n",
       "            <script type=\"text/javascript\">\n",
       "                require([\"plotly\"], function(Plotly) {\n",
       "                    window.PLOTLYENV=window.PLOTLYENV || {};\n",
       "                    \n",
       "                if (document.getElementById(\"4527cc02-a106-4360-974d-b57be07a9ba7\")) {\n",
       "                    Plotly.newPlot(\n",
       "                        '4527cc02-a106-4360-974d-b57be07a9ba7',\n",
       "                        [{\"opacity\": 0.9, \"type\": \"mesh3d\", \"x\": [-73.00956204940103, -44.904718427156986, 97.87681124960254, -52.09980893898894, 18.712354053317895, 150.95537756795193, -45.60940170411727, -9.882129323343765, -42.38130262549894, 124.88596041167209, 67.12045011344176, 17.096227665734084, -6.078836008099546, 2.958079551613749, 131.12411215503022, -40.36467132388355, -93.36483100670267, 12.076699264663912, 1.157738277272575, -23.803635611083664, 16.91580147249614, 11.958717512162337, 83.35035242956832, 20.116391659130688, 5.961628770051463, 33.84743380982514, 119.42850694159594, 58.26829984292304, 91.1536767889231, 23.178195309497816, 76.74023108817177, -3.4385746550251737, 5.675471888519786, -9.415431376931876, 52.15417214564737, 21.52536368243633, 3.373661081296082, 78.1787256417922, 65.48021331459387, 6.763796714164975, 60.714994647042055, 105.680094179574, -86.24819361182351, 72.88174963657012, 9.094116983077692, -115.86226994288923, 90.53826498880188, -22.754282261825097, -83.94915979482444, -74.15524775532775, -11.150853034270547, 66.83323040141069, -12.472908956586723, -42.96440825851569, 63.43221387507911, -8.706143916930305, 59.4860961405578, -18.42326382768884, -5.570064173148241, 26.411847269210092, 17.686424131431874, 36.14005100687255, 12.855318412553371, 61.577001580622806, 63.90616775026725, 30.434772844317315, -8.892947105044312, 68.78137936179895, -65.25257961541314, 77.62225361108737], \"y\": [-1.4194442262829345, -19.648577373927107, -91.13495433550189, -60.01912254215594, -9.051723516337077, -76.98369854125006, -49.831828957731396, -27.0652677492182, 40.24906077037835, 74.9256758230816, 63.12305640145857, 42.36408057191717, 4.741492938102655, 31.740508615901224, 12.208119493417495, -88.25874004124555, -75.20063665500926, -4.8728877846731224, -110.87166711819889, -35.87883932632349, -1.4632783474595747, -20.109946300144514, 40.25788600274357, 33.51769886880986, -54.57638714657876, 22.58872692953194, 52.99322089248021, 35.87053418465242, -127.74788559822429, 42.03048070894313, 111.88779978763561, 60.43839359070953, -57.84010396324938, -62.50399040724509, 8.471137077557163, 35.748097782916396, 59.576523053335386, 29.122128759552453, -27.059224390343843, 65.34509963897798, 32.56968282880557, -66.29647653204822, -23.066487807128002, 1.2798465045111018, 58.793650718270214, -43.59557284303189, 57.37301059959261, -6.164492694243515, 19.868856950825467, -52.85312241166836, 66.1952912285137, -86.23461475247281, 30.631030223229423, -33.912304033100675, -10.19673919757296, -37.58933271011998, 24.02138755330384, -72.17190498699304, -91.05524312237364, -49.23278936535064, 2.4133354652122914, -15.304497792438827, -73.92743687959272, -85.74632571757932, 38.38315404499967, 41.619993937691376, 11.173296998552676, 24.822178600489977, 21.905120966981958, 28.252202883595682], \"z\": [2.4429502223489687, 9.464847932913155, 15.352516275706463, 77.15975170935796, 8.4914591233895, -38.6390960651609, -33.66662476072535, 5.4027133746922305, 23.33517196117347, -69.74357330364433, 13.411122200541193, -40.66913070133657, -46.67902121047976, -20.71302422711577, 21.28596647363366, 54.041785351567, 28.37411624713448, 71.04177695992549, 20.176131377723216, -17.747928983767434, -23.5394112403811, 5.138445863117016, -46.6880161712634, 5.038314264786093, -11.392132965735144, 35.347271098783, -21.724984261366043, -0.4470685007726915, -19.36895941102636, -29.220986044535767, -41.81075330516507, 75.98172337606935, -70.97653998552514, 3.9175028197495005, -11.683626134812496, -4.8429010222436215, 48.8725253700639, -44.034709432138214, 16.773496386028288, -12.05675342477672, 22.692599164644708, -21.304367024499413, -4.299635071639429, -14.28950388972755, -50.0444494937896, -34.41910969628558, -35.41923819932882, -29.001615309846215, -59.6107618781079, -60.30025224865174, -16.32756867809333, 34.784426453044674, -33.187558417212195, -87.40161663813149, -39.128738713718754, 37.41831736676703, 6.506038457226833, -0.10580325062050157, -58.0928063198368, 25.16815435739277, 16.489888630008632, -13.289270921103146, -33.262068922303534, 50.28571743491901, 24.998268111344043, -29.515361597190868, 96.94865649564072, 27.05495106556695, -14.439570567818418, -17.156248755123766]}],\n",
       "                        {\"template\": {\"data\": {\"bar\": [{\"error_x\": {\"color\": \"#2a3f5f\"}, \"error_y\": {\"color\": \"#2a3f5f\"}, \"marker\": {\"line\": {\"color\": \"#E5ECF6\", \"width\": 0.5}}, \"type\": \"bar\"}], \"barpolar\": [{\"marker\": {\"line\": {\"color\": \"#E5ECF6\", \"width\": 0.5}}, \"type\": \"barpolar\"}], \"carpet\": [{\"aaxis\": {\"endlinecolor\": \"#2a3f5f\", \"gridcolor\": \"white\", \"linecolor\": \"white\", \"minorgridcolor\": \"white\", \"startlinecolor\": \"#2a3f5f\"}, \"baxis\": {\"endlinecolor\": \"#2a3f5f\", \"gridcolor\": \"white\", \"linecolor\": \"white\", \"minorgridcolor\": \"white\", \"startlinecolor\": \"#2a3f5f\"}, \"type\": \"carpet\"}], \"choropleth\": [{\"colorbar\": {\"outlinewidth\": 0, \"ticks\": \"\"}, \"type\": \"choropleth\"}], \"contour\": [{\"colorbar\": {\"outlinewidth\": 0, \"ticks\": \"\"}, \"colorscale\": [[0.0, \"#0d0887\"], [0.1111111111111111, \"#46039f\"], [0.2222222222222222, \"#7201a8\"], [0.3333333333333333, \"#9c179e\"], [0.4444444444444444, \"#bd3786\"], [0.5555555555555556, \"#d8576b\"], [0.6666666666666666, \"#ed7953\"], [0.7777777777777778, \"#fb9f3a\"], [0.8888888888888888, \"#fdca26\"], [1.0, \"#f0f921\"]], \"type\": \"contour\"}], \"contourcarpet\": [{\"colorbar\": {\"outlinewidth\": 0, \"ticks\": \"\"}, \"type\": \"contourcarpet\"}], \"heatmap\": [{\"colorbar\": {\"outlinewidth\": 0, \"ticks\": \"\"}, \"colorscale\": [[0.0, \"#0d0887\"], [0.1111111111111111, \"#46039f\"], [0.2222222222222222, \"#7201a8\"], [0.3333333333333333, \"#9c179e\"], [0.4444444444444444, \"#bd3786\"], [0.5555555555555556, \"#d8576b\"], [0.6666666666666666, \"#ed7953\"], [0.7777777777777778, \"#fb9f3a\"], [0.8888888888888888, \"#fdca26\"], [1.0, \"#f0f921\"]], \"type\": \"heatmap\"}], \"heatmapgl\": [{\"colorbar\": {\"outlinewidth\": 0, \"ticks\": \"\"}, \"colorscale\": [[0.0, \"#0d0887\"], [0.1111111111111111, \"#46039f\"], [0.2222222222222222, \"#7201a8\"], [0.3333333333333333, \"#9c179e\"], [0.4444444444444444, \"#bd3786\"], [0.5555555555555556, \"#d8576b\"], [0.6666666666666666, \"#ed7953\"], [0.7777777777777778, \"#fb9f3a\"], [0.8888888888888888, \"#fdca26\"], [1.0, \"#f0f921\"]], \"type\": \"heatmapgl\"}], \"histogram\": [{\"marker\": {\"colorbar\": {\"outlinewidth\": 0, \"ticks\": \"\"}}, \"type\": \"histogram\"}], \"histogram2d\": [{\"colorbar\": {\"outlinewidth\": 0, \"ticks\": \"\"}, \"colorscale\": [[0.0, \"#0d0887\"], [0.1111111111111111, \"#46039f\"], [0.2222222222222222, \"#7201a8\"], [0.3333333333333333, \"#9c179e\"], [0.4444444444444444, \"#bd3786\"], [0.5555555555555556, \"#d8576b\"], [0.6666666666666666, \"#ed7953\"], [0.7777777777777778, \"#fb9f3a\"], [0.8888888888888888, \"#fdca26\"], [1.0, \"#f0f921\"]], \"type\": \"histogram2d\"}], \"histogram2dcontour\": [{\"colorbar\": {\"outlinewidth\": 0, \"ticks\": \"\"}, \"colorscale\": [[0.0, \"#0d0887\"], [0.1111111111111111, \"#46039f\"], [0.2222222222222222, \"#7201a8\"], [0.3333333333333333, \"#9c179e\"], [0.4444444444444444, \"#bd3786\"], [0.5555555555555556, \"#d8576b\"], [0.6666666666666666, \"#ed7953\"], [0.7777777777777778, \"#fb9f3a\"], [0.8888888888888888, \"#fdca26\"], [1.0, \"#f0f921\"]], \"type\": \"histogram2dcontour\"}], \"mesh3d\": [{\"colorbar\": {\"outlinewidth\": 0, \"ticks\": \"\"}, \"type\": \"mesh3d\"}], \"parcoords\": [{\"line\": {\"colorbar\": {\"outlinewidth\": 0, \"ticks\": \"\"}}, \"type\": \"parcoords\"}], \"scatter\": [{\"marker\": {\"colorbar\": {\"outlinewidth\": 0, \"ticks\": \"\"}}, \"type\": \"scatter\"}], \"scatter3d\": [{\"line\": {\"colorbar\": {\"outlinewidth\": 0, \"ticks\": \"\"}}, \"marker\": {\"colorbar\": {\"outlinewidth\": 0, \"ticks\": \"\"}}, \"type\": \"scatter3d\"}], \"scattercarpet\": [{\"marker\": {\"colorbar\": {\"outlinewidth\": 0, \"ticks\": \"\"}}, \"type\": \"scattercarpet\"}], \"scattergeo\": [{\"marker\": {\"colorbar\": {\"outlinewidth\": 0, \"ticks\": \"\"}}, \"type\": \"scattergeo\"}], \"scattergl\": [{\"marker\": {\"colorbar\": {\"outlinewidth\": 0, \"ticks\": \"\"}}, \"type\": \"scattergl\"}], \"scattermapbox\": [{\"marker\": {\"colorbar\": {\"outlinewidth\": 0, \"ticks\": \"\"}}, \"type\": \"scattermapbox\"}], \"scatterpolar\": [{\"marker\": {\"colorbar\": {\"outlinewidth\": 0, \"ticks\": \"\"}}, \"type\": \"scatterpolar\"}], \"scatterpolargl\": [{\"marker\": {\"colorbar\": {\"outlinewidth\": 0, \"ticks\": \"\"}}, \"type\": \"scatterpolargl\"}], \"scatterternary\": [{\"marker\": {\"colorbar\": {\"outlinewidth\": 0, \"ticks\": \"\"}}, \"type\": \"scatterternary\"}], \"surface\": [{\"colorbar\": {\"outlinewidth\": 0, \"ticks\": \"\"}, \"colorscale\": [[0.0, \"#0d0887\"], [0.1111111111111111, \"#46039f\"], [0.2222222222222222, \"#7201a8\"], [0.3333333333333333, \"#9c179e\"], [0.4444444444444444, \"#bd3786\"], [0.5555555555555556, \"#d8576b\"], [0.6666666666666666, \"#ed7953\"], [0.7777777777777778, \"#fb9f3a\"], [0.8888888888888888, \"#fdca26\"], [1.0, \"#f0f921\"]], \"type\": \"surface\"}], \"table\": [{\"cells\": {\"fill\": {\"color\": \"#EBF0F8\"}, \"line\": {\"color\": \"white\"}}, \"header\": {\"fill\": {\"color\": \"#C8D4E3\"}, \"line\": {\"color\": \"white\"}}, \"type\": \"table\"}]}, \"layout\": {\"annotationdefaults\": {\"arrowcolor\": \"#2a3f5f\", \"arrowhead\": 0, \"arrowwidth\": 1}, \"colorscale\": {\"diverging\": [[0, \"#8e0152\"], [0.1, \"#c51b7d\"], [0.2, \"#de77ae\"], [0.3, \"#f1b6da\"], [0.4, \"#fde0ef\"], [0.5, \"#f7f7f7\"], [0.6, \"#e6f5d0\"], [0.7, \"#b8e186\"], [0.8, \"#7fbc41\"], [0.9, \"#4d9221\"], [1, \"#276419\"]], \"sequential\": [[0.0, \"#0d0887\"], [0.1111111111111111, \"#46039f\"], [0.2222222222222222, \"#7201a8\"], [0.3333333333333333, \"#9c179e\"], [0.4444444444444444, \"#bd3786\"], [0.5555555555555556, \"#d8576b\"], [0.6666666666666666, \"#ed7953\"], [0.7777777777777778, \"#fb9f3a\"], [0.8888888888888888, \"#fdca26\"], [1.0, \"#f0f921\"]], \"sequentialminus\": [[0.0, \"#0d0887\"], [0.1111111111111111, \"#46039f\"], [0.2222222222222222, \"#7201a8\"], [0.3333333333333333, \"#9c179e\"], [0.4444444444444444, \"#bd3786\"], [0.5555555555555556, \"#d8576b\"], [0.6666666666666666, \"#ed7953\"], [0.7777777777777778, \"#fb9f3a\"], [0.8888888888888888, \"#fdca26\"], [1.0, \"#f0f921\"]]}, \"colorway\": [\"#636efa\", \"#EF553B\", \"#00cc96\", \"#ab63fa\", \"#FFA15A\", \"#19d3f3\", \"#FF6692\", \"#B6E880\", \"#FF97FF\", \"#FECB52\"], \"font\": {\"color\": \"#2a3f5f\"}, \"geo\": {\"bgcolor\": \"white\", \"lakecolor\": \"white\", \"landcolor\": \"#E5ECF6\", \"showlakes\": true, \"showland\": true, \"subunitcolor\": \"white\"}, \"hoverlabel\": {\"align\": \"left\"}, \"hovermode\": \"closest\", \"mapbox\": {\"style\": \"light\"}, \"paper_bgcolor\": \"white\", \"plot_bgcolor\": \"#E5ECF6\", \"polar\": {\"angularaxis\": {\"gridcolor\": \"white\", \"linecolor\": \"white\", \"ticks\": \"\"}, \"bgcolor\": \"#E5ECF6\", \"radialaxis\": {\"gridcolor\": \"white\", \"linecolor\": \"white\", \"ticks\": \"\"}}, \"scene\": {\"xaxis\": {\"backgroundcolor\": \"#E5ECF6\", \"gridcolor\": \"white\", \"gridwidth\": 2, \"linecolor\": \"white\", \"showbackground\": true, \"ticks\": \"\", \"zerolinecolor\": \"white\"}, \"yaxis\": {\"backgroundcolor\": \"#E5ECF6\", \"gridcolor\": \"white\", \"gridwidth\": 2, \"linecolor\": \"white\", \"showbackground\": true, \"ticks\": \"\", \"zerolinecolor\": \"white\"}, \"zaxis\": {\"backgroundcolor\": \"#E5ECF6\", \"gridcolor\": \"white\", \"gridwidth\": 2, \"linecolor\": \"white\", \"showbackground\": true, \"ticks\": \"\", \"zerolinecolor\": \"white\"}}, \"shapedefaults\": {\"line\": {\"color\": \"#2a3f5f\"}}, \"ternary\": {\"aaxis\": {\"gridcolor\": \"white\", \"linecolor\": \"white\", \"ticks\": \"\"}, \"baxis\": {\"gridcolor\": \"white\", \"linecolor\": \"white\", \"ticks\": \"\"}, \"bgcolor\": \"#E5ECF6\", \"caxis\": {\"gridcolor\": \"white\", \"linecolor\": \"white\", \"ticks\": \"\"}}, \"title\": {\"x\": 0.05}, \"xaxis\": {\"automargin\": true, \"gridcolor\": \"white\", \"linecolor\": \"white\", \"ticks\": \"\", \"zerolinecolor\": \"white\", \"zerolinewidth\": 2}, \"yaxis\": {\"automargin\": true, \"gridcolor\": \"white\", \"linecolor\": \"white\", \"ticks\": \"\", \"zerolinecolor\": \"white\", \"zerolinewidth\": 2}}}},\n",
       "                        {\"responsive\": true}\n",
       "                    ).then(function(){\n",
       "                            \n",
       "var gd = document.getElementById('4527cc02-a106-4360-974d-b57be07a9ba7');\n",
       "var x = new MutationObserver(function (mutations, observer) {{\n",
       "        var display = window.getComputedStyle(gd).display;\n",
       "        if (!display || display === 'none') {{\n",
       "            console.log([gd, 'removed!']);\n",
       "            Plotly.purge(gd);\n",
       "            observer.disconnect();\n",
       "        }}\n",
       "}});\n",
       "\n",
       "// Listen for the removal of the full notebook cells\n",
       "var notebookContainer = gd.closest('#notebook-container');\n",
       "if (notebookContainer) {{\n",
       "    x.observe(notebookContainer, {childList: true});\n",
       "}}\n",
       "\n",
       "// Listen for the clearing of the current output cell\n",
       "var outputEl = gd.closest('.output');\n",
       "if (outputEl) {{\n",
       "    x.observe(outputEl, {childList: true});\n",
       "}}\n",
       "\n",
       "                        })\n",
       "                };\n",
       "                });\n",
       "            </script>\n",
       "        </div>"
      ]
     },
     "metadata": {},
     "output_type": "display_data"
    }
   ],
   "source": [
    "# fig.update_layout(scene = dict(\n",
    "#         xaxis = dict(nticks=4, range=[-100,100],),\n",
    "#                      yaxis = dict(nticks=4, range=[-50,100],),\n",
    "#                      zaxis = dict(nticks=4, range=[-100,100],),),\n",
    "#                      width=700,\n",
    "#                      margin=dict(r=20, l=10, b=10, t=10))\n",
    "\n",
    "fig.show()"
   ]
  },
  {
   "cell_type": "code",
   "execution_count": null,
   "metadata": {},
   "outputs": [],
   "source": []
  }
 ],
 "metadata": {
  "kernelspec": {
   "display_name": "Python 3",
   "language": "python",
   "name": "python3"
  },
  "language_info": {
   "codemirror_mode": {
    "name": "ipython",
    "version": 3
   },
   "file_extension": ".py",
   "mimetype": "text/x-python",
   "name": "python",
   "nbconvert_exporter": "python",
   "pygments_lexer": "ipython3",
   "version": "3.7.4"
  }
 },
 "nbformat": 4,
 "nbformat_minor": 2
}
