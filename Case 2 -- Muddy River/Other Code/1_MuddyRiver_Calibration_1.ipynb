{
 "cells": [
  {
   "cell_type": "code",
   "execution_count": 3,
   "metadata": {},
   "outputs": [],
   "source": [
    "import numpy as np\n",
    "import scipy \n",
    "from scipy import stats\n",
    "from scipy.stats import norm,uniform\n",
    "import matplotlib.pyplot as plt\n",
    "import pdb"
   ]
  },
  {
   "cell_type": "code",
   "execution_count": 4,
   "metadata": {},
   "outputs": [],
   "source": [
    "Power = np.array([36.63, 38.26, 39.39, 40.56, 43.23, 56.54, 72.70, 84.19, 76.06, 61.32, 50.75, 46.90])\n",
    "Gas = np.array([2.905, 2.81, 2.76, 2.73, 3.20, 3.88, 4.45, 4.8, 4.56, 4.13, 3.68, 3.49])\n",
    "PowerTheta = np.array([38.29018572, 37.65306039, 38.00855419, 38.73256273, 39.36926748,\n",
    "       39.86405353, 40.22086124, 40.44589774, 40.54870484, 40.55045989,\n",
    "       40.70095953, 41.46173063, 43.25248543, 45.98926726, 49.29566467,\n",
    "       52.83556305, 56.52346982, 60.36269157, 64.3524202 , 68.47769359,\n",
    "       72.71945054, 76.89905869, 80.51516399, 83.03401433, 84.15904199,\n",
    "       83.89240735, 82.26844207, 79.52729184, 76.07251473, 72.2958952 ,\n",
    "       68.45430718, 64.73791746, 61.30609504, 58.17345317, 55.31154583,\n",
    "       52.7660452 , 50.79182992, 49.67498941, 49.26046062, 48.6334227 ,\n",
    "       46.83642493, 43.77355919, 40.27918283, 37.20522713, 35.04525891,\n",
    "       34.04924416, 34.40661727, 35.92368012])\n",
    "GasTheta = np.array([2.81145084, 2.76304781, 2.75516369, 2.76012114, 2.75811   ,\n",
    "       2.74807589, 2.73185041, 2.71914404, 2.7312581 , 2.78949875,\n",
    "       2.89661167, 3.03815321, 3.1995049 , 3.37083627, 3.54509695,\n",
    "       3.71581731, 3.87964756, 4.03434353, 4.17888279, 4.31633758,\n",
    "       4.45059611, 4.57966876, 4.68967835, 4.76550224, 4.79886395,\n",
    "       4.79010961, 4.74061195, 4.65922203, 4.56072849, 4.45868332,\n",
    "       4.35503145, 4.24597864, 4.12896081, 4.00748103, 3.88685281,\n",
    "       3.77417548, 3.68158763, 3.6219074 , 3.59146408, 3.55818958,\n",
    "       3.4882443 , 3.37526588, 3.24256103, 3.11387685, 3.0000309 ,\n",
    "       2.9030518 , 2.82676425, 2.78845998])"
   ]
  },
  {
   "cell_type": "code",
   "execution_count": 5,
   "metadata": {
    "scrolled": true
   },
   "outputs": [
    {
     "data": {
      "text/plain": [
       "(12,)"
      ]
     },
     "execution_count": 5,
     "metadata": {},
     "output_type": "execute_result"
    }
   ],
   "source": [
    "PowerTheta.shape\n",
    "Power.shape"
   ]
  },
  {
   "cell_type": "code",
   "execution_count": 6,
   "metadata": {
    "scrolled": false
   },
   "outputs": [
    {
     "name": "stdout",
     "output_type": "stream",
     "text": [
      "Power Price Fit:  [35.79215575878403, 37.485770716669755, 39.03959350074171, 40.48171317969971, 46.458177274891334, 62.002727856161066, 73.09798867405098, 75.02090467836038, 70.7747117615879, 63.59020925634578, 60.11922507527186, 48.04316644651519] \n",
      "\n",
      "CC Price Fit:  [35.79215575878403, 37.485770716669755, 39.03959350074171, 40.48171317969971, 46.458177274891334, 61.99559655325027, 73.09633722166971, 75.0206975233997, 70.77468654526464, 63.59020754721095, 56.09969360263553, 47.95697804036343] \n",
      "\n",
      "JC_Price_Fit:  [0.0, 0.0, 25.520833333333343, 2.9550309043852896, 0.34215997306274476, 0.03961834950441989, 0.004587367725699854, 0.0005311665658470942, 6.150322745943646e-05, 7.12139511622815e-06, 14.887153602356754, 1.7237681230352317] \n",
      "\n",
      "real Power Price:  [36.63 38.26 39.39 40.56 43.23 56.54 72.7  84.19 76.06 61.32 50.75 46.9 ] \n",
      "\n",
      "Gas_Price_Fit:  [3.0036447322987567, 2.9653610059058457, 2.918128357913426, 2.9135882751578777, 3.1006925003707924, 3.4096395688439416, 3.731476063929805, 3.949916198195745, 4.0432546199755794, 3.9751371752501434, 3.9193007120780807, 3.725224769972314] \n",
      "\n",
      "Gas Prices:  [2.905 2.81  2.76  2.73  3.2   3.88  4.45  4.8   4.56  4.13  3.68  3.49 ] \n",
      "\n"
     ]
    },
    {
     "data": {
      "text/plain": [
       "(38.36664498739274, 3.8801317267602937)"
      ]
     },
     "execution_count": 6,
     "metadata": {},
     "output_type": "execute_result"
    },
    {
     "data": {
      "image/png": "[encoded data removed]",
      "text/plain": [
       "<Figure size 432x288 with 1 Axes>"
      ]
     },
     "metadata": {},
     "output_type": "display_data"
    }
   ],
   "source": [
    "def meanReversion(random_seed , \n",
    "                  PowerPrices,\n",
    "                  GasPrices,\n",
    "                  PowerTheta,\n",
    "                  GasTheta,\n",
    "                  rho = 0.3,\n",
    "                  T = 1):\n",
    "    \n",
    "    \n",
    "    # N: number of intervals\n",
    "    # n: number of paths\n",
    "    # T: maturity\n",
    "    # dt: interval of each path\n",
    "    \n",
    "    n = 100\n",
    "    #np.random.seed(random_seed)\n",
    "    dt = 1/48 \n",
    "    N = int(np.floor(T/dt))\n",
    "    \n",
    "    #params\n",
    "    alphaCC = 7\n",
    "    alphaJC = 20\n",
    "    alphaG = 3\n",
    "    m = 75\n",
    "    p = 0.083# lambda*dt, weekly probability\n",
    "    CC0 = 35\n",
    "    JC0 = 0 \n",
    "    G0 = 3\n",
    "    spike_thres = 75\n",
    "    sigmaG = 7.22/np.sqrt(dt)/100\n",
    "    \n",
    "    #V summer and winter\n",
    "    v_summer = 28.87/np.sqrt(dt)/100\n",
    "    v_winter = 10.83/np.sqrt(dt)/100\n",
    "    V = np.zeros((N+1,n))\n",
    "    \n",
    "    #\n",
    "    W = norm.rvs(size = (N+1,n))*np.sqrt(dt)\n",
    "    Wtilde = norm.rvs(size = (N+1,n))*np.sqrt(dt)\n",
    "    B = rho*W + np.sqrt(1-rho**2)*Wtilde\n",
    "    \n",
    "    #\n",
    "    CC = np.zeros((N+1,n)) \n",
    "    CC[0,:] = CC0\n",
    "    \n",
    "    JC = np.zeros((N+1,n))\n",
    "    JC[0,:] = JC0\n",
    "    \n",
    "    G = np.zeros((N+1,n)) \n",
    "    G[0,:] = G0\n",
    "    \n",
    "    PC = np.zeros((N+1,n))\n",
    "    PC[0,:] = CC[0,:]\n",
    "    # \n",
    "    Power_MSE = 0\n",
    "    Gas_MSE = 0\n",
    "    #\n",
    "    Power_Price_Fit = list()\n",
    "    Gas_Price_Fit = list()\n",
    "    CC_Price_Fit = list()\n",
    "    JC_Price_Fit = list()\n",
    "    \n",
    "    \n",
    "    for i in range(1,N+1):\n",
    "        month = np.ceil(i/4)%12 \n",
    "        month = int((month == 0)*12 + (month != 0)*month)\n",
    "        monthIndicator = (month > 4)&(month < 9)\n",
    "        V[i,:] = monthIndicator*v_summer + (1 - monthIndicator)*v_winter\n",
    "        CC[i,:] = alphaCC*(PowerTheta[(i-1)%48] - CC[i-1,:])*dt + V[i,:]*CC[i-1,:]*W[i,:] + CC[i-1,:]\n",
    "        JC[i,:] = alphaJC*( 0 - JC[i-1,:])*dt + m*(uniform.rvs() < p)+JC[i-1,:]\n",
    "        #Power Price\n",
    "        PC[i,:] = CC[i,:] + JC[i,:]*(PC[i-1,:]>spike_thres)\n",
    "        #Gas Price\n",
    "        G[i,:]  = alphaG*(GasTheta[(i-1)%48] - G[i-1,:])*dt + sigmaG*G[i-1,:]*B[i,:]+G[i-1,:]\n",
    "        if (i-1)%4 == 0:\n",
    "            Power_MSE += np.abs(np.mean(PC[i,:]) - PowerPrices[month - 1])\n",
    "            Gas_MSE += np.abs(np.mean(G[i,:]) - GasPrices[month - 1])\n",
    "            Power_Price_Fit.append(np.mean(PC[i,:]))\n",
    "            Gas_Price_Fit.append(np.mean(G[i,:]))\n",
    "            CC_Price_Fit.append(np.mean(CC[i,:]))\n",
    "            JC_Price_Fit.append(np.mean(JC[i,:]))\n",
    "     \n",
    "\n",
    "    \n",
    "    fig = plt.figure()\n",
    "    plt.plot(Power_Price_Fit,label = 'Fit Power Price')\n",
    "    plt.plot(PowerPrices,label = 'real Power Price')\n",
    "    plt.plot(CC_Price_Fit,label = 'CC Price Fit',linestyle = \"dotted\")\n",
    "    plt.plot(JC_Price_Fit,label = 'JC Price Fit',linestyle = \"dotted\")\n",
    "    \n",
    "    plt.legend()\n",
    "    \n",
    "    print('Power Price Fit: ',Power_Price_Fit,'\\n')\n",
    "    print('CC Price Fit: ',CC_Price_Fit,'\\n')\n",
    "    print('JC_Price_Fit: ',JC_Price_Fit,'\\n')\n",
    "    print('real Power Price: ', PowerPrices,'\\n')\n",
    "    print('Gas_Price_Fit: ',Gas_Price_Fit,'\\n')\n",
    "    print('Gas Prices: ',GasPrices,'\\n')\n",
    "    return Power_MSE,Gas_MSE\n",
    "\n",
    "meanReversion(12,Power,Gas,PowerTheta,GasTheta )"
   ]
  },
  {
   "cell_type": "code",
   "execution_count": 80,
   "metadata": {},
   "outputs": [],
   "source": []
  },
  {
   "cell_type": "code",
   "execution_count": 82,
   "metadata": {},
   "outputs": [
    {
     "data": {
      "text/plain": [
       "0"
      ]
     },
     "execution_count": 82,
     "metadata": {},
     "output_type": "execute_result"
    }
   ],
   "source": []
  },
  {
   "cell_type": "code",
   "execution_count": 36,
   "metadata": {},
   "outputs": [
    {
     "name": "stdout",
     "output_type": "stream",
     "text": [
      "200.01722725805396\n",
      "75.03244098388377\n"
     ]
    }
   ],
   "source": [
    "v_summer = 28.87/np.sqrt(dt)\n",
    "v_winter = 10.83/np.sqrt(dt)\n",
    "print(v_summer)\n",
    "print(v_winter)"
   ]
  }
 ],
 "metadata": {
  "kernelspec": {
   "display_name": "Python 3",
   "language": "python",
   "name": "python3"
  },
  "language_info": {
   "codemirror_mode": {
    "name": "ipython",
    "version": 3
   },
   "file_extension": ".py",
   "mimetype": "text/x-python",
   "name": "python",
   "nbconvert_exporter": "python",
   "pygments_lexer": "ipython3",
   "version": "3.7.4"
  }
 },
 "nbformat": 4,
 "nbformat_minor": 2
}
