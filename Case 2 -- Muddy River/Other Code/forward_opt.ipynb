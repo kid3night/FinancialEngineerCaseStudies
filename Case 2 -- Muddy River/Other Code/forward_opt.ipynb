{
 "cells": [
  {
   "cell_type": "code",
   "execution_count": 1,
   "metadata": {},
   "outputs": [],
   "source": [
    "import numpy as np\n",
    "import pandas as pd\n",
    "import matplotlib.pyplot as plt\n",
    "import pdb"
   ]
  },
  {
   "cell_type": "code",
   "execution_count": 2,
   "metadata": {},
   "outputs": [],
   "source": [
    "start_cost = 3 * 1000 * 16 * 7.6\n",
    "r = 0.05\n",
    "\n",
    "def R(ss_t):\n",
    "    return (ss_t - 5) * 1000 * 16 * 7.6\n",
    "\n",
    "def Profit(s0, ss0, ss1, upper, lower):\n",
    "    idx_off = (s0 == 0)\n",
    "    idx_on = (s0 == 1)\n",
    "\n",
    "    turn_on = idx_off * (ss0 > upper)\n",
    "    turn_off = idx_on * (ss0 < lower)\n",
    "\n",
    "    profit = R(ss1)\n",
    "    profit[turn_on] = - start_cost\n",
    "    profit[idx_off & (ss0 <= upper)] = 0\n",
    "\n",
    "    action = idx_off * (ss0 > upper) + idx_on * (ss0 >= lower)\n",
    "\n",
    "    return profit, action #action=s1\n",
    "\n",
    "def valuation(power, gas, upper, lower):#power & gas(10000*97);upper & lower(96)\n",
    "    ss = (power - 12 * gas)\n",
    "    n = ss.shape[0]\n",
    "    N = 2 * 12 * 4 #96\n",
    "    s = np.zeros((n,N+1))\n",
    "    V = 0\n",
    "    for i in range(N): #0-95\n",
    "        profit, s[:, i+1] = Profit(s[:,i], ss[:,i], ss[:,i+1], upper[i], lower[i])\n",
    "        V += profit * np.exp(-r*(i+1)/48)\n",
    "    return np.mean(V)"
   ]
  },
  {
   "cell_type": "code",
   "execution_count": 3,
   "metadata": {},
   "outputs": [],
   "source": [
    "def cali(Power, Gas, ll = -0.4*10**7, uu = 1.2*10**7, d=10**6):\n",
    "    V = []\n",
    "    bound_list = np.array([ll + d * (x+1) for x in range(int((uu -ll)/d))])\n",
    "    combo = [(i,j) for i in bound_list for j in bound_list]\n",
    "    for i in bound_list :\n",
    "        for j in bound_list :\n",
    "            upper = np.ones(96)*i\n",
    "            lower = np.ones(96)*j\n",
    "            V.append(valuation(Power, Gas, upper, lower))\n",
    "    return combo[np.argmax(V)], np.max(V)"
   ]
  },
  {
   "cell_type": "code",
   "execution_count": 4,
   "metadata": {},
   "outputs": [],
   "source": [
    "Gas = pd.read_csv('Gas_Simulation_97.csv', header=None).T.values\n",
    "Power = pd.read_csv('Power_Simulation_97.csv', header=None).T.values"
   ]
  },
  {
   "cell_type": "code",
   "execution_count": 5,
   "metadata": {},
   "outputs": [
    {
     "data": {
      "text/plain": [
       "((0.0, 0.0), 94779084.74884312)"
      ]
     },
     "execution_count": 5,
     "metadata": {},
     "output_type": "execute_result"
    }
   ],
   "source": [
    "cali(Power, Gas)"
   ]
  },
  {
   "cell_type": "code",
   "execution_count": null,
   "metadata": {},
   "outputs": [],
   "source": []
  }
 ],
 "metadata": {
  "kernelspec": {
   "display_name": "Python 3",
   "language": "python",
   "name": "python3"
  },
  "language_info": {
   "codemirror_mode": {
    "name": "ipython",
    "version": 3
   },
   "file_extension": ".py",
   "mimetype": "text/x-python",
   "name": "python",
   "nbconvert_exporter": "python",
   "pygments_lexer": "ipython3",
   "version": "3.7.4"
  }
 },
 "nbformat": 4,
 "nbformat_minor": 2
}
