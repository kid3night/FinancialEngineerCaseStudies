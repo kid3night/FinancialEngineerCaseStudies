{
 "cells": [
  {
   "cell_type": "code",
   "execution_count": 2,
   "metadata": {
    "ExecuteTime": {
     "end_time": "2019-10-10T05:46:34.885779Z",
     "start_time": "2019-10-10T05:46:33.279839Z"
    }
   },
   "outputs": [],
   "source": [
    "import pandas as pd\n",
    "import numpy as np\n",
    "from scipy.stats import norm, uniform\n",
    "import matplotlib.pyplot as plt\n",
    "import seaborn as sns\n",
    "sns.set()\n",
    "plt.rcParams['figure.figsize'] = (15,10)"
   ]
  },
  {
   "cell_type": "code",
   "execution_count": 3,
   "metadata": {
    "ExecuteTime": {
     "end_time": "2019-10-10T05:46:34.891196Z",
     "start_time": "2019-10-10T05:46:34.888217Z"
    }
   },
   "outputs": [],
   "source": [
    "threshold_ = np.load('thres3_1.npy')"
   ]
  },
  {
   "cell_type": "code",
   "execution_count": 4,
   "metadata": {
    "ExecuteTime": {
     "end_time": "2019-10-10T05:46:34.896115Z",
     "start_time": "2019-10-10T05:46:34.893397Z"
    },
    "scrolled": true
   },
   "outputs": [],
   "source": [
    "upper_, lower_ = threshold_[0][:96], threshold_[1][:96]"
   ]
  },
  {
   "cell_type": "code",
   "execution_count": 5,
   "metadata": {
    "ExecuteTime": {
     "end_time": "2019-10-10T05:46:36.933291Z",
     "start_time": "2019-10-10T05:46:36.921612Z"
    }
   },
   "outputs": [],
   "source": [
    "start_cost = 3 * 1000 * 16 * 7.6\n",
    "r = 0.05\n",
    "\n",
    "def R(ss_t):\n",
    "    return (ss_t - 5) * 1000 * 16 * 7.6\n",
    "\n",
    "def Profit(s0, ss0, ss1, upper, lower):\n",
    "    idx_off = (s0 == 0)\n",
    "    idx_on = (s0 == 1)\n",
    "\n",
    "    turn_on = idx_off * (ss0 > upper)\n",
    "    turn_off = idx_on * (ss0 < lower)\n",
    "\n",
    "    profit = R(ss1)\n",
    "    profit[turn_on] = - start_cost\n",
    "    profit[idx_off & (ss0 <= upper)] = 0\n",
    "\n",
    "    action = idx_off * (ss0 > upper) + idx_on * (ss0 >= lower)\n",
    "\n",
    "    return profit, action #action=s1\n",
    "\n",
    "def valuation(power, gas, upper, lower):#power & gas(10000*97);upper & lower(96)\n",
    "    ss = (power - 12 * gas)\n",
    "    n = ss.shape[0]\n",
    "    N = 2 * 12 * 4 #96\n",
    "    s = np.zeros((n,N+1))\n",
    "    V = 0\n",
    "    for i in range(N): #0-95\n",
    "        profit, s[:, i+1] = Profit(s[:,i], ss[:,i], ss[:,i+1], upper[i], lower[i])\n",
    "        V += profit * np.exp(-r*(i+1)/48)\n",
    "    return np.mean(V)"
   ]
  },
  {
   "cell_type": "code",
   "execution_count": 6,
   "metadata": {
    "ExecuteTime": {
     "end_time": "2019-10-10T05:46:39.589614Z",
     "start_time": "2019-10-10T05:46:39.582902Z"
    }
   },
   "outputs": [],
   "source": [
    "def cali(Power, Gas, ll = -0.4*10**7, uu = 1.2*10**7, d=10**6):\n",
    "    V = []\n",
    "    \n",
    "    bound_list = np.array([ll + d * (x+1) for x in range(int((uu -ll)/d))])\n",
    "    combo = [(i,j) for i in bound_list for j in bound_list]\n",
    "    for i in bound_list :\n",
    "        for j in bound_list :\n",
    "            upper = np.ones(96)*i\n",
    "            lower = np.ones(96)*j\n",
    "            V.append(valuation(Power, Gas, upper, lower))\n",
    "    return combo[np.argmax(V)], np.max(V)"
   ]
  },
  {
   "cell_type": "code",
   "execution_count": 72,
   "metadata": {
    "ExecuteTime": {
     "end_time": "2019-10-09T21:04:44.014889Z",
     "start_time": "2019-10-09T21:04:42.307961Z"
    }
   },
   "outputs": [],
   "source": [
    "Gas = pd.read_csv('Gas_Simulation_97.csv', header=None).T.values\n",
    "Power = pd.read_csv('Power_Simulation_97.csv', header=None).T.values"
   ]
  },
  {
   "cell_type": "code",
   "execution_count": 78,
   "metadata": {
    "ExecuteTime": {
     "end_time": "2019-10-09T21:11:37.318907Z",
     "start_time": "2019-10-09T21:11:37.248457Z"
    }
   },
   "outputs": [
    {
     "data": {
      "text/plain": [
       "94756534.35469067"
      ]
     },
     "execution_count": 78,
     "metadata": {},
     "output_type": "execute_result"
    }
   ],
   "source": [
    "valuation(Power, Gas, upper_, lower_)"
   ]
  },
  {
   "cell_type": "code",
   "execution_count": 74,
   "metadata": {
    "ExecuteTime": {
     "end_time": "2019-10-09T21:04:51.522803Z",
     "start_time": "2019-10-09T21:04:51.517125Z"
    }
   },
   "outputs": [
    {
     "data": {
      "text/plain": [
       "(10000, 97)"
      ]
     },
     "execution_count": 74,
     "metadata": {},
     "output_type": "execute_result"
    }
   ],
   "source": [
    "Gas.shape"
   ]
  },
  {
   "cell_type": "code",
   "execution_count": 21,
   "metadata": {
    "ExecuteTime": {
     "end_time": "2019-10-10T19:39:38.906634Z",
     "start_time": "2019-10-10T19:39:38.875630Z"
    }
   },
   "outputs": [],
   "source": [
    "def new_path(eval_para_pos, n = 5000):\n",
    "#     N_month = 97\n",
    "    N = 24\n",
    "    N *= 4\n",
    "    dt = 1/48\n",
    "    thetap1 = [39.28, 40.65, 40.48, 42.75, 46.62, 71.88, 86.92, 103.63, 60.78, 35.55, 39.67, 44.47]\n",
    "    thetag1 = [2.51, 2.49, 2.66, 2.59, 5.28, 6.33, 6.39, 5.93, 3.12, 2.73, 2.02, 3.07]\n",
    "    p_theta_std = np.array([1.45, 1.92, 2.36, 2.65, 5.01, 8.66, 12.21, 13.79, 12.78, 14.01, 12.77, 10.9])\n",
    "    g_theta_std = np.array([0.17, 0.2, 0.28, 0.4, 0.43, 0.67, 0.48, 0.53, 0.45, 0.78, 0.84, 0.71])\n",
    "    variable_list = [7, 20, 3, 75, 0.083, 35, 0, 3, 75, 7.22, 0.3, 28.87, 10.83, np.array(thetap1), np.array(thetag1)]\n",
    "    variables_names = ['alphaCC', 'alphaJC', 'alphaG', \n",
    "                       'm', 'p', 'CC0', 'JC0', 'G0',\n",
    "                       'spike_thres', 'sigmaG', 'rho', \n",
    "                       'v_summer', 'v_winter', 'PowerTheta', 'GasTheta']\n",
    "    vec_res_p = list()\n",
    "    vec_res_g = list()\n",
    "    month_list = [i for i in range(1, 98)]\n",
    "    num_ses = np.arange(-3, 3.2, 0.2)\n",
    "    len_muls = len(num_ses)\n",
    "    result_ = list()\n",
    "    \n",
    "    for num_se in num_ses:\n",
    "\n",
    "        if eval_para_pos == 0:\n",
    "            new_variable = 7 - num_se * 0.5\n",
    "        if eval_para_pos == 1:\n",
    "            new_variable = 20 - num_se * 1.3\n",
    "        if eval_para_pos == 2:\n",
    "            new_variable = 3 - num_se * 0.2\n",
    "\n",
    "        if eval_para_pos == 3:\n",
    "            new_variable = 75 - num_se * 5\n",
    "        elif eval_para_pos == 4:\n",
    "            new_variable = 0.083 - num_se * 0.005\n",
    "        elif eval_para_pos == 9:\n",
    "            new_variable = 7.22 - num_se * 0.05\n",
    "        elif eval_para_pos == 10:\n",
    "            new_variable = 0.3 - num_se * 0.05\n",
    "        elif eval_para_pos == 11:\n",
    "            new_variable = 28.87 - num_se * 2\n",
    "        elif eval_para_pos == 12:\n",
    "            new_variable = 10.83 - num_se * 2\n",
    "        elif eval_para_pos == 13:\n",
    "            new_variable = variable_list[13] - num_se * p_theta_std \n",
    "        elif eval_para_pos == 14:\n",
    "            new_variable = variable_list[14] - num_se * g_theta_std\n",
    "        else:\n",
    "            new_variable = variable_list[eval_para_pos]\n",
    "\n",
    "        variable_list[eval_para_pos] = new_variable\n",
    "        alphaCC  = variable_list[0]\n",
    "        alphaJC  = variable_list[1]\n",
    "        alphaG  = variable_list[2]\n",
    "        m  = variable_list[3]\n",
    "        p  = variable_list[4]\n",
    "        CC0  = variable_list[5]\n",
    "        JC0  = variable_list[6]\n",
    "        G0  = variable_list[7]\n",
    "        spike_thres  = variable_list[8]\n",
    "        sigmaG  = variable_list[9]/np.sqrt(dt)/100\n",
    "        rho  = variable_list[10]\n",
    "        v_summer  = variable_list[11]/np.sqrt(dt)/100\n",
    "        v_winter  = variable_list[12]/np.sqrt(dt)/100\n",
    "        PowerTheta  = variable_list[13]\n",
    "        GasTheta  = variable_list[14]\n",
    "        \n",
    "        \n",
    "        V = np.zeros((N+1,n))\n",
    "        W = norm.rvs(size = (N+1,n))*np.sqrt(dt)\n",
    "        Wtilde = norm.rvs(size = (N+1,n))*np.sqrt(dt)\n",
    "        B = rho*W + np.sqrt(1-rho**2)*Wtilde\n",
    "        \n",
    "#         W = norm.rvs(size = (N+1,n))*np.sqrt(dt)\n",
    "#         Wtilde = norm.rvs(size = (N+1,n))*np.sqrt(dt)\n",
    "#         B = rho*W + np.sqrt(1-rho**2)*Wtilde\n",
    "\n",
    "        CC = np.zeros((N+1,n)) \n",
    "        CC[0,:] = CC0\n",
    "        JC = np.zeros((N+1,n))\n",
    "        JC[0,:] = JC0\n",
    "        G = np.zeros((N+1,n)) \n",
    "        G[0,:] = G0\n",
    "        PC = np.zeros((N+1,n))\n",
    "        PC[0,:] = CC[0,:]\n",
    "        # \n",
    "#         Power_MSE,Gas_MSE = 0, 0\n",
    "#         Power_Price_Fit, Gas_Price_Fit, CC_Price_Fit, JC_Price_Fit = list(), list(), list(), list()\n",
    "#         Power_Price_Weekly, Gas_Price_Weekly = list(),list()\n",
    "\n",
    "\n",
    "        for i in range(1, N + 1):\n",
    "            month1 = month_list[int(np.ceil(i/4)) - 1] if np.ceil(i/4) <= 12 else month_list[int(np.ceil(i/4)) - 1-12]\n",
    "            monthIndicator = (month1 > 4)&(month1 < 9)\n",
    "\n",
    "            V[i,:] = monthIndicator*v_summer + (1 - monthIndicator)*v_winter\n",
    "            CC[i,:] = alphaCC*(thetap1[month1-1] - CC[i-1,:])*dt + V[i,:]*CC[i-1,:]*W[i,:] + CC[i-1,:]\n",
    "            JC[i,:] = alphaJC*( 0 - JC[i-1,:])*dt + m*(uniform.rvs() < p)+JC[i-1,:]\n",
    "            #Power Price\n",
    "            PC[i,:] = CC[i,:] + JC[i,:]*(PC[i-1,:] > spike_thres)\n",
    "            #Gas Price\n",
    "            G[i,:]  = alphaG*(thetag1[month1-1] - G[i-1,:])*dt + sigmaG * G[i-1,:] * B[i,:] + G[i-1,:]\n",
    "            \n",
    "        result_.append(valuation(PC.T, G.T, upper_, lower_))\n",
    "    results = np.array(result_) / result_[int(len_muls / 2)]\n",
    "    \n",
    "#     return (variables_names[eval_para_pos], np.mean(np.abs(results - 1)), np.std(np.abs(results - 1)), result_[int(len_muls / 2)])\n",
    "    return (variables_names[eval_para_pos], np.mean(np.abs(results - 1)))\n",
    "#     plt.plot(num_ses, result_, 'o')\n",
    "#     plt.title('Final Profit Sensitivity Analysis - {}'.format(variables_names[eval_para_pos]))\n",
    "#     plt.xlabel('multiplier of SE')\n",
    "#     plt.ylabel('Profit')\n",
    "    \n",
    "#     return PC, G"
   ]
  },
  {
   "cell_type": "code",
   "execution_count": 22,
   "metadata": {
    "ExecuteTime": {
     "end_time": "2019-10-10T19:39:41.176142Z",
     "start_time": "2019-10-10T19:39:39.280855Z"
    }
   },
   "outputs": [
    {
     "data": {
      "text/plain": [
       "('PowerTheta', 0.1442261466482971)"
      ]
     },
     "execution_count": 22,
     "metadata": {},
     "output_type": "execute_result"
    }
   ],
   "source": [
    "new_path(13, 5000)"
   ]
  },
  {
   "cell_type": "code",
   "execution_count": null,
   "metadata": {},
   "outputs": [],
   "source": []
  },
  {
   "cell_type": "code",
   "execution_count": null,
   "metadata": {},
   "outputs": [],
   "source": []
  },
  {
   "cell_type": "code",
   "execution_count": null,
   "metadata": {},
   "outputs": [],
   "source": []
  },
  {
   "cell_type": "code",
   "execution_count": 63,
   "metadata": {
    "ExecuteTime": {
     "end_time": "2019-10-09T20:55:40.901629Z",
     "start_time": "2019-10-09T20:55:40.899071Z"
    }
   },
   "outputs": [],
   "source": [
    "num_ses = np.arange(-3, 3.2, 0.2)"
   ]
  },
  {
   "cell_type": "code",
   "execution_count": 69,
   "metadata": {
    "ExecuteTime": {
     "end_time": "2019-10-09T20:56:03.596667Z",
     "start_time": "2019-10-09T20:56:03.592428Z"
    }
   },
   "outputs": [
    {
     "data": {
      "text/plain": [
       "2.6645352591003757e-15"
      ]
     },
     "execution_count": 69,
     "metadata": {},
     "output_type": "execute_result"
    }
   ],
   "source": [
    "num_ses[15]"
   ]
  },
  {
   "cell_type": "code",
   "execution_count": 10,
   "metadata": {
    "ExecuteTime": {
     "end_time": "2019-10-10T05:46:56.243916Z",
     "start_time": "2019-10-10T05:46:56.240602Z"
    }
   },
   "outputs": [],
   "source": [
    "para_pos = [3, 4, 9, 10, 11, 12, 13, 14]"
   ]
  },
  {
   "cell_type": "code",
   "execution_count": 11,
   "metadata": {
    "ExecuteTime": {
     "end_time": "2019-10-10T05:50:00.656246Z",
     "start_time": "2019-10-10T05:46:56.581028Z"
    }
   },
   "outputs": [],
   "source": [
    "paras_dev = [new_path(i, 50000) for i in para_pos]"
   ]
  },
  {
   "cell_type": "code",
   "execution_count": 12,
   "metadata": {
    "ExecuteTime": {
     "end_time": "2019-10-10T05:50:00.665743Z",
     "start_time": "2019-10-10T05:50:00.659305Z"
    }
   },
   "outputs": [
    {
     "data": {
      "text/plain": [
       "[('m', 0.15988017803873572, 0.10105570673140296, 134496204.2710141),\n",
       " ('p', 0.15787687583288407, 0.14508268374919397, 100480707.9972754),\n",
       " ('sigmaG', 0.16931677134040785, 0.08176828059437397, 135345086.7296125),\n",
       " ('rho', 0.1286541030869062, 0.09605408964164319, 122973411.54649425),\n",
       " ('v_summer', 0.13962706359212737, 0.16034672068287656, 105899701.17538929),\n",
       " ('v_winter', 0.17081126939538413, 0.09693905042392936, 134745101.5775383),\n",
       " ('PowerTheta', 0.18481174349323326, 0.10125490006637793, 142418157.29167134),\n",
       " ('GasTheta', 0.16388769000003048, 0.1538348438847064, 99675643.66015789)]"
      ]
     },
     "execution_count": 12,
     "metadata": {},
     "output_type": "execute_result"
    }
   ],
   "source": [
    "paras_dev"
   ]
  },
  {
   "cell_type": "code",
   "execution_count": 15,
   "metadata": {
    "ExecuteTime": {
     "end_time": "2019-10-10T05:53:01.044337Z",
     "start_time": "2019-10-10T05:53:01.028297Z"
    }
   },
   "outputs": [
    {
     "data": {
      "text/plain": [
       "array([0.16, 0.16, 0.17, 0.13, 0.14, 0.17, 0.18, 0.16])"
      ]
     },
     "execution_count": 15,
     "metadata": {},
     "output_type": "execute_result"
    }
   ],
   "source": [
    "np.array([i[1] for i in paras_dev]).round(2)"
   ]
  },
  {
   "cell_type": "code",
   "execution_count": 82,
   "metadata": {
    "ExecuteTime": {
     "end_time": "2019-10-09T21:57:52.504125Z",
     "start_time": "2019-10-09T21:56:18.808726Z"
    }
   },
   "outputs": [
    {
     "data": {
      "text/plain": [
       "('PowerTheta', 0.21037068878118673, 0.21037068878118673, 91049776.13967364)"
      ]
     },
     "execution_count": 82,
     "metadata": {},
     "output_type": "execute_result"
    }
   ],
   "source": [
    "new_path(13, 200000)"
   ]
  },
  {
   "cell_type": "code",
   "execution_count": 84,
   "metadata": {
    "ExecuteTime": {
     "end_time": "2019-10-09T21:58:41.518762Z",
     "start_time": "2019-10-09T21:58:37.931709Z"
    }
   },
   "outputs": [
    {
     "data": {
      "text/plain": [
       "('GasTheta', 0.2045483932409377, 0.1056315291900567, 146421038.01676592)"
      ]
     },
     "execution_count": 84,
     "metadata": {},
     "output_type": "execute_result"
    }
   ],
   "source": [
    "new_path(14, 10000)"
   ]
  },
  {
   "cell_type": "code",
   "execution_count": 16,
   "metadata": {
    "ExecuteTime": {
     "end_time": "2019-10-09T18:21:37.669211Z",
     "start_time": "2019-10-09T18:21:36.323009Z"
    }
   },
   "outputs": [
    {
     "data": {
      "image/png": "[encoded data removed]",
      "text/plain": [
       "<Figure size 432x288 with 1 Axes>"
      ]
     },
     "metadata": {
      "needs_background": "light"
     },
     "output_type": "display_data"
    }
   ],
   "source": [
    "new_path(11, 10000)"
   ]
  },
  {
   "cell_type": "code",
   "execution_count": 17,
   "metadata": {
    "ExecuteTime": {
     "end_time": "2019-10-09T18:21:39.441395Z",
     "start_time": "2019-10-09T18:21:38.104953Z"
    }
   },
   "outputs": [
    {
     "data": {
      "image/png": "[encoded data removed]",
      "text/plain": [
       "<Figure size 432x288 with 1 Axes>"
      ]
     },
     "metadata": {
      "needs_background": "light"
     },
     "output_type": "display_data"
    }
   ],
   "source": [
    "new_path(12, 10000)"
   ]
  },
  {
   "cell_type": "code",
   "execution_count": 19,
   "metadata": {
    "ExecuteTime": {
     "end_time": "2019-10-09T18:56:29.464447Z",
     "start_time": "2019-10-09T18:56:29.459549Z"
    }
   },
   "outputs": [
    {
     "data": {
      "text/plain": [
       "array([-3.00000000e+00, -2.80000000e+00, -2.60000000e+00, -2.40000000e+00,\n",
       "       -2.20000000e+00, -2.00000000e+00, -1.80000000e+00, -1.60000000e+00,\n",
       "       -1.40000000e+00, -1.20000000e+00, -1.00000000e+00, -8.00000000e-01,\n",
       "       -6.00000000e-01, -4.00000000e-01, -2.00000000e-01,  2.66453526e-15,\n",
       "        2.00000000e-01,  4.00000000e-01,  6.00000000e-01,  8.00000000e-01,\n",
       "        1.00000000e+00,  1.20000000e+00,  1.40000000e+00,  1.60000000e+00,\n",
       "        1.80000000e+00,  2.00000000e+00,  2.20000000e+00,  2.40000000e+00,\n",
       "        2.60000000e+00,  2.80000000e+00,  3.00000000e+00])"
      ]
     },
     "execution_count": 19,
     "metadata": {},
     "output_type": "execute_result"
    }
   ],
   "source": [
    "np.arange(-3, 3.2, 0.2)"
   ]
  },
  {
   "cell_type": "code",
   "execution_count": 22,
   "metadata": {
    "ExecuteTime": {
     "end_time": "2019-10-09T18:57:57.747029Z",
     "start_time": "2019-10-09T18:57:57.739818Z"
    }
   },
   "outputs": [
    {
     "data": {
      "text/plain": [
       "2.6645352591003757e-15"
      ]
     },
     "execution_count": 22,
     "metadata": {},
     "output_type": "execute_result"
    }
   ],
   "source": [
    "np.arange(-3, 3.2, 0.2)[int(31 / 2)]"
   ]
  },
  {
   "cell_type": "code",
   "execution_count": 18,
   "metadata": {
    "ExecuteTime": {
     "end_time": "2019-10-09T19:22:20.596509Z",
     "start_time": "2019-10-09T19:22:20.592174Z"
    }
   },
   "outputs": [
    {
     "data": {
      "text/plain": [
       "1.3333333333333333"
      ]
     },
     "execution_count": 18,
     "metadata": {},
     "output_type": "execute_result"
    }
   ],
   "source": [
    "5/75 * 20"
   ]
  },
  {
   "cell_type": "code",
   "execution_count": 16,
   "metadata": {
    "ExecuteTime": {
     "end_time": "2019-10-10T14:50:57.769957Z",
     "start_time": "2019-10-10T14:50:57.083361Z"
    }
   },
   "outputs": [],
   "source": [
    "from scipy.ndimage.filters import gaussian_filter"
   ]
  },
  {
   "cell_type": "code",
   "execution_count": null,
   "metadata": {},
   "outputs": [],
   "source": [
    "gaussian_filter()"
   ]
  }
 ],
 "metadata": {
  "kernelspec": {
   "display_name": "Python 3",
   "language": "python",
   "name": "python3"
  },
  "language_info": {
   "codemirror_mode": {
    "name": "ipython",
    "version": 3
   },
   "file_extension": ".py",
   "mimetype": "text/x-python",
   "name": "python",
   "nbconvert_exporter": "python",
   "pygments_lexer": "ipython3",
   "version": "3.7.4"
  }
 },
 "nbformat": 4,
 "nbformat_minor": 2
}
