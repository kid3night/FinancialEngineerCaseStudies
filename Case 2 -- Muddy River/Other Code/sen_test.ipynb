{
 "cells": [
  {
   "cell_type": "code",
   "execution_count": 1,
   "metadata": {
    "ExecuteTime": {
     "end_time": "2019-10-10T18:20:22.832450Z",
     "start_time": "2019-10-10T18:20:21.128793Z"
    }
   },
   "outputs": [],
   "source": [
    "import numpy as np\n",
    "import scipy \n",
    "from scipy import stats\n",
    "from scipy.stats import norm,uniform\n",
    "import matplotlib.pyplot as plt\n",
    "import pdb\n",
    "import seaborn as sns\n",
    "import pandas as pd\n",
    "# plt.rcParams['figure.figsize'] = (15,10)\n",
    "sns.set()"
   ]
  },
  {
   "cell_type": "code",
   "execution_count": 13,
   "metadata": {
    "ExecuteTime": {
     "end_time": "2019-10-10T18:21:38.209846Z",
     "start_time": "2019-10-10T18:21:38.206775Z"
    }
   },
   "outputs": [],
   "source": [
    "plt.rcParams['figure.figsize'] = (8,5)"
   ]
  },
  {
   "cell_type": "code",
   "execution_count": 3,
   "metadata": {
    "ExecuteTime": {
     "end_time": "2019-10-10T18:20:22.845669Z",
     "start_time": "2019-10-10T18:20:22.838998Z"
    }
   },
   "outputs": [],
   "source": [
    "Power = np.array([36.63, 38.26, 39.39, 40.56, 43.23, 56.54, 72.70, 84.19, 76.06, 61.32, 50.75, 46.90])\n",
    "Gas = np.array([2.905, 2.81, 2.76, 2.73, 3.20, 3.88, 4.45, 4.8, 4.56, 4.13, 3.68, 3.49])\n",
    "month_list = [i for i in range(1,13)] \n",
    "theta_po = [39.28, 40.65, 40.48, 42.75, 46.62, 71.88, 86.92, 103.63, 60.78, 35.55, 39.67, 44.47]\n",
    "theta_ga = [2.51, 2.49, 2.66, 2.59, 5.28, 6.33, 6.39, 5.93, 3.12, 2.73, 2.02, 3.07]\n",
    "Power = np.array([36.63, 38.26, 39.39, 40.56, 43.23, 56.54, 72.70, 84.19, 76.06, 61.32, 50.75, 46.90])\n",
    "Gas = np.array([2.905, 2.81, 2.76, 2.73, 3.20, 3.88, 4.45, 4.8, 4.56, 4.13, 3.68, 3.49])\n",
    "dt = 1/48\n",
    "multiplier = np.arange(0.5, 1.52, 0.02)"
   ]
  },
  {
   "cell_type": "code",
   "execution_count": 19,
   "metadata": {
    "ExecuteTime": {
     "end_time": "2019-10-10T18:22:17.114941Z",
     "start_time": "2019-10-10T18:22:17.079653Z"
    }
   },
   "outputs": [],
   "source": [
    "def sen_test(eval_para_pos, PowerPrices = Power, GasPrices = Gas, thetap1= theta_po, thetag1 = theta_ga,\n",
    "             n = 15000):\n",
    "    #params\n",
    "    N_month = 12\n",
    "    N = 12\n",
    "    N *= 4\n",
    "    p_theta_std = np.array([1.45, 1.92, 2.36, 2.65, 5.01, 8.66, 12.21, 13.79, 12.78, 14.01, 12.77, 10.9])\n",
    "    g_theta_std = np.array([0.17, 0.2, 0.28, 0.4, 0.43, 0.67, 0.48, 0.53, 0.45, 0.78, 0.84, 0.71])\n",
    "    variable_list = [7, 20, 3, 75, 0.083, 35, 0, 3, 75, 7.22, 0.3, 28.87, 10.83, np.array(thetap1), np.array(thetag1)]\n",
    "    variables_names = ['alphaCC', 'alphaJC', 'alphaG', \n",
    "                       'spike_mean', 'p', 'CC0', 'JC0', 'G0',\n",
    "                       'spike_thres', 'sigmaG', 'rho', \n",
    "                       'v_summer', 'v_winter', 'PowerTheta', 'GasTheta']\n",
    "    vec_res_p = list()\n",
    "    vec_res_g = list()\n",
    "    num_se = 3\n",
    "    \n",
    "    if eval_para_pos == 3:\n",
    "        new_variable = np.array([75 - num_se * 5, 75, 75 + num_se * 5])\n",
    "    elif eval_para_pos == 4:\n",
    "        new_variable = np.array([0.083 - num_se * 0.005, 0.083, 0.083 + num_se * 0.005])\n",
    "    elif eval_para_pos == 9:\n",
    "        new_variable = np.array([7.22 - num_se * 0.05, 7.22, 7.22 + num_se * 0.05]) / np.sqrt(dt) / 100\n",
    "    elif eval_para_pos == 10:\n",
    "        new_variable = np.array([0.3 - num_se * 0.05, 0.3, 0.3 + num_se * 0.05])    \n",
    "    elif eval_para_pos == 11:\n",
    "        new_variable = np.array([28.87 - num_se * 2, 28.87, 28.87 + num_se * 2]) / np.sqrt(dt) / 100\n",
    "    elif eval_para_pos == 12:\n",
    "        new_variable = np.array([10.83 - num_se * 2, 10.83, 10.83 + num_se * 2]) / np.sqrt(dt) / 100\n",
    "    elif eval_para_pos == 13:\n",
    "        new_variable = np.array([variable_list[13] - num_se * p_theta_std, \n",
    "                                 variable_list[13],\n",
    "                                 variable_list[13] + num_se * p_theta_std])\n",
    "    elif eval_para_pos == 14:\n",
    "        new_variable = np.array([variable_list[14] - num_se * g_theta_std, \n",
    "                                 variable_list[14],\n",
    "                                 variable_list[14] + num_se * g_theta_std])\n",
    "    \n",
    "    for ix in range(len(new_variable)):\n",
    "        variable_list[eval_para_pos] = new_variable[ix]\n",
    "        alphaCC  = variable_list[0]\n",
    "        alphaJC  = variable_list[1]\n",
    "        alphaG  = variable_list[2]\n",
    "        m  = variable_list[3]\n",
    "        p  = variable_list[4]\n",
    "        CC0  = variable_list[5]\n",
    "        JC0  = variable_list[6]\n",
    "        G0  = variable_list[7]\n",
    "        spike_thres  = variable_list[8]\n",
    "        sigmaG  = variable_list[9]/np.sqrt(dt)/100\n",
    "        rho  = variable_list[10]\n",
    "        v_summer  = variable_list[11]/np.sqrt(dt)/100\n",
    "        v_winter  = variable_list[12]/np.sqrt(dt)/100\n",
    "        PowerTheta  = variable_list[13]\n",
    "        GasTheta  = variable_list[14]\n",
    "\n",
    "        V = np.zeros((N+1,n))\n",
    "        W = norm.rvs(size = (N+1,n))*np.sqrt(dt)\n",
    "        Wtilde = norm.rvs(size = (N+1,n))*np.sqrt(dt)\n",
    "        B = rho*W + np.sqrt(1-rho**2)*Wtilde\n",
    "\n",
    "        CC = np.zeros((N+1,n)) \n",
    "        CC[0,:] = CC0\n",
    "        JC = np.zeros((N+1,n))\n",
    "        JC[0,:] = JC0\n",
    "        G = np.zeros((N+1,n)) \n",
    "        G[0,:] = G0\n",
    "        PC = np.zeros((N+1,n))\n",
    "        PC[0,:] = CC[0,:]\n",
    "        Power_MSE,Gas_MSE = 0, 0\n",
    "        Power_Price_Fit, Gas_Price_Fit, CC_Price_Fit, JC_Price_Fit = list(), list(), list(), list()\n",
    "\n",
    "\n",
    "        for i in range(1, N + 1):\n",
    "            month1 = month_list[int(np.ceil(i/4)) - 1]    \n",
    "            monthIndicator = (month1 > 4)&(month1 < 9)\n",
    "\n",
    "            V[i,:] = monthIndicator*v_summer + (1 - monthIndicator)*v_winter\n",
    "            CC[i,:] = alphaCC*(thetap1[month1-1] - CC[i-1,:])*dt + V[i,:]*CC[i-1,:]*W[i,:] + CC[i-1,:]\n",
    "            JC[i,:] = alphaJC*( 0 - JC[i-1,:])*dt + m*(uniform.rvs() < p)+JC[i-1,:]\n",
    "            #Power Price\n",
    "            PC[i,:] = CC[i,:] + JC[i,:]*(PC[i-1,:] > spike_thres)\n",
    "            #Gas Price\n",
    "            G[i,:]  = alphaG*(thetag1[month1-1] - G[i-1,:])*dt + sigmaG * G[i-1,:] * B[i,:] + G[i-1,:]\n",
    "\n",
    "            Power_MSE += np.abs(np.mean(PC[i,:]) - PowerPrices[month1 - 1])\n",
    "            Gas_MSE += np.abs(np.mean(G[i,:]) - GasPrices[month1 - 1])\n",
    "            \n",
    "            if i%4 == 0:\n",
    "                Power_Price_Fit.append(np.mean(PC[i,:]))\n",
    "                Gas_Price_Fit.append(np.mean(G[i,:]))\n",
    "                CC_Price_Fit.append(np.mean(CC[i,:]))\n",
    "                JC_Price_Fit.append(np.mean(JC[i,:]))\n",
    "#         MSE_p[ix] = Power_MSE\n",
    "#         MSE_g[ix] = Gas_MSE\n",
    "        \n",
    "        vec_res_p.append(Power_Price_Fit)\n",
    "        vec_res_g.append(Gas_Price_Fit)\n",
    "        \n",
    "    power_lines = pd.DataFrame(vec_res_p).T\n",
    "    power_lines.columns = ['cali_values 3 * SE down shift', 'cali_values', 'cali_values 3 * SE up shift']\n",
    "    power_lines['real_value'] = Power\n",
    "\n",
    "    gas_lines = pd.DataFrame(vec_res_g).T\n",
    "    gas_lines.columns = ['cali_values 3 * SE down shift', 'cali_values', 'cali_values 3 * SE up shift']\n",
    "    gas_lines['real_value'] = Gas\n",
    "\n",
    "    if eval_para_pos in [3, 4, 11, 12, 13]:\n",
    "        power_lines.plot(style=['b-', 'r-', 'g-', 'y--'])\n",
    "        plt.title('Power Prices (Real & Calibrated) Sensitivity -- {}'.format(variables_names[eval_para_pos]))\n",
    "    elif eval_para_pos in [9, 14]:\n",
    "        gas_lines.plot()\n",
    "        plt.title('Gas Prices (Real & Calibrated) Sensitivity -- {}'.format(variables_names[eval_para_pos]))\n",
    "    elif eval_para_pos == 10:\n",
    "        power_lines.plot()\n",
    "        plt.title('Power Prices (Real & Calibrated) Sensitivity -- {}'.format(variables_names[eval_para_pos]))\n",
    "        gas_lines.plot()\n",
    "        plt.title('Gas Prices (Real & Calibrated) Sensitivity -- {}'.format(variables_names[eval_para_pos]))\n",
    "        \n",
    "#     return MSE_p, MSE_g, vec_res\n",
    "#     return vec_res"
   ]
  },
  {
   "cell_type": "code",
   "execution_count": 33,
   "metadata": {
    "ExecuteTime": {
     "end_time": "2019-10-10T18:28:42.309239Z",
     "start_time": "2019-10-10T18:28:41.770509Z"
    },
    "scrolled": false
   },
   "outputs": [
    {
     "data": {
      "image/png": "[encoded data removed]",
      "text/plain": [
       "<Figure size 576x360 with 1 Axes>"
      ]
     },
     "metadata": {
      "needs_background": "light"
     },
     "output_type": "display_data"
    }
   ],
   "source": [
    "sen_test(13, multiplier, thetap1=theta_po, thetag1=theta_ga)"
   ]
  },
  {
   "cell_type": "code",
   "execution_count": null,
   "metadata": {},
   "outputs": [],
   "source": []
  },
  {
   "cell_type": "code",
   "execution_count": null,
   "metadata": {},
   "outputs": [],
   "source": []
  },
  {
   "cell_type": "code",
   "execution_count": null,
   "metadata": {},
   "outputs": [],
   "source": []
  },
  {
   "cell_type": "code",
   "execution_count": null,
   "metadata": {},
   "outputs": [],
   "source": []
  },
  {
   "cell_type": "code",
   "execution_count": null,
   "metadata": {},
   "outputs": [],
   "source": []
  }
 ],
 "metadata": {
  "kernelspec": {
   "display_name": "Python 3",
   "language": "python",
   "name": "python3"
  },
  "language_info": {
   "codemirror_mode": {
    "name": "ipython",
    "version": 3
   },
   "file_extension": ".py",
   "mimetype": "text/x-python",
   "name": "python",
   "nbconvert_exporter": "python",
   "pygments_lexer": "ipython3",
   "version": "3.7.4"
  }
 },
 "nbformat": 4,
 "nbformat_minor": 2
}
