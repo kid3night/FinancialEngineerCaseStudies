{
 "cells": [
  {
   "cell_type": "code",
   "execution_count": 10,
   "metadata": {
    "ExecuteTime": {
     "end_time": "2019-10-09T22:01:54.794038Z",
     "start_time": "2019-10-09T22:01:54.171899Z"
    }
   },
   "outputs": [],
   "source": [
    "import numpy as np\n",
    "import scipy \n",
    "from scipy import stats\n",
    "from scipy.stats import norm,uniform\n",
    "import matplotlib.pyplot as plt\n",
    "import pdb\n",
    "import seaborn as sns\n",
    "sns.set()"
   ]
  },
  {
   "cell_type": "code",
   "execution_count": 11,
   "metadata": {
    "ExecuteTime": {
     "end_time": "2019-10-09T22:01:55.325449Z",
     "start_time": "2019-10-09T22:01:55.319667Z"
    }
   },
   "outputs": [],
   "source": [
    "Power = np.array([36.63, 38.26, 39.39, 40.56, 43.23, 56.54, 72.70, 84.19, 76.06, 61.32, 50.75, 46.90])\n",
    "Gas = np.array([2.905, 2.81, 2.76, 2.73, 3.20, 3.88, 4.45, 4.8, 4.56, 4.13, 3.68, 3.49])\n",
    "dt = 1/48\n",
    "month_list = [i for i in range(1,13)] \n",
    "PowerTheta = np.zeros(12)\n",
    "GasTheta = np.zeros(12)"
   ]
  },
  {
   "cell_type": "code",
   "execution_count": 12,
   "metadata": {
    "ExecuteTime": {
     "end_time": "2019-10-09T22:01:56.161992Z",
     "start_time": "2019-10-09T22:01:56.132012Z"
    }
   },
   "outputs": [],
   "source": [
    "def func1(N,    #N is the number of periods\n",
    "    PowerPrices = Power, \n",
    "    GasPrices = Gas,\n",
    "    thetap1= PowerTheta,\n",
    "    thetag1 = GasTheta,\n",
    "    rho = 0.3,   \n",
    "    n = 100000 ,\n",
    "    random_seed = 100): #number of paths\n",
    "    \n",
    "    #params\n",
    "    N_month = N\n",
    "    N *= 4\n",
    "    alphaCC,alphaJC,alphaG = 7, 20, 3\n",
    "    m = 75\n",
    "    p = 0.083 # lambda*dt, weekly probability\n",
    "    CC0,JC0, G0 = 35, 0, 3\n",
    "    spike_thres = 75\n",
    "    sigmaG = 7.22/np.sqrt(dt)/100\n",
    "    \n",
    "    #V summer and winter\n",
    "    v_summer = 28.87/np.sqrt(dt)/100\n",
    "    v_winter = 10.83/np.sqrt(dt)/100\n",
    "    V = np.zeros((N+1,n))\n",
    "    \n",
    "    W = norm.rvs(size = (N+1,n))*np.sqrt(dt)\n",
    "    Wtilde = norm.rvs(size = (N+1,n))*np.sqrt(dt)\n",
    "    B = rho*W + np.sqrt(1-rho**2)*Wtilde\n",
    "    \n",
    "    CC = np.zeros((N+1,n)) \n",
    "    CC[0,:] = CC0\n",
    "    JC = np.zeros((N+1,n))\n",
    "    JC[0,:] = JC0\n",
    "    G = np.zeros((N+1,n)) \n",
    "    G[0,:] = G0\n",
    "    PC = np.zeros((N+1,n))\n",
    "    PC[0,:] = CC[0,:]\n",
    "    # \n",
    "    Power_MSE,Gas_MSE = 0, 0\n",
    "    Power_Price_Fit, Gas_Price_Fit, CC_Price_Fit, JC_Price_Fit = list(), list(), list(), list()\n",
    "    Power_Price_Weekly, Gas_Price_Weekly = list(),list()\n",
    "\n",
    "    \n",
    "    for i in range(1, N + 1):\n",
    "        month1 = month_list[int(np.ceil(i/4)) - 1] if np.ceil(i/4) <= 12 else month_list[int(np.ceil(i/4)) - 1-12]\n",
    "        monthIndicator = (month1 > 4)&(month1 < 9)\n",
    "\n",
    "        V[i,:] = monthIndicator*v_summer + (1 - monthIndicator)*v_winter\n",
    "        CC[i,:] = alphaCC*(thetap1[month1-1] - CC[i-1,:])*dt + V[i,:]*CC[i-1,:]*W[i,:] + CC[i-1,:]\n",
    "        JC[i,:] = alphaJC*( 0 - JC[i-1,:])*dt + m*(uniform.rvs() < p)+JC[i-1,:]\n",
    "        #Power Price\n",
    "        PC[i,:] = CC[i,:] + JC[i,:]*(PC[i-1,:] > spike_thres)\n",
    "        #Gas Price\n",
    "        G[i,:]  = alphaG*(thetag1[month1-1] - G[i-1,:])*dt + sigmaG * G[i-1,:] * B[i,:] + G[i-1,:]\n",
    "\n",
    "        Power_MSE += np.abs(np.mean(PC[i,:]) - PowerPrices[month1 - 1])\n",
    "        Gas_MSE += np.abs(np.mean(G[i,:]) - GasPrices[month1 - 1])\n",
    "        \n",
    "        if i%4 == 0:\n",
    "            Power_Price_Fit.append(np.mean(PC[i,:]))\n",
    "            Gas_Price_Fit.append(np.mean(G[i,:]))\n",
    "            CC_Price_Fit.append(np.mean(CC[i,:]))\n",
    "            JC_Price_Fit.append(np.mean(JC[i,:]))\n",
    "            \n",
    "        Power_Price_Weekly.append(PC[i,:])\n",
    "        Gas_Price_Weekly.append(G[i,:])\n",
    "        \n",
    "    np.savetxt(\"power_price_new.csv\", np.array(Power_Price_Weekly), delimiter=\",\") \n",
    "    np.savetxt(\"gas_price_new.csv\",np.array(Gas_Price_Weekly),delimiter=\",\")\n",
    "    return Power_MSE, Gas_MSE,(np.array(Power_Price_Weekly),np.array(Gas_Price_Weekly),\\\n",
    "           Power_Price_Fit,Gas_Price_Fit,CC_Price_Fit,JC_Price_Fit)\n",
    "    "
   ]
  },
  {
   "cell_type": "code",
   "execution_count": 13,
   "metadata": {
    "ExecuteTime": {
     "end_time": "2019-10-09T22:01:56.882302Z",
     "start_time": "2019-10-09T22:01:56.871501Z"
    }
   },
   "outputs": [],
   "source": [
    "def cali(MSE_fun, N, thetap_l = 0, thetap_r = 300, thetap_d = 0.5, thetag_l = 0, thetag_r = 10, thetag_d = 0.05):\n",
    "    MSE_p, MSE_g = list(), list()\n",
    "    thetap_list = [thetap_l + thetap_d * x for x in range(int((thetap_r -thetap_l)/thetap_d)+1)]\n",
    "    thetag_list = [thetag_l + thetag_d * x for x in range(int((thetag_r - thetag_l)/thetag_d)+1)]\n",
    "    for i1 in thetap_list:\n",
    "        PowerTheta[N - 1] = i1\n",
    "        MSE_p.append(MSE_fun(N, Power,Gas,thetap1= PowerTheta, thetag1 = GasTheta,rho = 0.3,n = 100)[0])\n",
    "        #print(\"MSE_P:\", MSE_p)\n",
    "        #print(PowerTheta)\n",
    "    for i2 in thetag_list:\n",
    "        GasTheta[N - 1] = i2\n",
    "        MSE_g.append(MSE_fun(N, Power,Gas,thetap1= PowerTheta,thetag1 = GasTheta,rho = 0.3,n = 100)[1])\n",
    "    #print('MSE\\n',MSE_p)\n",
    "    #print('index\\n',np.argmin(MSE_p))\n",
    "    #print('thetap\\n',thetap_list[np.argmin(MSE_p)])\n",
    "    return thetap_list[np.argmin(MSE_p)], thetag_list[np.argmin(MSE_g)], np.min(MSE_p), np.min(MSE_g)\n",
    "    "
   ]
  },
  {
   "cell_type": "code",
   "execution_count": 14,
   "metadata": {
    "ExecuteTime": {
     "end_time": "2019-10-09T22:03:17.929137Z",
     "start_time": "2019-10-09T22:01:57.455318Z"
    }
   },
   "outputs": [
    {
     "name": "stdout",
     "output_type": "stream",
     "text": [
      "This is the 1 for loop\n",
      "[40.  0.  0.  0.  0.  0.  0.  0.  0.  0.  0.  0.]\n",
      "[2.55 0.   0.   0.   0.   0.   0.   0.   0.   0.   0.   0.  ]\n",
      "1.114855970944923\n",
      "0.11578865205000888\n",
      "This is the 2 for loop\n",
      "[40.  41.5  0.   0.   0.   0.   0.   0.   0.   0.   0.   0. ]\n",
      "[2.55 2.8  0.   0.   0.   0.   0.   0.   0.   0.   0.   0.  ]\n",
      "2.8746539424393944\n",
      "0.2594789793919041\n",
      "This is the 3 for loop\n",
      "[40.  41.5 41.   0.   0.   0.   0.   0.   0.   0.   0.   0. ]\n",
      "[2.55 2.8  2.65 0.   0.   0.   0.   0.   0.   0.   0.   0.  ]\n",
      "5.776167317584573\n",
      "0.2273108124487404\n",
      "This is the 4 for loop\n",
      "[40.  41.5 41.  40.5  0.   0.   0.   0.   0.   0.   0.   0. ]\n",
      "[2.55 2.8  2.65 2.15 0.   0.   0.   0.   0.   0.   0.   0.  ]\n",
      "7.888740182802728\n",
      "0.36135799512548594\n",
      "This is the 5 for loop\n",
      "[40.  41.5 41.  40.5 37.5  0.   0.   0.   0.   0.   0.   0. ]\n",
      "[2.55 2.8  2.65 2.15 5.65 0.   0.   0.   0.   0.   0.   0.  ]\n",
      "8.679551404151617\n",
      "1.2257908916223736\n",
      "This is the 6 for loop\n",
      "[40.  41.5 41.  40.5 37.5 75.   0.   0.   0.   0.   0.   0. ]\n",
      "[2.55 2.8  2.65 2.15 5.65 5.2  0.   0.   0.   0.   0.   0.  ]\n",
      "20.467642031038224\n",
      "2.026889896391566\n",
      "This is the 7 for loop\n",
      "[40.  41.5 41.  40.5 37.5 75.  55.   0.   0.   0.   0.   0. ]\n",
      "[2.55 2.8  2.65 2.15 5.65 5.2  6.25 0.   0.   0.   0.   0.  ]\n",
      "44.943693195168386\n",
      "2.922026284963401\n",
      "This is the 8 for loop\n",
      "[40.  41.5 41.  40.5 37.5 75.  55.  95.   0.   0.   0.   0. ]\n",
      "[2.55 2.8  2.65 2.15 5.65 5.2  6.25 7.3  0.   0.   0.   0.  ]\n",
      "73.02834793076194\n",
      "3.249856487892605\n",
      "This is the 9 for loop\n",
      "[40.  41.5 41.  40.5 37.5 75.  55.  95.  72.   0.   0.   0. ]\n",
      "[2.55 2.8  2.65 2.15 5.65 5.2  6.25 7.3  2.55 0.   0.   0.  ]\n",
      "119.3255096596854\n",
      "4.190990816153679\n",
      "This is the 10 for loop\n",
      "[40.  41.5 41.  40.5 37.5 75.  55.  95.  72.  44.   0.   0. ]\n",
      "[2.55 2.8  2.65 2.15 5.65 5.2  6.25 7.3  2.55 2.55 0.   0.  ]\n",
      "122.40156148721621\n",
      "5.1305531221248755\n",
      "This is the 11 for loop\n",
      "[40.  41.5 41.  40.5 37.5 75.  55.  95.  72.  44.  35.5  0. ]\n",
      "[2.55 2.8  2.65 2.15 5.65 5.2  6.25 7.3  2.55 2.55 2.4  0.  ]\n",
      "114.13170191476105\n",
      "5.195470724045113\n",
      "This is the 12 for loop\n",
      "[40.  41.5 41.  40.5 37.5 75.  55.  95.  72.  44.  35.5 28.5]\n",
      "[2.55 2.8  2.65 2.15 5.65 5.2  6.25 7.3  2.55 2.55 2.4  2.05]\n",
      "114.66756471335358\n",
      "5.746648603549148\n"
     ]
    }
   ],
   "source": [
    "np.random.seed(10)\n",
    "PowerTheta = np.zeros(12)\n",
    "GasTheta = np.zeros(12)\n",
    "for n in range(1, 13):\n",
    "    print(\"This is the\", n ,\"for loop\")\n",
    "    PowerTheta[n-1],GasTheta[n-1],MSE_P,MSE_G  = cali(func1, N = n)\n",
    "    print(PowerTheta)\n",
    "    print(GasTheta)\n",
    "    print(MSE_P)\n",
    "    print(MSE_G)"
   ]
  },
  {
   "cell_type": "code",
   "execution_count": 16,
   "metadata": {
    "ExecuteTime": {
     "end_time": "2019-10-09T22:04:58.512759Z",
     "start_time": "2019-10-09T22:04:58.474066Z"
    }
   },
   "outputs": [
    {
     "ename": "ValueError",
     "evalue": "too many values to unpack (expected 4)",
     "output_type": "error",
     "traceback": [
      "\u001b[0;31m---------------------------------------------------------------------------\u001b[0m",
      "\u001b[0;31mValueError\u001b[0m                                Traceback (most recent call last)",
      "\u001b[0;32m<ipython-input-16-e45c9256b0da>\u001b[0m in \u001b[0;36m<module>\u001b[0;34m\u001b[0m\n\u001b[1;32m      1\u001b[0m \u001b[0mresult\u001b[0m \u001b[0;34m=\u001b[0m \u001b[0mfunc1\u001b[0m\u001b[0;34m(\u001b[0m\u001b[0;36m12\u001b[0m\u001b[0;34m,\u001b[0m \u001b[0mPower\u001b[0m\u001b[0;34m,\u001b[0m\u001b[0mGas\u001b[0m\u001b[0;34m,\u001b[0m\u001b[0mthetap1\u001b[0m\u001b[0;34m=\u001b[0m \u001b[0mPowerTheta\u001b[0m\u001b[0;34m,\u001b[0m \u001b[0mthetag1\u001b[0m \u001b[0;34m=\u001b[0m \u001b[0mGasTheta\u001b[0m\u001b[0;34m,\u001b[0m\u001b[0mrho\u001b[0m \u001b[0;34m=\u001b[0m \u001b[0;36m0.3\u001b[0m\u001b[0;34m,\u001b[0m\u001b[0mn\u001b[0m \u001b[0;34m=\u001b[0m \u001b[0;36m100\u001b[0m\u001b[0;34m)\u001b[0m\u001b[0;34m\u001b[0m\u001b[0;34m\u001b[0m\u001b[0m\n\u001b[1;32m      2\u001b[0m \u001b[0;34m\u001b[0m\u001b[0m\n\u001b[0;32m----> 3\u001b[0;31m \u001b[0mPower_Price_Fit\u001b[0m\u001b[0;34m,\u001b[0m\u001b[0mGas_Price_Fit\u001b[0m\u001b[0;34m,\u001b[0m\u001b[0mCC_Price_Fit\u001b[0m\u001b[0;34m,\u001b[0m\u001b[0mJC_Price_Fit\u001b[0m \u001b[0;34m=\u001b[0m \u001b[0mresult\u001b[0m\u001b[0;34m[\u001b[0m\u001b[0;36m2\u001b[0m\u001b[0;34m]\u001b[0m\u001b[0;34m\u001b[0m\u001b[0;34m\u001b[0m\u001b[0m\n\u001b[0m\u001b[1;32m      4\u001b[0m \u001b[0;34m\u001b[0m\u001b[0m\n\u001b[1;32m      5\u001b[0m \u001b[0mfig\u001b[0m \u001b[0;34m=\u001b[0m \u001b[0mplt\u001b[0m\u001b[0;34m.\u001b[0m\u001b[0mfigure\u001b[0m\u001b[0;34m(\u001b[0m\u001b[0;34m)\u001b[0m\u001b[0;34m\u001b[0m\u001b[0;34m\u001b[0m\u001b[0m\n",
      "\u001b[0;31mValueError\u001b[0m: too many values to unpack (expected 4)"
     ]
    }
   ],
   "source": [
    "result = func1(12, Power,Gas,thetap1= PowerTheta, thetag1 = GasTheta,rho = 0.3,n = 100)\n",
    "\n",
    "Power_Price_Fit,Gas_Price_Fit,CC_Price_Fit,JC_Price_Fit = result[2]\n",
    "\n",
    "fig = plt.figure()\n",
    "plt.plot(Power_Price_Fit,label = 'Fitted Power Price')\n",
    "plt.plot(Power,label = 'Real Power Price')\n",
    "plt.plot(CC_Price_Fit,label = 'CC Price',linestyle = \"dotted\")\n",
    "plt.plot(JC_Price_Fit,label = 'JC Price',linestyle = \"dotted\")\n",
    "plt.title('Power Price Plot')\n",
    "plt.legend()\n",
    "\n",
    "fig = plt.figure()\n",
    "plt.plot(Gas_Price_Fit,label = 'Fitted Gas Price')\n",
    "plt.plot(Gas,label = 'Real Gas Prices')\n",
    "plt.title('Gas Price Plot')\n",
    "plt.legend()\n",
    "\n",
    "print('Power Price Fit: ',Power_Price_Fit,'\\n')\n",
    "print('CC Price Fit: ',CC_Price_Fit,'\\n')\n",
    "print('JC_Price_Fit: ',JC_Price_Fit,'\\n')\n",
    "print('real Power Price: ', Power,'\\n')\n",
    "print('Gas_Price_Fit: ',Gas_Price_Fit,'\\n')\n",
    "print('Gas Prices: ',Gas,'\\n')"
   ]
  },
  {
   "cell_type": "code",
   "execution_count": 17,
   "metadata": {
    "ExecuteTime": {
     "end_time": "2019-10-09T22:05:03.723486Z",
     "start_time": "2019-10-09T22:05:03.718946Z"
    }
   },
   "outputs": [],
   "source": [
    "P_theta = np.array([40, 41.5, 41, 40.5, 37.5, 75,  55,  95,  72,  44,  35.5, 28.5 ])\n",
    "G_theta = np.array([2.55, 2.8,  2.65, 2.15, 5.65, 5.2,  6.25, 7.3,  2.55, 2.55, 2.4,  2.05])\n",
    "\n",
    "T = np.arange(1,13)\n",
    "\n",
    "\n",
    "\n"
   ]
  },
  {
   "cell_type": "code",
   "execution_count": 18,
   "metadata": {
    "ExecuteTime": {
     "end_time": "2019-10-09T22:05:05.401140Z",
     "start_time": "2019-10-09T22:05:05.397778Z"
    }
   },
   "outputs": [
    {
     "name": "stdout",
     "output_type": "stream",
     "text": [
      "\n"
     ]
    }
   ],
   "source": [
    "print()"
   ]
  },
  {
   "cell_type": "code",
   "execution_count": 19,
   "metadata": {
    "ExecuteTime": {
     "end_time": "2019-10-09T22:05:06.688126Z",
     "start_time": "2019-10-09T22:05:06.200552Z"
    }
   },
   "outputs": [
    {
     "data": {
      "text/plain": [
       "Text(0.5, 1.0, 'Calibrated Theta for Gas Process')"
      ]
     },
     "execution_count": 19,
     "metadata": {},
     "output_type": "execute_result"
    },
    {
     "data": {
      "image/png": "[encoded data removed]",
      "text/plain": [
       "<Figure size 432x288 with 1 Axes>"
      ]
     },
     "metadata": {},
     "output_type": "display_data"
    },
    {
     "data": {
      "image/png": "[encoded data removed]",
      "text/plain": [
       "<Figure size 432x288 with 1 Axes>"
      ]
     },
     "metadata": {},
     "output_type": "display_data"
    }
   ],
   "source": [
    "plt.step(T, P_theta, label='Power Price Theta Process')\n",
    "plt.scatter(T, P_theta,  alpha=0.5)\n",
    "\n",
    "plt.legend()\n",
    "plt.title('Calibrated Theta for Power Process')\n",
    "\n",
    "plt.figure()\n",
    "plt.step(T, G_theta, label='Gas Price Theta Process',color = 'darkorange')\n",
    "plt.scatter(T, G_theta, alpha=0.5,color = 'darkorange')\n",
    "plt.title('Calibrated Theta for Gas Process')"
   ]
  },
  {
   "cell_type": "code",
   "execution_count": 20,
   "metadata": {
    "ExecuteTime": {
     "end_time": "2019-10-09T22:05:20.786503Z",
     "start_time": "2019-10-09T22:05:06.801883Z"
    }
   },
   "outputs": [
    {
     "ename": "AttributeError",
     "evalue": "'tuple' object has no attribute 'reshape'",
     "output_type": "error",
     "traceback": [
      "\u001b[0;31m---------------------------------------------------------------------------\u001b[0m",
      "\u001b[0;31mAttributeError\u001b[0m                            Traceback (most recent call last)",
      "\u001b[0;32m<ipython-input-20-c9bbbe41c4c4>\u001b[0m in \u001b[0;36m<module>\u001b[0;34m\u001b[0m\n\u001b[1;32m      1\u001b[0m \u001b[0mresult\u001b[0m \u001b[0;34m=\u001b[0m \u001b[0mfunc1\u001b[0m\u001b[0;34m(\u001b[0m\u001b[0;36m24\u001b[0m\u001b[0;34m,\u001b[0m \u001b[0mthetap1\u001b[0m\u001b[0;34m=\u001b[0m \u001b[0mP_theta\u001b[0m\u001b[0;34m,\u001b[0m \u001b[0mthetag1\u001b[0m \u001b[0;34m=\u001b[0m \u001b[0mG_theta\u001b[0m\u001b[0;34m)\u001b[0m \u001b[0;31m#number of paths\u001b[0m\u001b[0;34m\u001b[0m\u001b[0;34m\u001b[0m\u001b[0m\n\u001b[1;32m      2\u001b[0m \u001b[0;34m\u001b[0m\u001b[0m\n\u001b[0;32m----> 3\u001b[0;31m \u001b[0mP_price\u001b[0m \u001b[0;34m=\u001b[0m \u001b[0mnp\u001b[0m\u001b[0;34m.\u001b[0m\u001b[0mmean\u001b[0m\u001b[0;34m(\u001b[0m\u001b[0mresult\u001b[0m\u001b[0;34m[\u001b[0m\u001b[0;36m2\u001b[0m\u001b[0;34m]\u001b[0m\u001b[0;34m.\u001b[0m\u001b[0mreshape\u001b[0m\u001b[0;34m(\u001b[0m\u001b[0;36m96\u001b[0m\u001b[0;34m,\u001b[0m\u001b[0;36m100\u001b[0m\u001b[0;34m,\u001b[0m\u001b[0;36m1000\u001b[0m\u001b[0;34m)\u001b[0m\u001b[0;34m,\u001b[0m\u001b[0maxis\u001b[0m \u001b[0;34m=\u001b[0m \u001b[0;36m1\u001b[0m\u001b[0;34m)\u001b[0m\u001b[0;34m\u001b[0m\u001b[0;34m\u001b[0m\u001b[0m\n\u001b[0m\u001b[1;32m      4\u001b[0m \u001b[0mG_price\u001b[0m \u001b[0;34m=\u001b[0m \u001b[0mnp\u001b[0m\u001b[0;34m.\u001b[0m\u001b[0mmean\u001b[0m\u001b[0;34m(\u001b[0m\u001b[0mresult\u001b[0m\u001b[0;34m[\u001b[0m\u001b[0;36m3\u001b[0m\u001b[0;34m]\u001b[0m\u001b[0;34m.\u001b[0m\u001b[0mreshape\u001b[0m\u001b[0;34m(\u001b[0m\u001b[0;36m96\u001b[0m\u001b[0;34m,\u001b[0m\u001b[0;36m100\u001b[0m\u001b[0;34m,\u001b[0m\u001b[0;36m1000\u001b[0m\u001b[0;34m)\u001b[0m\u001b[0;34m,\u001b[0m\u001b[0maxis\u001b[0m \u001b[0;34m=\u001b[0m \u001b[0;36m1\u001b[0m\u001b[0;34m)\u001b[0m\u001b[0;34m\u001b[0m\u001b[0;34m\u001b[0m\u001b[0m\n\u001b[1;32m      5\u001b[0m \u001b[0mSS_price\u001b[0m \u001b[0;34m=\u001b[0m \u001b[0;34m(\u001b[0m\u001b[0mP_price\u001b[0m \u001b[0;34m-\u001b[0m \u001b[0;36m12\u001b[0m\u001b[0;34m*\u001b[0m\u001b[0mG_price\u001b[0m\u001b[0;34m)\u001b[0m\u001b[0;31m#*1000 * 16 * 7.6\u001b[0m\u001b[0;34m\u001b[0m\u001b[0;34m\u001b[0m\u001b[0m\n",
      "\u001b[0;31mAttributeError\u001b[0m: 'tuple' object has no attribute 'reshape'"
     ]
    }
   ],
   "source": [
    "result = func1(24, thetap1= P_theta, thetag1 = G_theta) #number of paths\n",
    "\n",
    "P_price = np.mean(result[2].reshape(96,100,1000),axis = 1)\n",
    "G_price = np.mean(result[3].reshape(96,100,1000),axis = 1)\n",
    "SS_price = (P_price - 12*G_price)#*1000 * 16 * 7.6\n",
    "\n",
    "power_mean = np.mean(P_price,axis = 1)\n",
    "power_std = np.std(P_price,axis = 1)\n",
    "power_upper = power_mean + 1.96*power_std\n",
    "power_lower = power_mean - 1.96*power_std\n",
    "\n",
    "gas_mean = np.mean(G_price,axis = 1)\n",
    "gas_std = np.std(G_price,axis = 1)\n",
    "gas_upper = gas_mean + 1.96*gas_std\n",
    "gas_lower = gas_mean - 1.96*gas_std\n",
    "\n",
    "ss_mean = np.mean(SS_price, axis = 1)\n",
    "ss_std = np.std(SS_price, axis = 1)\n",
    "ss_upper = ss_mean + 1.96*ss_std\n",
    "ss_lower = ss_mean - 1.96*ss_std\n",
    "\n",
    "weekly = np.arange(1,97)\n",
    "fig = plt.figure()\n",
    "ax = plt.gca()\n",
    "ax.plot(weekly,power_mean,label = 'mean power price')\n",
    "ax.fill_between(weekly, power_lower, power_upper,color = 'lightblue',label = '95% confidence interval')\n",
    "ax.set_title('95% confidence interval for weekly power prices')\n",
    "ax.set_xlabel('week')\n",
    "ax.set_ylabel('price')\n",
    "ax.legend()\n",
    "\n",
    "fig = plt.figure()\n",
    "ax = plt.gca()\n",
    "ax.plot(weekly,gas_mean,label = 'mean gas price',color = 'darkorange')\n",
    "ax.fill_between(weekly, gas_lower, gas_upper,color = 'bisque',label = '95% confidence interval')\n",
    "ax.set_title('95% confidence interval for weekly gas prices')\n",
    "ax.set_xlabel('week')\n",
    "ax.set_ylabel('price')\n",
    "ax.legend()\n",
    "\n",
    "\n"
   ]
  },
  {
   "cell_type": "code",
   "execution_count": 21,
   "metadata": {
    "ExecuteTime": {
     "end_time": "2019-10-09T22:05:40.798606Z",
     "start_time": "2019-10-09T22:05:40.578524Z"
    }
   },
   "outputs": [
    {
     "ename": "NameError",
     "evalue": "name 'weekly' is not defined",
     "output_type": "error",
     "traceback": [
      "\u001b[0;31m---------------------------------------------------------------------------\u001b[0m",
      "\u001b[0;31mNameError\u001b[0m                                 Traceback (most recent call last)",
      "\u001b[0;32m<ipython-input-21-030d37705d2c>\u001b[0m in \u001b[0;36m<module>\u001b[0;34m\u001b[0m\n\u001b[1;32m      1\u001b[0m \u001b[0mfig\u001b[0m \u001b[0;34m=\u001b[0m \u001b[0mplt\u001b[0m\u001b[0;34m.\u001b[0m\u001b[0mfigure\u001b[0m\u001b[0;34m(\u001b[0m\u001b[0;34m)\u001b[0m\u001b[0;34m\u001b[0m\u001b[0;34m\u001b[0m\u001b[0m\n\u001b[1;32m      2\u001b[0m \u001b[0max\u001b[0m \u001b[0;34m=\u001b[0m \u001b[0mplt\u001b[0m\u001b[0;34m.\u001b[0m\u001b[0mgca\u001b[0m\u001b[0;34m(\u001b[0m\u001b[0;34m)\u001b[0m\u001b[0;34m\u001b[0m\u001b[0;34m\u001b[0m\u001b[0m\n\u001b[0;32m----> 3\u001b[0;31m \u001b[0max\u001b[0m\u001b[0;34m.\u001b[0m\u001b[0mplot\u001b[0m\u001b[0;34m(\u001b[0m\u001b[0mweekly\u001b[0m\u001b[0;34m,\u001b[0m\u001b[0mss_mean\u001b[0m\u001b[0;34m,\u001b[0m\u001b[0mlabel\u001b[0m \u001b[0;34m=\u001b[0m \u001b[0;34m'mean spark spread'\u001b[0m\u001b[0;34m,\u001b[0m\u001b[0mcolor\u001b[0m \u001b[0;34m=\u001b[0m \u001b[0;34m'darkslategrey'\u001b[0m\u001b[0;34m)\u001b[0m\u001b[0;34m\u001b[0m\u001b[0;34m\u001b[0m\u001b[0m\n\u001b[0m\u001b[1;32m      4\u001b[0m \u001b[0max\u001b[0m\u001b[0;34m.\u001b[0m\u001b[0mfill_between\u001b[0m\u001b[0;34m(\u001b[0m\u001b[0mweekly\u001b[0m\u001b[0;34m,\u001b[0m \u001b[0mss_lower\u001b[0m\u001b[0;34m,\u001b[0m \u001b[0mss_upper\u001b[0m\u001b[0;34m,\u001b[0m\u001b[0mcolor\u001b[0m \u001b[0;34m=\u001b[0m \u001b[0;34m'paleturquoise'\u001b[0m\u001b[0;34m,\u001b[0m\u001b[0mlabel\u001b[0m \u001b[0;34m=\u001b[0m \u001b[0;34m'95% confidence interval'\u001b[0m\u001b[0;34m)\u001b[0m\u001b[0;34m\u001b[0m\u001b[0;34m\u001b[0m\u001b[0m\n\u001b[1;32m      5\u001b[0m \u001b[0max\u001b[0m\u001b[0;34m.\u001b[0m\u001b[0mset_title\u001b[0m\u001b[0;34m(\u001b[0m\u001b[0;34m'95% confidence interval for weekly spark spread'\u001b[0m\u001b[0;34m)\u001b[0m\u001b[0;34m\u001b[0m\u001b[0;34m\u001b[0m\u001b[0m\n",
      "\u001b[0;31mNameError\u001b[0m: name 'weekly' is not defined"
     ]
    },
    {
     "data": {
      "image/png": "[encoded data removed]",
      "text/plain": [
       "<Figure size 432x288 with 1 Axes>"
      ]
     },
     "metadata": {},
     "output_type": "display_data"
    }
   ],
   "source": [
    "fig = plt.figure()\n",
    "ax = plt.gca()\n",
    "ax.plot(weekly,ss_mean,label = 'mean spark spread',color = 'darkslategrey')\n",
    "ax.fill_between(weekly, ss_lower, ss_upper,color = 'paleturquoise',label = '95% confidence interval')\n",
    "ax.set_title('95% confidence interval for weekly spark spread')\n",
    "ax.set_xlabel('week')\n",
    "ax.set_ylabel('price')\n",
    "ax.legend()"
   ]
  },
  {
   "cell_type": "code",
   "execution_count": null,
   "metadata": {},
   "outputs": [],
   "source": []
  },
  {
   "cell_type": "code",
   "execution_count": null,
   "metadata": {},
   "outputs": [],
   "source": [
    "\n"
   ]
  },
  {
   "cell_type": "code",
   "execution_count": null,
   "metadata": {},
   "outputs": [],
   "source": []
  },
  {
   "cell_type": "code",
   "execution_count": 61,
   "metadata": {},
   "outputs": [
    {
     "data": {
      "text/plain": [
       "(96,)"
      ]
     },
     "execution_count": 61,
     "metadata": {},
     "output_type": "execute_result"
    }
   ],
   "source": []
  }
 ],
 "metadata": {
  "kernelspec": {
   "display_name": "Python 3",
   "language": "python",
   "name": "python3"
  },
  "language_info": {
   "codemirror_mode": {
    "name": "ipython",
    "version": 3
   },
   "file_extension": ".py",
   "mimetype": "text/x-python",
   "name": "python",
   "nbconvert_exporter": "python",
   "pygments_lexer": "ipython3",
   "version": "3.7.4"
  }
 },
 "nbformat": 4,
 "nbformat_minor": 2
}
