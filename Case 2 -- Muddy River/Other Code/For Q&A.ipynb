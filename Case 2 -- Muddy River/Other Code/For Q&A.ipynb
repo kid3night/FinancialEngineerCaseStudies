{
 "cells": [
  {
   "cell_type": "code",
   "execution_count": 1,
   "metadata": {
    "ExecuteTime": {
     "end_time": "2019-10-10T22:49:07.811986Z",
     "start_time": "2019-10-10T22:49:06.293076Z"
    }
   },
   "outputs": [],
   "source": [
    "import pandas as pd\n",
    "import numpy as np\n",
    "from scipy.stats import norm, uniform\n",
    "import matplotlib.pyplot as plt\n",
    "import seaborn as sns\n",
    "sns.set()\n",
    "plt.rcParams['figure.figsize'] = (15,10)"
   ]
  },
  {
   "cell_type": "code",
   "execution_count": 2,
   "metadata": {
    "ExecuteTime": {
     "end_time": "2019-10-10T22:49:07.819877Z",
     "start_time": "2019-10-10T22:49:07.814523Z"
    }
   },
   "outputs": [],
   "source": [
    "threshold_ = np.load('thres3_1.npy')\n",
    "upper_, lower_ = threshold_[0][:96], threshold_[1][:96]"
   ]
  },
  {
   "cell_type": "code",
   "execution_count": 3,
   "metadata": {
    "ExecuteTime": {
     "end_time": "2019-10-10T22:49:07.834030Z",
     "start_time": "2019-10-10T22:49:07.823273Z"
    }
   },
   "outputs": [],
   "source": [
    "start_cost = 3 * 1000 * 16 * 7.6\n",
    "r = 0.05\n",
    "\n",
    "def R(ss_t):\n",
    "    return (ss_t - 5) * 1000 * 16 * 7.6\n",
    "\n",
    "def Profit(s0, ss0, ss1, upper, lower):\n",
    "    idx_off = (s0 == 0)\n",
    "    idx_on = (s0 == 1)\n",
    "\n",
    "    turn_on = idx_off * (ss0 > upper)\n",
    "    turn_off = idx_on * (ss0 < lower)\n",
    "\n",
    "    profit = R(ss1)\n",
    "    profit[turn_on] = - start_cost\n",
    "    profit[idx_off & (ss0 <= upper)] = 0\n",
    "\n",
    "    action = idx_off * (ss0 > upper) + idx_on * (ss0 >= lower)\n",
    "\n",
    "    return profit, action #action=s1\n",
    "\n",
    "def valuation(power, gas, upper, lower):#power & gas(10000*97);upper & lower(96)\n",
    "    ss = (power - 12 * gas)\n",
    "    n = ss.shape[0]\n",
    "    N = 2 * 12 * 4 #96\n",
    "    s = np.zeros((n,N+1))\n",
    "    V = 0\n",
    "    for i in range(N): #0-95\n",
    "        profit, s[:, i+1] = Profit(s[:,i], ss[:,i], ss[:,i+1], upper[i], lower[i])\n",
    "        V += profit * np.exp(-r*(i+1)/48)\n",
    "    return np.mean(V)"
   ]
  },
  {
   "cell_type": "code",
   "execution_count": 4,
   "metadata": {
    "ExecuteTime": {
     "end_time": "2019-10-10T22:49:07.864426Z",
     "start_time": "2019-10-10T22:49:07.836564Z"
    }
   },
   "outputs": [],
   "source": [
    "def new_path(eval_para_pos, n = 5000):\n",
    "    N = 24\n",
    "    N *= 4\n",
    "    dt = 1/48\n",
    "    thetap1 = [39.28, 40.65, 40.48, 42.75, 46.62, 71.88, 86.92, 103.63, 60.78, 35.55, 39.67, 44.47]\n",
    "    thetag1 = [2.51, 2.49, 2.66, 2.59, 5.28, 6.33, 6.39, 5.93, 3.12, 2.73, 2.02, 3.07]\n",
    "    p_theta_std = np.array([1.45, 1.92, 2.36, 2.65, 5.01, 8.66, 12.21, 13.79, 12.78, 14.01, 12.77, 10.9])\n",
    "    g_theta_std = np.array([0.17, 0.2, 0.28, 0.4, 0.43, 0.67, 0.48, 0.53, 0.45, 0.78, 0.84, 0.71])\n",
    "    variable_list = [7, 20, 3, 75, 0.083, 35, 0, 3, 75, 7.22, 0.3, 28.87, 10.83, np.array(thetap1), np.array(thetag1)]\n",
    "    variables_names = ['alphaCC', 'alphaJC', 'alphaG', \n",
    "                       'spike_mean', 'spike_probability', 'CC0', 'JC0', 'G0',\n",
    "                       'spike_thres', 'sigmaG', 'rho', \n",
    "                       'v_summer', 'v_other', 'PowerTheta', 'GasTheta']\n",
    "    vec_res_p = list()\n",
    "    vec_res_g = list()\n",
    "    month_list = [i for i in range(1, 98)]\n",
    "    num_ses = np.arange(-3, 3.2, 0.2)\n",
    "    len_muls = len(num_ses)\n",
    "    result_ = list()\n",
    "    \n",
    "    for num_se in num_ses:\n",
    "\n",
    "        if eval_para_pos == 0:\n",
    "            new_variable = 7 - num_se * 0.5\n",
    "        if eval_para_pos == 1:\n",
    "            new_variable = 20 - num_se * 1.3\n",
    "        if eval_para_pos == 2:\n",
    "            new_variable = 3 - num_se * 0.2\n",
    "\n",
    "        if eval_para_pos == 3:\n",
    "            new_variable = 75 - num_se * 5\n",
    "        elif eval_para_pos == 4:\n",
    "            new_variable = 0.083 - num_se * 0.005\n",
    "        elif eval_para_pos == 9:\n",
    "            new_variable = 7.22 - num_se * 0.05\n",
    "        elif eval_para_pos == 10:\n",
    "            new_variable = 0.3 - num_se * 0.05\n",
    "        elif eval_para_pos == 11:\n",
    "            new_variable = 28.87 - num_se * 2\n",
    "        elif eval_para_pos == 12:\n",
    "            new_variable = 10.83 - num_se * 2\n",
    "        elif eval_para_pos == 13:\n",
    "            new_variable = variable_list[13] - num_se * p_theta_std \n",
    "        elif eval_para_pos == 14:\n",
    "            new_variable = variable_list[14] - num_se * g_theta_std\n",
    "        else:\n",
    "            new_variable = variable_list[eval_para_pos]\n",
    "\n",
    "        variable_list[eval_para_pos] = new_variable\n",
    "        alphaCC  = variable_list[0]\n",
    "        alphaJC  = variable_list[1]\n",
    "        alphaG  = variable_list[2]\n",
    "        m  = variable_list[3]\n",
    "        p  = variable_list[4]\n",
    "        CC0  = variable_list[5]\n",
    "        JC0  = variable_list[6]\n",
    "        G0  = variable_list[7]\n",
    "        spike_thres  = variable_list[8]\n",
    "        sigmaG  = variable_list[9]/np.sqrt(dt)/100\n",
    "        rho  = variable_list[10]\n",
    "        v_summer  = variable_list[11]/np.sqrt(dt)/100\n",
    "        v_winter  = variable_list[12]/np.sqrt(dt)/100\n",
    "        PowerTheta  = variable_list[13]\n",
    "        GasTheta  = variable_list[14]\n",
    "        \n",
    "        \n",
    "        V = np.zeros((N+1,n))\n",
    "        W = norm.rvs(size = (N+1,n))*np.sqrt(dt)\n",
    "        Wtilde = norm.rvs(size = (N+1,n))*np.sqrt(dt)\n",
    "        B = rho*W + np.sqrt(1-rho**2)*Wtilde\n",
    "\n",
    "        CC = np.zeros((N+1,n)) \n",
    "        CC[0,:] = CC0\n",
    "        JC = np.zeros((N+1,n))\n",
    "        JC[0,:] = JC0\n",
    "        G = np.zeros((N+1,n)) \n",
    "        G[0,:] = G0\n",
    "        PC = np.zeros((N+1,n))\n",
    "        PC[0,:] = CC[0,:]\n",
    "\n",
    "        for i in range(1, N + 1):\n",
    "            month1 = month_list[int(np.ceil(i/4)) - 1] if np.ceil(i/4) <= 12 else month_list[int(np.ceil(i/4)) - 1-12]\n",
    "            monthIndicator = (month1 > 4)&(month1 < 9)\n",
    "\n",
    "            V[i,:] = monthIndicator*v_summer + (1 - monthIndicator)*v_winter\n",
    "            CC[i,:] = alphaCC*(thetap1[month1-1] - CC[i-1,:])*dt + V[i,:]*CC[i-1,:]*W[i,:] + CC[i-1,:]\n",
    "            JC[i,:] = alphaJC*( 0 - JC[i-1,:])*dt + m*(uniform.rvs() < p)+JC[i-1,:]\n",
    "            #Power Price\n",
    "            PC[i,:] = CC[i,:] + JC[i,:]*(PC[i-1,:] > spike_thres)\n",
    "            #Gas Price\n",
    "            G[i,:]  = alphaG*(thetag1[month1-1] - G[i-1,:])*dt + sigmaG * G[i-1,:] * B[i,:] + G[i-1,:]\n",
    "            \n",
    "        result_.append(valuation(PC.T, G.T, upper_, lower_))\n",
    "    results = np.array(result_) / result_[int(len_muls / 2)]\n",
    "\n",
    "    return (variables_names[eval_para_pos], np.mean(np.abs(results - 1)))"
   ]
  },
  {
   "cell_type": "code",
   "execution_count": 5,
   "metadata": {
    "ExecuteTime": {
     "end_time": "2019-10-10T22:49:10.416011Z",
     "start_time": "2019-10-10T22:49:07.867008Z"
    }
   },
   "outputs": [
    {
     "data": {
      "text/plain": [
       "('spike_mean', 0.0996801966980115)"
      ]
     },
     "execution_count": 5,
     "metadata": {},
     "output_type": "execute_result"
    }
   ],
   "source": [
    "new_path(3, 5000)"
   ]
  },
  {
   "cell_type": "code",
   "execution_count": null,
   "metadata": {},
   "outputs": [],
   "source": []
  }
 ],
 "metadata": {
  "kernelspec": {
   "display_name": "Python 3",
   "language": "python",
   "name": "python3"
  },
  "language_info": {
   "codemirror_mode": {
    "name": "ipython",
    "version": 3
   },
   "file_extension": ".py",
   "mimetype": "text/x-python",
   "name": "python",
   "nbconvert_exporter": "python",
   "pygments_lexer": "ipython3",
   "version": "3.7.4"
  }
 },
 "nbformat": 4,
 "nbformat_minor": 2
}
