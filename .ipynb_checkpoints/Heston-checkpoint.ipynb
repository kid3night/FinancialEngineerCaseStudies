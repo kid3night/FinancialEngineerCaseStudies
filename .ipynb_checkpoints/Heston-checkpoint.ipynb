{
 "cells": [
  {
   "cell_type": "code",
   "execution_count": 1,
   "metadata": {},
   "outputs": [],
   "source": [
    "import numpy as np\n",
    "import scipy \n",
    "from scipy import stats\n",
    "from scipy.stats import norm"
   ]
  },
  {
   "cell_type": "code",
   "execution_count": 2,
   "metadata": {},
   "outputs": [
    {
     "data": {
      "text/plain": [
       "18.92496756760282"
      ]
     },
     "execution_count": 2,
     "metadata": {},
     "output_type": "execute_result"
    }
   ],
   "source": [
    "def payoff(S,K):\n",
    "    return np.max(S-K,0)\n",
    "\n",
    "def Milstein( func, S0 = 100, K = 100, r = 0.0411,\n",
    "             eta = 1, lam = 1, rho = 0,vmean = 0.1,\n",
    "             v0 = 0.11,N = 12,n = 100,T = 1):\n",
    "    \n",
    "    # N: number of intervals\n",
    "    # n: number of paths\n",
    "    # T: maturity\n",
    "    dt = float(T/N) #interval of each path\n",
    "    \n",
    "    W = norm.rvs(size = (n,N))*dt\n",
    "    Wtilde = norm.rvs(size = (n,N))*dt\n",
    " \n",
    "    B = rho*W + np.sqrt(1-rho**2)*Wtilde\n",
    "    \n",
    "    V = np.zeros((n,N+1)) # V is our variance \n",
    "    V[:,0] = v0\n",
    "    S = np.zeros((n,N+1)) # S is our stock price\n",
    "    S[:,0] = S0\n",
    "    \n",
    "    \n",
    "    for i in range(1,N+1):\n",
    "        V[:,i] = V[:,i-1] - lam*(V[:,i-1] -vmean)*dt + eta*np.sqrt(V[:,i-1])*B[:,i-1]+0.25*eta**2*(B[:,i-1]**2 - dt)\n",
    "        V[:,i] = np.abs(V[:,i] )\n",
    "        \n",
    "    dlogS = (r - 0.5*V[:,1:])*dt + np.sqrt(V[:,1:])*W\n",
    "    dlogS_sum = np.cumsum(dlogS,axis = 1)\n",
    "    S[:,1:] = S0*np.exp(dlogS_sum)\n",
    "    \n",
    "    price = np.mean(func(S[:,N],K))\n",
    "   \n",
    "    return price\n",
    "\n",
    "Milstein(payoff)"
   ]
  },
  {
   "cell_type": "code",
   "execution_count": null,
   "metadata": {},
   "outputs": [
    {
     "name": "stderr",
     "output_type": "stream",
     "text": [
      "/anaconda3/lib/python3.6/site-packages/ipykernel_launcher.py:16: RuntimeWarning: invalid value encountered in sqrt\n",
      "  app.launch_new_instance()\n"
     ]
    }
   ],
   "source": [
    "\n",
    "import numpy as np\n",
    "from scipy.stats import norm\n",
    "from scipy.optimize import minimize\n",
    "\n",
    "mkt_price = np.array([[6.5757, 2.8223, 0.6335], [8.1165, 4.3850, 1.7263],\n",
    "                      [6.0865, 3.1820, 1.2317], [7.7710, 4.7369, 2.4165]])\n",
    "\n",
    "\n",
    "T = np.repeat(np.array([[0.25], [0.5], [0.75], [1]]), 3, axis=1)\n",
    "K = np.array([np.arange(95, 110, 5), np.arange(95, 110, 5), np.arange(100, 115, 5), np.arange(100, 115, 5)])\n",
    "\n",
    "mkt_price = mkt_price.reshape(-1,1)\n",
    "T = T.reshape(-1,1)\n",
    "K = T.reshape(-1,1)\n",
    "def SV_loss_fun(params,S, T, K, r=0.0411, mkt = mkt_price.reshape(12)):\n",
    "    eta = params[0]\n",
    "    lam = params[1]\n",
    "    rho = params[2]\n",
    "    vmean = params[3]\n",
    "    v0 = 0.2\n",
    "    N = 1000\n",
    "    n = 100\n",
    "    \n",
    "    loss = 0\n",
    "    for i in range(len(T)):\n",
    "        loss += (Milstein(payoff,S,K[i],r,eta,lam,rho,vmean,v0,N,n,T[i]) - mkt[i])**2\n",
    "    \n",
    "    \n",
    "    \n",
    "    return loss\n",
    "\n",
    "def SV_Calibrate(S,T,K,r = 0.0411):\n",
    "    result = minimize(SV_loss_fun,Input,(S,T,K),method ='COBYLA')\n",
    "    return result\n",
    "\n",
    "\n",
    "Input = [1,1,0.5,0.1]\n",
    "parameters = SV_Calibrate(100,T,K)\n",
    "print('eta: ',parameters.x[0],', init: ',Input[0])\n",
    "print('lam: ',parameters.x[1],', init: ',Input[1])\n",
    "print('rho: ',parameters.x[2],', init: ',Input[2])\n",
    "print('mean: ',parameters.x[3],', init: ',Input[3])\n",
    "\n"
   ]
  },
  {
   "cell_type": "markdown",
   "metadata": {},
   "source": [
    "\n",
    "CG:"
   ]
  },
  {
   "cell_type": "code",
   "execution_count": null,
   "metadata": {},
   "outputs": [],
   "source": []
  }
 ],
 "metadata": {
  "kernelspec": {
   "display_name": "Python 3",
   "language": "python",
   "name": "python3"
  },
  "language_info": {
   "codemirror_mode": {
    "name": "ipython",
    "version": 3
   },
   "file_extension": ".py",
   "mimetype": "text/x-python",
   "name": "python",
   "nbconvert_exporter": "python",
   "pygments_lexer": "ipython3",
   "version": "3.6.8"
  }
 },
 "nbformat": 4,
 "nbformat_minor": 2
}
